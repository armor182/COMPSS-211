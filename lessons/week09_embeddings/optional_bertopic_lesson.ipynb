{
 "cells": [
  {
   "cell_type": "markdown",
   "id": "0c6fcb1a-7bb6-47f6-af4b-3a3e94a7c91e",
   "metadata": {
    "id": "WClw_VPOmwXd"
   },
   "source": [
    "# Topic Modeling With BERTopic\n",
    "\n",
    "* * * \n",
    "\n",
    "<div class=\"alert alert-success\">  \n",
    "    \n",
    "### Learning Objectives \n",
    "    \n",
    "* Use BERTopic to group r/AmItheAsshole submissions by the issues people write about.\n",
    "* Interpret and visualize the topics found by the model.\n",
    "* Try out ways to improve or simplify the model when topics overlap too much or don’t make sense.\n",
    "* Practice naming and describing topics, and using them to organize or classify new text.\n",
    "</div>\n",
    "\n",
    "### Icons Used in This Notebook\n",
    "💡 **Tip**: How to do something a bit more efficiently or effectively.<br>\n",
    "⚠️ **Warning:** Heads-up about tricky stuff or common mistakes.<br>\n",
    "💭 **Reflection**: Reflecting on ethical implications, biases, and social impact in data science.<br>\n",
    "\n",
    "### Sections\n",
    "1. [Topic Modeling with BERTopic](#topic)\n",
    "2. [Explore Selected Topics](#explore)\n",
    "3. [Reducing Overlap](#reduce)\n",
    "4. [Finding Representative Posts](#repr)\n"
   ]
  },
  {
   "cell_type": "markdown",
   "id": "a5284942",
   "metadata": {},
   "source": [
    "<a id='topic'></a>\n",
    "\n",
    "# Topic Modeling with BERTopic\n",
    "\n",
    "In this optional notebook, we explore **BERTopic**, a topic modeling tool that leverages BERT embeddings and [c-TF-IDF](https://maartengr.github.io/BERTopic/api/ctfidf.html), to extract topics.\n",
    "\n",
    "## About BERT Embeddings\n",
    "BERT embeddings are vector representations of text created by the BERT model, which is a large transformer-based neural network trained to understand language context. Unlike traditional word embeddings (like word2vec), BERT creates contextual embeddings. That means the same word will have different vector representations depending on its surrounding words. BERT processes entire sentences at once, using its attention mechanism to capture meaning and relationships between words.\n",
    "\n",
    "BERTopic works as follows:\n",
    "\n",
    "- **Understands text using BERT:**  \n",
    "Instead of just counting words, BERTopic uses a language model (BERT or similar) to turn each document into a “vector”—a list of numbers that captures its meaning and context. This makes it better at grouping together texts that talk about similar things, even if they use different words.\n",
    "\n",
    "- **Clusters similar documents:**  \n",
    "BERTopic then looks for clusters (groups) of documents that are close to each other in this vector space. It uses an algorithm called **HDBSCAN** that decides, based on the data, how many clusters (topics) make sense. This means you don’t have to guess the number of topics in advance.\n",
    "\n",
    "- **Finds key words for each topic:**  \n",
    "For every cluster it finds, BERTopic looks for the most important words that make this group unique compared to the rest of your data. These words help you quickly understand what each topic is about.\n",
    "\n",
    "- **Visualizes topics and documents:**  \n",
    "BERTopic comes with interactive tools to show you how your topics relate to each other, how common each topic is, and where your documents fit in."
   ]
  },
  {
   "cell_type": "markdown",
   "id": "9627a32f-e19d-4142-ba09-7ed81a4fe2ce",
   "metadata": {},
   "source": [
    "### Note on package installation\n",
    "This cell makes sure all the Python packages needed for this lesson are installed.\n",
    "Running this cell will check for each package and install it if it’s missing, so your notebook runs smoothly."
   ]
  },
  {
   "cell_type": "code",
   "execution_count": 5,
   "id": "0c2f05b1-a24a-4674-8ae5-643f134b68c6",
   "metadata": {
    "scrolled": true
   },
   "outputs": [
    {
     "name": "stdout",
     "output_type": "stream",
     "text": [
      "Collecting bertopic\n",
      "  Using cached bertopic-0.17.0-py3-none-any.whl.metadata (23 kB)\n",
      "Collecting hdbscan>=0.8.29 (from bertopic)\n",
      "  Using cached hdbscan-0.8.40-cp310-cp310-macosx_11_0_arm64.whl\n",
      "Requirement already satisfied: numpy>=1.20.0 in /Users/tomvannuenen/anaconda3/envs/dlab/lib/python3.10/site-packages (from bertopic) (1.26.4)\n",
      "Requirement already satisfied: pandas>=1.1.5 in /Users/tomvannuenen/anaconda3/envs/dlab/lib/python3.10/site-packages (from bertopic) (2.2.3)\n",
      "Requirement already satisfied: plotly>=4.7.0 in /Users/tomvannuenen/anaconda3/envs/dlab/lib/python3.10/site-packages (from bertopic) (6.1.2)\n",
      "Requirement already satisfied: scikit-learn>=1.0 in /Users/tomvannuenen/anaconda3/envs/dlab/lib/python3.10/site-packages (from bertopic) (1.6.1)\n",
      "Requirement already satisfied: sentence-transformers>=0.4.1 in /Users/tomvannuenen/anaconda3/envs/dlab/lib/python3.10/site-packages (from bertopic) (4.1.0)\n",
      "Requirement already satisfied: tqdm>=4.41.1 in /Users/tomvannuenen/anaconda3/envs/dlab/lib/python3.10/site-packages (from bertopic) (4.65.0)\n",
      "Requirement already satisfied: umap-learn>=0.5.0 in /Users/tomvannuenen/anaconda3/envs/dlab/lib/python3.10/site-packages (from bertopic) (0.5.7)\n",
      "Requirement already satisfied: scipy>=1.0 in /Users/tomvannuenen/anaconda3/envs/dlab/lib/python3.10/site-packages (from hdbscan>=0.8.29->bertopic) (1.15.2)\n",
      "Requirement already satisfied: joblib>=1.0 in /Users/tomvannuenen/anaconda3/envs/dlab/lib/python3.10/site-packages (from hdbscan>=0.8.29->bertopic) (1.3.1)\n",
      "Requirement already satisfied: python-dateutil>=2.8.2 in /Users/tomvannuenen/anaconda3/envs/dlab/lib/python3.10/site-packages (from pandas>=1.1.5->bertopic) (2.8.2)\n",
      "Requirement already satisfied: pytz>=2020.1 in /Users/tomvannuenen/anaconda3/envs/dlab/lib/python3.10/site-packages (from pandas>=1.1.5->bertopic) (2022.7)\n",
      "Requirement already satisfied: tzdata>=2022.7 in /Users/tomvannuenen/anaconda3/envs/dlab/lib/python3.10/site-packages (from pandas>=1.1.5->bertopic) (2023.3)\n",
      "Requirement already satisfied: narwhals>=1.15.1 in /Users/tomvannuenen/anaconda3/envs/dlab/lib/python3.10/site-packages (from plotly>=4.7.0->bertopic) (1.41.0)\n",
      "Requirement already satisfied: packaging in /Users/tomvannuenen/anaconda3/envs/dlab/lib/python3.10/site-packages (from plotly>=4.7.0->bertopic) (25.0)\n",
      "Requirement already satisfied: six>=1.5 in /Users/tomvannuenen/anaconda3/envs/dlab/lib/python3.10/site-packages (from python-dateutil>=2.8.2->pandas>=1.1.5->bertopic) (1.16.0)\n",
      "Requirement already satisfied: threadpoolctl>=3.1.0 in /Users/tomvannuenen/anaconda3/envs/dlab/lib/python3.10/site-packages (from scikit-learn>=1.0->bertopic) (3.2.0)\n",
      "Requirement already satisfied: transformers<5.0.0,>=4.41.0 in /Users/tomvannuenen/anaconda3/envs/dlab/lib/python3.10/site-packages (from sentence-transformers>=0.4.1->bertopic) (4.51.3)\n",
      "Requirement already satisfied: torch>=1.11.0 in /Users/tomvannuenen/anaconda3/envs/dlab/lib/python3.10/site-packages (from sentence-transformers>=0.4.1->bertopic) (2.1.1)\n",
      "Requirement already satisfied: huggingface-hub>=0.20.0 in /Users/tomvannuenen/anaconda3/envs/dlab/lib/python3.10/site-packages (from sentence-transformers>=0.4.1->bertopic) (0.31.2)\n",
      "Requirement already satisfied: Pillow in /Users/tomvannuenen/anaconda3/envs/dlab/lib/python3.10/site-packages (from sentence-transformers>=0.4.1->bertopic) (10.0.0)\n",
      "Requirement already satisfied: typing_extensions>=4.5.0 in /Users/tomvannuenen/anaconda3/envs/dlab/lib/python3.10/site-packages (from sentence-transformers>=0.4.1->bertopic) (4.13.2)\n",
      "Requirement already satisfied: filelock in /Users/tomvannuenen/anaconda3/envs/dlab/lib/python3.10/site-packages (from transformers<5.0.0,>=4.41.0->sentence-transformers>=0.4.1->bertopic) (3.13.1)\n",
      "Requirement already satisfied: pyyaml>=5.1 in /Users/tomvannuenen/anaconda3/envs/dlab/lib/python3.10/site-packages (from transformers<5.0.0,>=4.41.0->sentence-transformers>=0.4.1->bertopic) (6.0.1)\n",
      "Requirement already satisfied: regex!=2019.12.17 in /Users/tomvannuenen/anaconda3/envs/dlab/lib/python3.10/site-packages (from transformers<5.0.0,>=4.41.0->sentence-transformers>=0.4.1->bertopic) (2023.6.3)\n",
      "Requirement already satisfied: requests in /Users/tomvannuenen/anaconda3/envs/dlab/lib/python3.10/site-packages (from transformers<5.0.0,>=4.41.0->sentence-transformers>=0.4.1->bertopic) (2.32.3)\n",
      "Requirement already satisfied: tokenizers<0.22,>=0.21 in /Users/tomvannuenen/anaconda3/envs/dlab/lib/python3.10/site-packages (from transformers<5.0.0,>=4.41.0->sentence-transformers>=0.4.1->bertopic) (0.21.1)\n",
      "Requirement already satisfied: safetensors>=0.4.3 in /Users/tomvannuenen/anaconda3/envs/dlab/lib/python3.10/site-packages (from transformers<5.0.0,>=4.41.0->sentence-transformers>=0.4.1->bertopic) (0.5.3)\n",
      "Requirement already satisfied: fsspec>=2023.5.0 in /Users/tomvannuenen/anaconda3/envs/dlab/lib/python3.10/site-packages (from huggingface-hub>=0.20.0->sentence-transformers>=0.4.1->bertopic) (2023.12.1)\n",
      "Requirement already satisfied: sympy in /Users/tomvannuenen/anaconda3/envs/dlab/lib/python3.10/site-packages (from torch>=1.11.0->sentence-transformers>=0.4.1->bertopic) (1.12)\n",
      "Requirement already satisfied: networkx in /Users/tomvannuenen/anaconda3/envs/dlab/lib/python3.10/site-packages (from torch>=1.11.0->sentence-transformers>=0.4.1->bertopic) (3.4.2)\n",
      "Requirement already satisfied: jinja2 in /Users/tomvannuenen/anaconda3/envs/dlab/lib/python3.10/site-packages (from torch>=1.11.0->sentence-transformers>=0.4.1->bertopic) (3.1.2)\n",
      "Requirement already satisfied: numba>=0.51.2 in /Users/tomvannuenen/anaconda3/envs/dlab/lib/python3.10/site-packages (from umap-learn>=0.5.0->bertopic) (0.61.2)\n",
      "Requirement already satisfied: pynndescent>=0.5 in /Users/tomvannuenen/anaconda3/envs/dlab/lib/python3.10/site-packages (from umap-learn>=0.5.0->bertopic) (0.5.13)\n",
      "Requirement already satisfied: llvmlite<0.45,>=0.44.0dev0 in /Users/tomvannuenen/anaconda3/envs/dlab/lib/python3.10/site-packages (from numba>=0.51.2->umap-learn>=0.5.0->bertopic) (0.44.0)\n",
      "Requirement already satisfied: MarkupSafe>=2.0 in /Users/tomvannuenen/anaconda3/envs/dlab/lib/python3.10/site-packages (from jinja2->torch>=1.11.0->sentence-transformers>=0.4.1->bertopic) (2.1.3)\n",
      "Requirement already satisfied: charset-normalizer<4,>=2 in /Users/tomvannuenen/anaconda3/envs/dlab/lib/python3.10/site-packages (from requests->transformers<5.0.0,>=4.41.0->sentence-transformers>=0.4.1->bertopic) (3.2.0)\n",
      "Requirement already satisfied: idna<4,>=2.5 in /Users/tomvannuenen/anaconda3/envs/dlab/lib/python3.10/site-packages (from requests->transformers<5.0.0,>=4.41.0->sentence-transformers>=0.4.1->bertopic) (3.4)\n",
      "Requirement already satisfied: urllib3<3,>=1.21.1 in /Users/tomvannuenen/anaconda3/envs/dlab/lib/python3.10/site-packages (from requests->transformers<5.0.0,>=4.41.0->sentence-transformers>=0.4.1->bertopic) (2.4.0)\n",
      "Requirement already satisfied: certifi>=2017.4.17 in /Users/tomvannuenen/anaconda3/envs/dlab/lib/python3.10/site-packages (from requests->transformers<5.0.0,>=4.41.0->sentence-transformers>=0.4.1->bertopic) (2023.7.22)\n",
      "Requirement already satisfied: mpmath>=0.19 in /Users/tomvannuenen/anaconda3/envs/dlab/lib/python3.10/site-packages (from sympy->torch>=1.11.0->sentence-transformers>=0.4.1->bertopic) (1.3.0)\n",
      "Using cached bertopic-0.17.0-py3-none-any.whl (150 kB)\n",
      "Installing collected packages: hdbscan, bertopic\n",
      "\u001b[2K   \u001b[38;2;114;156;31m━━━━━━━━━━━━━━━━━━━━━━━━━━━━━━━━━━━━━━━━\u001b[0m \u001b[32m2/2\u001b[0m [bertopic]\n",
      "\u001b[1A\u001b[2KSuccessfully installed bertopic-0.17.0 hdbscan-0.8.40\n",
      "Note: you may need to restart the kernel to use updated packages.\n"
     ]
    }
   ],
   "source": [
    "# restart kernel after running\n",
    "#%pip install bertopic "
   ]
  },
  {
   "cell_type": "markdown",
   "id": "e594d769-c506-4e88-8894-82d4884ebd0c",
   "metadata": {},
   "source": [
    "**Note: this notebook might not work on your local machine depending on your system architecture. It should work on codespace, however.**"
   ]
  },
  {
   "cell_type": "markdown",
   "id": "dc10a312",
   "metadata": {},
   "source": [
    "## Loading the Data"
   ]
  },
  {
   "cell_type": "code",
   "execution_count": 3,
   "id": "494edbd5",
   "metadata": {},
   "outputs": [],
   "source": [
    "import pandas as pd\n",
    "\n",
    "# Load your preprocessed AITA CSV (change the filename if needed)\n",
    "df = pd.read_csv('../../data/aita_top_subs.csv')"
   ]
  },
  {
   "cell_type": "code",
   "execution_count": 4,
   "id": "ff2c73f5",
   "metadata": {},
   "outputs": [],
   "source": [
    "df = df[~df['selftext'].isin(['[deleted]', '[removed]'])].reset_index(drop=True)"
   ]
  },
  {
   "cell_type": "code",
   "execution_count": 8,
   "id": "d4ac4a1a",
   "metadata": {},
   "outputs": [],
   "source": [
    "import spacy\n",
    "# run the following if you don't have en_core_web_sm yet\n",
    "# !python -m spacy download en_core_web_sm\n",
    "\n",
    "nlp = spacy.load(\"en_core_web_sm\")\n",
    "\n",
    "def preprocess(text):\n",
    "    if not isinstance(text, str):\n",
    "        return \"\"\n",
    "    doc = nlp(text)\n",
    "    tokens = [\n",
    "        token.lemma_.lower()\n",
    "        for token in doc\n",
    "        if not token.is_stop and not token.is_punct and token.is_alpha\n",
    "    ]\n",
    "    return \" \".join(tokens)\n",
    "\n",
    "df['selftext_clean'] = df['selftext'].apply(preprocess)"
   ]
  },
  {
   "cell_type": "code",
   "execution_count": 9,
   "id": "fe5846e7",
   "metadata": {},
   "outputs": [],
   "source": [
    "docs = df['selftext_clean'].tolist()"
   ]
  },
  {
   "cell_type": "markdown",
   "id": "75adbfd2",
   "metadata": {},
   "source": [
    "## Build and Fit BERTopic Model\n",
    "We'll use default settings first. This may take a few minutes."
   ]
  },
  {
   "cell_type": "code",
   "execution_count": 10,
   "id": "b57314f0",
   "metadata": {},
   "outputs": [
    {
     "name": "stderr",
     "output_type": "stream",
     "text": [
      "2025-08-22 15:35:13,067 - BERTopic - Embedding - Transforming documents to embeddings.\n"
     ]
    },
    {
     "data": {
      "application/vnd.jupyter.widget-view+json": {
       "model_id": "9541ae0c208e4382998eb628d0ef76d7",
       "version_major": 2,
       "version_minor": 0
      },
      "text/plain": [
       "Batches:   0%|          | 0/32 [00:00<?, ?it/s]"
      ]
     },
     "metadata": {},
     "output_type": "display_data"
    },
    {
     "name": "stderr",
     "output_type": "stream",
     "text": [
      "2025-08-22 15:35:18,677 - BERTopic - Embedding - Completed ✓\n",
      "2025-08-22 15:35:18,678 - BERTopic - Dimensionality - Fitting the dimensionality reduction algorithm\n",
      "2025-08-22 15:35:23,447 - BERTopic - Dimensionality - Completed ✓\n",
      "2025-08-22 15:35:23,448 - BERTopic - Cluster - Start clustering the reduced embeddings\n",
      "2025-08-22 15:35:23,471 - BERTopic - Cluster - Completed ✓\n",
      "2025-08-22 15:35:23,476 - BERTopic - Representation - Fine-tuning topics using representation models.\n",
      "2025-08-22 15:35:23,550 - BERTopic - Representation - Completed ✓\n"
     ]
    }
   ],
   "source": [
    "from bertopic import BERTopic\n",
    "\n",
    "# Use only a subset for demo to avoid memory errors\n",
    "docs_sample = docs[:1000]\n",
    "\n",
    "topic_model = BERTopic(verbose=True)\n",
    "topics, probabilities = topic_model.fit_transform(docs_sample)"
   ]
  },
  {
   "cell_type": "markdown",
   "id": "ee180901",
   "metadata": {},
   "source": [
    "<a id='explore'></a>\n",
    "\n",
    "# Explore Extracted Topics\n",
    "View topic frequencies and the top words per topic."
   ]
  },
  {
   "cell_type": "code",
   "execution_count": 11,
   "id": "1399477e",
   "metadata": {},
   "outputs": [
    {
     "data": {
      "text/html": [
       "<div>\n",
       "<style scoped>\n",
       "    .dataframe tbody tr th:only-of-type {\n",
       "        vertical-align: middle;\n",
       "    }\n",
       "\n",
       "    .dataframe tbody tr th {\n",
       "        vertical-align: top;\n",
       "    }\n",
       "\n",
       "    .dataframe thead th {\n",
       "        text-align: right;\n",
       "    }\n",
       "</style>\n",
       "<table border=\"1\" class=\"dataframe\">\n",
       "  <thead>\n",
       "    <tr style=\"text-align: right;\">\n",
       "      <th></th>\n",
       "      <th>Topic</th>\n",
       "      <th>Count</th>\n",
       "      <th>Name</th>\n",
       "      <th>Representation</th>\n",
       "      <th>Representative_Docs</th>\n",
       "    </tr>\n",
       "  </thead>\n",
       "  <tbody>\n",
       "    <tr>\n",
       "      <th>0</th>\n",
       "      <td>-1</td>\n",
       "      <td>462</td>\n",
       "      <td>-1_say_tell_get_want</td>\n",
       "      <td>[say, tell, get, want, like, go, ask, know, ti...</td>\n",
       "      <td>[like say original r amitheasshole comment get...</td>\n",
       "    </tr>\n",
       "    <tr>\n",
       "      <th>1</th>\n",
       "      <td>0</td>\n",
       "      <td>117</td>\n",
       "      <td>0_son_tell_daughter_wife</td>\n",
       "      <td>[son, tell, daughter, wife, year, want, say, p...</td>\n",
       "      <td>[son bear year old single dad hard live long t...</td>\n",
       "    </tr>\n",
       "    <tr>\n",
       "      <th>2</th>\n",
       "      <td>1</td>\n",
       "      <td>73</td>\n",
       "      <td>1_friend_say_like_think</td>\n",
       "      <td>[friend, say, like, think, ask, go, get, tell,...</td>\n",
       "      <td>[couple year ago crush girl high school know f...</td>\n",
       "    </tr>\n",
       "    <tr>\n",
       "      <th>3</th>\n",
       "      <td>2</td>\n",
       "      <td>47</td>\n",
       "      <td>2_baby_son_tell_husband</td>\n",
       "      <td>[baby, son, tell, husband, say, want, mother, ...</td>\n",
       "      <td>[sister n get pregnant infertile know kid n sa...</td>\n",
       "    </tr>\n",
       "    <tr>\n",
       "      <th>4</th>\n",
       "      <td>3</td>\n",
       "      <td>41</td>\n",
       "      <td>3_brother_parent_sister_say</td>\n",
       "      <td>[brother, parent, sister, say, tell, family, g...</td>\n",
       "      <td>[old brother sister note age difference dad pa...</td>\n",
       "    </tr>\n",
       "    <tr>\n",
       "      <th>5</th>\n",
       "      <td>4</td>\n",
       "      <td>39</td>\n",
       "      <td>4_wedding_say_want_dress</td>\n",
       "      <td>[wedding, say, want, dress, family, fiance, te...</td>\n",
       "      <td>[getting marry month send wedding invitation r...</td>\n",
       "    </tr>\n",
       "    <tr>\n",
       "      <th>6</th>\n",
       "      <td>5</td>\n",
       "      <td>38</td>\n",
       "      <td>5_ex_go_tell_boyfriend</td>\n",
       "      <td>[ex, go, tell, boyfriend, know, say, want, yea...</td>\n",
       "      <td>[see couple therapist boyfriend session refuse...</td>\n",
       "    </tr>\n",
       "    <tr>\n",
       "      <th>7</th>\n",
       "      <td>6</td>\n",
       "      <td>37</td>\n",
       "      <td>6_eat_food_vegan_meat</td>\n",
       "      <td>[eat, food, vegan, meat, cook, say, recipe, go...</td>\n",
       "      <td>[daughter vegan year husband brother m try sup...</td>\n",
       "    </tr>\n",
       "    <tr>\n",
       "      <th>8</th>\n",
       "      <td>7</td>\n",
       "      <td>34</td>\n",
       "      <td>7_say_husband_work_tell</td>\n",
       "      <td>[say, husband, work, tell, time, ask, like, ge...</td>\n",
       "      <td>[m wife year habit make look bad finance spend...</td>\n",
       "    </tr>\n",
       "    <tr>\n",
       "      <th>9</th>\n",
       "      <td>8</td>\n",
       "      <td>24</td>\n",
       "      <td>8_house_neighbor_door_plant</td>\n",
       "      <td>[house, neighbor, door, plant, tell, hoa, back...</td>\n",
       "      <td>[catch neighbor spray weedicide lawn fenced ba...</td>\n",
       "    </tr>\n",
       "  </tbody>\n",
       "</table>\n",
       "</div>"
      ],
      "text/plain": [
       "   Topic  Count                         Name  \\\n",
       "0     -1    462         -1_say_tell_get_want   \n",
       "1      0    117     0_son_tell_daughter_wife   \n",
       "2      1     73      1_friend_say_like_think   \n",
       "3      2     47      2_baby_son_tell_husband   \n",
       "4      3     41  3_brother_parent_sister_say   \n",
       "5      4     39     4_wedding_say_want_dress   \n",
       "6      5     38       5_ex_go_tell_boyfriend   \n",
       "7      6     37        6_eat_food_vegan_meat   \n",
       "8      7     34      7_say_husband_work_tell   \n",
       "9      8     24  8_house_neighbor_door_plant   \n",
       "\n",
       "                                      Representation  \\\n",
       "0  [say, tell, get, want, like, go, ask, know, ti...   \n",
       "1  [son, tell, daughter, wife, year, want, say, p...   \n",
       "2  [friend, say, like, think, ask, go, get, tell,...   \n",
       "3  [baby, son, tell, husband, say, want, mother, ...   \n",
       "4  [brother, parent, sister, say, tell, family, g...   \n",
       "5  [wedding, say, want, dress, family, fiance, te...   \n",
       "6  [ex, go, tell, boyfriend, know, say, want, yea...   \n",
       "7  [eat, food, vegan, meat, cook, say, recipe, go...   \n",
       "8  [say, husband, work, tell, time, ask, like, ge...   \n",
       "9  [house, neighbor, door, plant, tell, hoa, back...   \n",
       "\n",
       "                                 Representative_Docs  \n",
       "0  [like say original r amitheasshole comment get...  \n",
       "1  [son bear year old single dad hard live long t...  \n",
       "2  [couple year ago crush girl high school know f...  \n",
       "3  [sister n get pregnant infertile know kid n sa...  \n",
       "4  [old brother sister note age difference dad pa...  \n",
       "5  [getting marry month send wedding invitation r...  \n",
       "6  [see couple therapist boyfriend session refuse...  \n",
       "7  [daughter vegan year husband brother m try sup...  \n",
       "8  [m wife year habit make look bad finance spend...  \n",
       "9  [catch neighbor spray weedicide lawn fenced ba...  "
      ]
     },
     "execution_count": 11,
     "metadata": {},
     "output_type": "execute_result"
    }
   ],
   "source": [
    "topic_info = topic_model.get_topic_info()\n",
    "topic_info.head(10)"
   ]
  },
  {
   "cell_type": "markdown",
   "id": "bf5039ee-9391-41d3-bca6-34856275921e",
   "metadata": {},
   "source": [
    "💡 **Tip**: Topic -1 in BERTopic is a “catch-all” for documents that don’t fit into any meaningful cluster.\n",
    "\n",
    "This works as follows:\n",
    "- HDBSCAN (the clustering algorithm) automatically labels “noise” or “outlier” documents with -1.\n",
    "- These are typically posts that are too unique, too generic, or just don’t belong to any clear topic group.\n",
    "- Including topic -1 in your list of topics will show a “topic” that’s not really coherent, and the top words for -1 are usually either very generic or meaningless.\n",
    "- Most users ignore topic -1 when reviewing topics and top words, focusing only on the numbered topics (0, 1, 2, …)."
   ]
  },
  {
   "cell_type": "code",
   "execution_count": 12,
   "id": "d99db09d-fb47-458e-bd6a-fadd00bbbb20",
   "metadata": {},
   "outputs": [
    {
     "data": {
      "text/plain": [
       "(15, 5)"
      ]
     },
     "execution_count": 12,
     "metadata": {},
     "output_type": "execute_result"
    }
   ],
   "source": [
    "# How many topics do we have?\n",
    "topic_info.shape"
   ]
  },
  {
   "cell_type": "code",
   "execution_count": 13,
   "id": "6a1eacdb",
   "metadata": {},
   "outputs": [
    {
     "data": {
      "text/plain": [
       "[('son', 0.04011106677486849),\n",
       " ('tell', 0.031634357316738575),\n",
       " ('daughter', 0.030189230131709734),\n",
       " ('wife', 0.02783251958047123),\n",
       " ('year', 0.025064361655064437),\n",
       " ('want', 0.0250546105085627),\n",
       " ('say', 0.023490466213108026),\n",
       " ('pay', 0.02181377302963126),\n",
       " ('money', 0.021728863576916575),\n",
       " ('time', 0.020978614359724698)]"
      ]
     },
     "execution_count": 13,
     "metadata": {},
     "output_type": "execute_result"
    }
   ],
   "source": [
    "# Show top words for topic 0\n",
    "topic_model.get_topic(0)"
   ]
  },
  {
   "cell_type": "markdown",
   "id": "d5caa942",
   "metadata": {},
   "source": [
    "## Intertopic Distance Map\n",
    "The `visualize_topics` function visualizes topics and their similarity in an interactive plot. We're also saving it to disk so it can be embedded on a website."
   ]
  },
  {
   "cell_type": "code",
   "execution_count": 15,
   "id": "272de809",
   "metadata": {},
   "outputs": [
    {
     "data": {
      "application/vnd.plotly.v1+json": {
       "config": {
        "plotlyServerURL": "https://plot.ly"
       },
       "data": [
        {
         "customdata": [
          [
           0,
           "son | tell | daughter | wife | year",
           117
          ],
          [
           1,
           "friend | say | like | think | ask",
           73
          ],
          [
           2,
           "baby | son | tell | husband | say",
           47
          ],
          [
           3,
           "brother | parent | sister | say | tell",
           41
          ],
          [
           4,
           "wedding | say | want | dress | family",
           39
          ],
          [
           5,
           "ex | go | tell | boyfriend | know",
           38
          ],
          [
           6,
           "eat | food | vegan | meat | cook",
           37
          ],
          [
           7,
           "say | husband | work | tell | time",
           34
          ],
          [
           8,
           "house | neighbor | door | plant | tell",
           24
          ],
          [
           9,
           "brother | sister | get | tell | dad",
           20
          ],
          [
           10,
           "jim | family | go | want | throwaway",
           20
          ],
          [
           11,
           "work | speak | colleague | french | say",
           20
          ],
          [
           12,
           "dad | mom | adam | want | joe",
           15
          ],
          [
           13,
           "teacher | principal | school | say | egg",
           13
          ]
         ],
         "hovertemplate": "<b>Topic %{customdata[0]}</b><br>%{customdata[1]}<br>Size: %{customdata[2]}",
         "legendgroup": "",
         "marker": {
          "color": "#B0BEC5",
          "line": {
           "color": "DarkSlateGrey",
           "width": 2
          },
          "size": {
           "bdata": "dUkvKScmJSIYFBQUDw0=",
           "dtype": "i1"
          },
          "sizemode": "area",
          "sizeref": 0.073125,
          "symbol": "circle"
         },
         "mode": "markers",
         "name": "",
         "orientation": "v",
         "showlegend": false,
         "type": "scatter",
         "x": {
          "bdata": "DKi8QZtWr79CwMFB3xG/QeThlkBVfYO/awVxQDm4cUDKM+S/kjaNv5xMikAttIZAH0rCQT6IU78=",
          "dtype": "f4"
         },
         "xaxis": "x",
         "y": {
          "bdata": "VZV4wPGyt0E1gHnAnCVLwKv8JUDdf7ZB/2d4QChjVUDik7ZBUoyvQeynLkCVoWRAIpFcwCHbq0E=",
          "dtype": "f4"
         },
         "yaxis": "y"
        }
       ],
       "layout": {
        "annotations": [
         {
          "showarrow": false,
          "text": "D1",
          "x": -2.0502550482749937,
          "y": 10.961756068468095,
          "yshift": 10
         },
         {
          "showarrow": false,
          "text": "D2",
          "x": 12.939432841539382,
          "xshift": 10,
          "y": 26.406729793548585
         }
        ],
        "height": 650,
        "hoverlabel": {
         "bgcolor": "white",
         "font": {
          "family": "Rockwell",
          "size": 16
         }
        },
        "legend": {
         "itemsizing": "constant",
         "tracegroupgap": 0
        },
        "margin": {
         "t": 60
        },
        "shapes": [
         {
          "line": {
           "color": "#CFD8DC",
           "width": 2
          },
          "type": "line",
          "x0": 12.939432841539382,
          "x1": 12.939432841539382,
          "y0": -4.483217656612396,
          "y1": 26.406729793548585
         },
         {
          "line": {
           "color": "#9E9E9E",
           "width": 2
          },
          "type": "line",
          "x0": -2.0502550482749937,
          "x1": 27.92912073135376,
          "y0": 10.961756068468095,
          "y1": 10.961756068468095
         }
        ],
        "sliders": [
         {
          "active": 0,
          "pad": {
           "t": 50
          },
          "steps": [
           {
            "args": [
             {
              "marker.color": [
               [
                "red",
                "#B0BEC5",
                "#B0BEC5",
                "#B0BEC5",
                "#B0BEC5",
                "#B0BEC5",
                "#B0BEC5",
                "#B0BEC5",
                "#B0BEC5",
                "#B0BEC5",
                "#B0BEC5",
                "#B0BEC5",
                "#B0BEC5",
                "#B0BEC5"
               ]
              ]
             }
            ],
            "label": "Topic 0",
            "method": "update"
           },
           {
            "args": [
             {
              "marker.color": [
               [
                "#B0BEC5",
                "red",
                "#B0BEC5",
                "#B0BEC5",
                "#B0BEC5",
                "#B0BEC5",
                "#B0BEC5",
                "#B0BEC5",
                "#B0BEC5",
                "#B0BEC5",
                "#B0BEC5",
                "#B0BEC5",
                "#B0BEC5",
                "#B0BEC5"
               ]
              ]
             }
            ],
            "label": "Topic 1",
            "method": "update"
           },
           {
            "args": [
             {
              "marker.color": [
               [
                "#B0BEC5",
                "#B0BEC5",
                "red",
                "#B0BEC5",
                "#B0BEC5",
                "#B0BEC5",
                "#B0BEC5",
                "#B0BEC5",
                "#B0BEC5",
                "#B0BEC5",
                "#B0BEC5",
                "#B0BEC5",
                "#B0BEC5",
                "#B0BEC5"
               ]
              ]
             }
            ],
            "label": "Topic 2",
            "method": "update"
           },
           {
            "args": [
             {
              "marker.color": [
               [
                "#B0BEC5",
                "#B0BEC5",
                "#B0BEC5",
                "red",
                "#B0BEC5",
                "#B0BEC5",
                "#B0BEC5",
                "#B0BEC5",
                "#B0BEC5",
                "#B0BEC5",
                "#B0BEC5",
                "#B0BEC5",
                "#B0BEC5",
                "#B0BEC5"
               ]
              ]
             }
            ],
            "label": "Topic 3",
            "method": "update"
           },
           {
            "args": [
             {
              "marker.color": [
               [
                "#B0BEC5",
                "#B0BEC5",
                "#B0BEC5",
                "#B0BEC5",
                "red",
                "#B0BEC5",
                "#B0BEC5",
                "#B0BEC5",
                "#B0BEC5",
                "#B0BEC5",
                "#B0BEC5",
                "#B0BEC5",
                "#B0BEC5",
                "#B0BEC5"
               ]
              ]
             }
            ],
            "label": "Topic 4",
            "method": "update"
           },
           {
            "args": [
             {
              "marker.color": [
               [
                "#B0BEC5",
                "#B0BEC5",
                "#B0BEC5",
                "#B0BEC5",
                "#B0BEC5",
                "red",
                "#B0BEC5",
                "#B0BEC5",
                "#B0BEC5",
                "#B0BEC5",
                "#B0BEC5",
                "#B0BEC5",
                "#B0BEC5",
                "#B0BEC5"
               ]
              ]
             }
            ],
            "label": "Topic 5",
            "method": "update"
           },
           {
            "args": [
             {
              "marker.color": [
               [
                "#B0BEC5",
                "#B0BEC5",
                "#B0BEC5",
                "#B0BEC5",
                "#B0BEC5",
                "#B0BEC5",
                "red",
                "#B0BEC5",
                "#B0BEC5",
                "#B0BEC5",
                "#B0BEC5",
                "#B0BEC5",
                "#B0BEC5",
                "#B0BEC5"
               ]
              ]
             }
            ],
            "label": "Topic 6",
            "method": "update"
           },
           {
            "args": [
             {
              "marker.color": [
               [
                "#B0BEC5",
                "#B0BEC5",
                "#B0BEC5",
                "#B0BEC5",
                "#B0BEC5",
                "#B0BEC5",
                "#B0BEC5",
                "red",
                "#B0BEC5",
                "#B0BEC5",
                "#B0BEC5",
                "#B0BEC5",
                "#B0BEC5",
                "#B0BEC5"
               ]
              ]
             }
            ],
            "label": "Topic 7",
            "method": "update"
           },
           {
            "args": [
             {
              "marker.color": [
               [
                "#B0BEC5",
                "#B0BEC5",
                "#B0BEC5",
                "#B0BEC5",
                "#B0BEC5",
                "#B0BEC5",
                "#B0BEC5",
                "#B0BEC5",
                "red",
                "#B0BEC5",
                "#B0BEC5",
                "#B0BEC5",
                "#B0BEC5",
                "#B0BEC5"
               ]
              ]
             }
            ],
            "label": "Topic 8",
            "method": "update"
           },
           {
            "args": [
             {
              "marker.color": [
               [
                "#B0BEC5",
                "#B0BEC5",
                "#B0BEC5",
                "#B0BEC5",
                "#B0BEC5",
                "#B0BEC5",
                "#B0BEC5",
                "#B0BEC5",
                "#B0BEC5",
                "red",
                "#B0BEC5",
                "#B0BEC5",
                "#B0BEC5",
                "#B0BEC5"
               ]
              ]
             }
            ],
            "label": "Topic 9",
            "method": "update"
           },
           {
            "args": [
             {
              "marker.color": [
               [
                "#B0BEC5",
                "#B0BEC5",
                "#B0BEC5",
                "#B0BEC5",
                "#B0BEC5",
                "#B0BEC5",
                "#B0BEC5",
                "#B0BEC5",
                "#B0BEC5",
                "#B0BEC5",
                "red",
                "#B0BEC5",
                "#B0BEC5",
                "#B0BEC5"
               ]
              ]
             }
            ],
            "label": "Topic 10",
            "method": "update"
           },
           {
            "args": [
             {
              "marker.color": [
               [
                "#B0BEC5",
                "#B0BEC5",
                "#B0BEC5",
                "#B0BEC5",
                "#B0BEC5",
                "#B0BEC5",
                "#B0BEC5",
                "#B0BEC5",
                "#B0BEC5",
                "#B0BEC5",
                "#B0BEC5",
                "red",
                "#B0BEC5",
                "#B0BEC5"
               ]
              ]
             }
            ],
            "label": "Topic 11",
            "method": "update"
           },
           {
            "args": [
             {
              "marker.color": [
               [
                "#B0BEC5",
                "#B0BEC5",
                "#B0BEC5",
                "#B0BEC5",
                "#B0BEC5",
                "#B0BEC5",
                "#B0BEC5",
                "#B0BEC5",
                "#B0BEC5",
                "#B0BEC5",
                "#B0BEC5",
                "#B0BEC5",
                "red",
                "#B0BEC5"
               ]
              ]
             }
            ],
            "label": "Topic 12",
            "method": "update"
           },
           {
            "args": [
             {
              "marker.color": [
               [
                "#B0BEC5",
                "#B0BEC5",
                "#B0BEC5",
                "#B0BEC5",
                "#B0BEC5",
                "#B0BEC5",
                "#B0BEC5",
                "#B0BEC5",
                "#B0BEC5",
                "#B0BEC5",
                "#B0BEC5",
                "#B0BEC5",
                "#B0BEC5",
                "red"
               ]
              ]
             }
            ],
            "label": "Topic 13",
            "method": "update"
           }
          ]
         }
        ],
        "template": {
         "data": {
          "bar": [
           {
            "error_x": {
             "color": "rgb(36,36,36)"
            },
            "error_y": {
             "color": "rgb(36,36,36)"
            },
            "marker": {
             "line": {
              "color": "white",
              "width": 0.5
             },
             "pattern": {
              "fillmode": "overlay",
              "size": 10,
              "solidity": 0.2
             }
            },
            "type": "bar"
           }
          ],
          "barpolar": [
           {
            "marker": {
             "line": {
              "color": "white",
              "width": 0.5
             },
             "pattern": {
              "fillmode": "overlay",
              "size": 10,
              "solidity": 0.2
             }
            },
            "type": "barpolar"
           }
          ],
          "carpet": [
           {
            "aaxis": {
             "endlinecolor": "rgb(36,36,36)",
             "gridcolor": "white",
             "linecolor": "white",
             "minorgridcolor": "white",
             "startlinecolor": "rgb(36,36,36)"
            },
            "baxis": {
             "endlinecolor": "rgb(36,36,36)",
             "gridcolor": "white",
             "linecolor": "white",
             "minorgridcolor": "white",
             "startlinecolor": "rgb(36,36,36)"
            },
            "type": "carpet"
           }
          ],
          "choropleth": [
           {
            "colorbar": {
             "outlinewidth": 1,
             "tickcolor": "rgb(36,36,36)",
             "ticks": "outside"
            },
            "type": "choropleth"
           }
          ],
          "contour": [
           {
            "colorbar": {
             "outlinewidth": 1,
             "tickcolor": "rgb(36,36,36)",
             "ticks": "outside"
            },
            "colorscale": [
             [
              0,
              "#440154"
             ],
             [
              0.1111111111111111,
              "#482878"
             ],
             [
              0.2222222222222222,
              "#3e4989"
             ],
             [
              0.3333333333333333,
              "#31688e"
             ],
             [
              0.4444444444444444,
              "#26828e"
             ],
             [
              0.5555555555555556,
              "#1f9e89"
             ],
             [
              0.6666666666666666,
              "#35b779"
             ],
             [
              0.7777777777777778,
              "#6ece58"
             ],
             [
              0.8888888888888888,
              "#b5de2b"
             ],
             [
              1,
              "#fde725"
             ]
            ],
            "type": "contour"
           }
          ],
          "contourcarpet": [
           {
            "colorbar": {
             "outlinewidth": 1,
             "tickcolor": "rgb(36,36,36)",
             "ticks": "outside"
            },
            "type": "contourcarpet"
           }
          ],
          "heatmap": [
           {
            "colorbar": {
             "outlinewidth": 1,
             "tickcolor": "rgb(36,36,36)",
             "ticks": "outside"
            },
            "colorscale": [
             [
              0,
              "#440154"
             ],
             [
              0.1111111111111111,
              "#482878"
             ],
             [
              0.2222222222222222,
              "#3e4989"
             ],
             [
              0.3333333333333333,
              "#31688e"
             ],
             [
              0.4444444444444444,
              "#26828e"
             ],
             [
              0.5555555555555556,
              "#1f9e89"
             ],
             [
              0.6666666666666666,
              "#35b779"
             ],
             [
              0.7777777777777778,
              "#6ece58"
             ],
             [
              0.8888888888888888,
              "#b5de2b"
             ],
             [
              1,
              "#fde725"
             ]
            ],
            "type": "heatmap"
           }
          ],
          "histogram": [
           {
            "marker": {
             "line": {
              "color": "white",
              "width": 0.6
             }
            },
            "type": "histogram"
           }
          ],
          "histogram2d": [
           {
            "colorbar": {
             "outlinewidth": 1,
             "tickcolor": "rgb(36,36,36)",
             "ticks": "outside"
            },
            "colorscale": [
             [
              0,
              "#440154"
             ],
             [
              0.1111111111111111,
              "#482878"
             ],
             [
              0.2222222222222222,
              "#3e4989"
             ],
             [
              0.3333333333333333,
              "#31688e"
             ],
             [
              0.4444444444444444,
              "#26828e"
             ],
             [
              0.5555555555555556,
              "#1f9e89"
             ],
             [
              0.6666666666666666,
              "#35b779"
             ],
             [
              0.7777777777777778,
              "#6ece58"
             ],
             [
              0.8888888888888888,
              "#b5de2b"
             ],
             [
              1,
              "#fde725"
             ]
            ],
            "type": "histogram2d"
           }
          ],
          "histogram2dcontour": [
           {
            "colorbar": {
             "outlinewidth": 1,
             "tickcolor": "rgb(36,36,36)",
             "ticks": "outside"
            },
            "colorscale": [
             [
              0,
              "#440154"
             ],
             [
              0.1111111111111111,
              "#482878"
             ],
             [
              0.2222222222222222,
              "#3e4989"
             ],
             [
              0.3333333333333333,
              "#31688e"
             ],
             [
              0.4444444444444444,
              "#26828e"
             ],
             [
              0.5555555555555556,
              "#1f9e89"
             ],
             [
              0.6666666666666666,
              "#35b779"
             ],
             [
              0.7777777777777778,
              "#6ece58"
             ],
             [
              0.8888888888888888,
              "#b5de2b"
             ],
             [
              1,
              "#fde725"
             ]
            ],
            "type": "histogram2dcontour"
           }
          ],
          "mesh3d": [
           {
            "colorbar": {
             "outlinewidth": 1,
             "tickcolor": "rgb(36,36,36)",
             "ticks": "outside"
            },
            "type": "mesh3d"
           }
          ],
          "parcoords": [
           {
            "line": {
             "colorbar": {
              "outlinewidth": 1,
              "tickcolor": "rgb(36,36,36)",
              "ticks": "outside"
             }
            },
            "type": "parcoords"
           }
          ],
          "pie": [
           {
            "automargin": true,
            "type": "pie"
           }
          ],
          "scatter": [
           {
            "fillpattern": {
             "fillmode": "overlay",
             "size": 10,
             "solidity": 0.2
            },
            "type": "scatter"
           }
          ],
          "scatter3d": [
           {
            "line": {
             "colorbar": {
              "outlinewidth": 1,
              "tickcolor": "rgb(36,36,36)",
              "ticks": "outside"
             }
            },
            "marker": {
             "colorbar": {
              "outlinewidth": 1,
              "tickcolor": "rgb(36,36,36)",
              "ticks": "outside"
             }
            },
            "type": "scatter3d"
           }
          ],
          "scattercarpet": [
           {
            "marker": {
             "colorbar": {
              "outlinewidth": 1,
              "tickcolor": "rgb(36,36,36)",
              "ticks": "outside"
             }
            },
            "type": "scattercarpet"
           }
          ],
          "scattergeo": [
           {
            "marker": {
             "colorbar": {
              "outlinewidth": 1,
              "tickcolor": "rgb(36,36,36)",
              "ticks": "outside"
             }
            },
            "type": "scattergeo"
           }
          ],
          "scattergl": [
           {
            "marker": {
             "colorbar": {
              "outlinewidth": 1,
              "tickcolor": "rgb(36,36,36)",
              "ticks": "outside"
             }
            },
            "type": "scattergl"
           }
          ],
          "scattermap": [
           {
            "marker": {
             "colorbar": {
              "outlinewidth": 1,
              "tickcolor": "rgb(36,36,36)",
              "ticks": "outside"
             }
            },
            "type": "scattermap"
           }
          ],
          "scattermapbox": [
           {
            "marker": {
             "colorbar": {
              "outlinewidth": 1,
              "tickcolor": "rgb(36,36,36)",
              "ticks": "outside"
             }
            },
            "type": "scattermapbox"
           }
          ],
          "scatterpolar": [
           {
            "marker": {
             "colorbar": {
              "outlinewidth": 1,
              "tickcolor": "rgb(36,36,36)",
              "ticks": "outside"
             }
            },
            "type": "scatterpolar"
           }
          ],
          "scatterpolargl": [
           {
            "marker": {
             "colorbar": {
              "outlinewidth": 1,
              "tickcolor": "rgb(36,36,36)",
              "ticks": "outside"
             }
            },
            "type": "scatterpolargl"
           }
          ],
          "scatterternary": [
           {
            "marker": {
             "colorbar": {
              "outlinewidth": 1,
              "tickcolor": "rgb(36,36,36)",
              "ticks": "outside"
             }
            },
            "type": "scatterternary"
           }
          ],
          "surface": [
           {
            "colorbar": {
             "outlinewidth": 1,
             "tickcolor": "rgb(36,36,36)",
             "ticks": "outside"
            },
            "colorscale": [
             [
              0,
              "#440154"
             ],
             [
              0.1111111111111111,
              "#482878"
             ],
             [
              0.2222222222222222,
              "#3e4989"
             ],
             [
              0.3333333333333333,
              "#31688e"
             ],
             [
              0.4444444444444444,
              "#26828e"
             ],
             [
              0.5555555555555556,
              "#1f9e89"
             ],
             [
              0.6666666666666666,
              "#35b779"
             ],
             [
              0.7777777777777778,
              "#6ece58"
             ],
             [
              0.8888888888888888,
              "#b5de2b"
             ],
             [
              1,
              "#fde725"
             ]
            ],
            "type": "surface"
           }
          ],
          "table": [
           {
            "cells": {
             "fill": {
              "color": "rgb(237,237,237)"
             },
             "line": {
              "color": "white"
             }
            },
            "header": {
             "fill": {
              "color": "rgb(217,217,217)"
             },
             "line": {
              "color": "white"
             }
            },
            "type": "table"
           }
          ]
         },
         "layout": {
          "annotationdefaults": {
           "arrowhead": 0,
           "arrowwidth": 1
          },
          "autotypenumbers": "strict",
          "coloraxis": {
           "colorbar": {
            "outlinewidth": 1,
            "tickcolor": "rgb(36,36,36)",
            "ticks": "outside"
           }
          },
          "colorscale": {
           "diverging": [
            [
             0,
             "rgb(103,0,31)"
            ],
            [
             0.1,
             "rgb(178,24,43)"
            ],
            [
             0.2,
             "rgb(214,96,77)"
            ],
            [
             0.3,
             "rgb(244,165,130)"
            ],
            [
             0.4,
             "rgb(253,219,199)"
            ],
            [
             0.5,
             "rgb(247,247,247)"
            ],
            [
             0.6,
             "rgb(209,229,240)"
            ],
            [
             0.7,
             "rgb(146,197,222)"
            ],
            [
             0.8,
             "rgb(67,147,195)"
            ],
            [
             0.9,
             "rgb(33,102,172)"
            ],
            [
             1,
             "rgb(5,48,97)"
            ]
           ],
           "sequential": [
            [
             0,
             "#440154"
            ],
            [
             0.1111111111111111,
             "#482878"
            ],
            [
             0.2222222222222222,
             "#3e4989"
            ],
            [
             0.3333333333333333,
             "#31688e"
            ],
            [
             0.4444444444444444,
             "#26828e"
            ],
            [
             0.5555555555555556,
             "#1f9e89"
            ],
            [
             0.6666666666666666,
             "#35b779"
            ],
            [
             0.7777777777777778,
             "#6ece58"
            ],
            [
             0.8888888888888888,
             "#b5de2b"
            ],
            [
             1,
             "#fde725"
            ]
           ],
           "sequentialminus": [
            [
             0,
             "#440154"
            ],
            [
             0.1111111111111111,
             "#482878"
            ],
            [
             0.2222222222222222,
             "#3e4989"
            ],
            [
             0.3333333333333333,
             "#31688e"
            ],
            [
             0.4444444444444444,
             "#26828e"
            ],
            [
             0.5555555555555556,
             "#1f9e89"
            ],
            [
             0.6666666666666666,
             "#35b779"
            ],
            [
             0.7777777777777778,
             "#6ece58"
            ],
            [
             0.8888888888888888,
             "#b5de2b"
            ],
            [
             1,
             "#fde725"
            ]
           ]
          },
          "colorway": [
           "#1F77B4",
           "#FF7F0E",
           "#2CA02C",
           "#D62728",
           "#9467BD",
           "#8C564B",
           "#E377C2",
           "#7F7F7F",
           "#BCBD22",
           "#17BECF"
          ],
          "font": {
           "color": "rgb(36,36,36)"
          },
          "geo": {
           "bgcolor": "white",
           "lakecolor": "white",
           "landcolor": "white",
           "showlakes": true,
           "showland": true,
           "subunitcolor": "white"
          },
          "hoverlabel": {
           "align": "left"
          },
          "hovermode": "closest",
          "mapbox": {
           "style": "light"
          },
          "paper_bgcolor": "white",
          "plot_bgcolor": "white",
          "polar": {
           "angularaxis": {
            "gridcolor": "rgb(232,232,232)",
            "linecolor": "rgb(36,36,36)",
            "showgrid": false,
            "showline": true,
            "ticks": "outside"
           },
           "bgcolor": "white",
           "radialaxis": {
            "gridcolor": "rgb(232,232,232)",
            "linecolor": "rgb(36,36,36)",
            "showgrid": false,
            "showline": true,
            "ticks": "outside"
           }
          },
          "scene": {
           "xaxis": {
            "backgroundcolor": "white",
            "gridcolor": "rgb(232,232,232)",
            "gridwidth": 2,
            "linecolor": "rgb(36,36,36)",
            "showbackground": true,
            "showgrid": false,
            "showline": true,
            "ticks": "outside",
            "zeroline": false,
            "zerolinecolor": "rgb(36,36,36)"
           },
           "yaxis": {
            "backgroundcolor": "white",
            "gridcolor": "rgb(232,232,232)",
            "gridwidth": 2,
            "linecolor": "rgb(36,36,36)",
            "showbackground": true,
            "showgrid": false,
            "showline": true,
            "ticks": "outside",
            "zeroline": false,
            "zerolinecolor": "rgb(36,36,36)"
           },
           "zaxis": {
            "backgroundcolor": "white",
            "gridcolor": "rgb(232,232,232)",
            "gridwidth": 2,
            "linecolor": "rgb(36,36,36)",
            "showbackground": true,
            "showgrid": false,
            "showline": true,
            "ticks": "outside",
            "zeroline": false,
            "zerolinecolor": "rgb(36,36,36)"
           }
          },
          "shapedefaults": {
           "fillcolor": "black",
           "line": {
            "width": 0
           },
           "opacity": 0.3
          },
          "ternary": {
           "aaxis": {
            "gridcolor": "rgb(232,232,232)",
            "linecolor": "rgb(36,36,36)",
            "showgrid": false,
            "showline": true,
            "ticks": "outside"
           },
           "baxis": {
            "gridcolor": "rgb(232,232,232)",
            "linecolor": "rgb(36,36,36)",
            "showgrid": false,
            "showline": true,
            "ticks": "outside"
           },
           "bgcolor": "white",
           "caxis": {
            "gridcolor": "rgb(232,232,232)",
            "linecolor": "rgb(36,36,36)",
            "showgrid": false,
            "showline": true,
            "ticks": "outside"
           }
          },
          "title": {
           "x": 0.05
          },
          "xaxis": {
           "automargin": true,
           "gridcolor": "rgb(232,232,232)",
           "linecolor": "rgb(36,36,36)",
           "showgrid": false,
           "showline": true,
           "ticks": "outside",
           "title": {
            "standoff": 15
           },
           "zeroline": false,
           "zerolinecolor": "rgb(36,36,36)"
          },
          "yaxis": {
           "automargin": true,
           "gridcolor": "rgb(232,232,232)",
           "linecolor": "rgb(36,36,36)",
           "showgrid": false,
           "showline": true,
           "ticks": "outside",
           "title": {
            "standoff": 15
           },
           "zeroline": false,
           "zerolinecolor": "rgb(36,36,36)"
          }
         }
        },
        "title": {
         "font": {
          "color": "Black",
          "size": 22
         },
         "text": "<b>Intertopic Distance Map</b>",
         "x": 0.5,
         "xanchor": "center",
         "y": 0.95,
         "yanchor": "top"
        },
        "width": 650,
        "xaxis": {
         "anchor": "y",
         "domain": [
          0,
          1
         ],
         "range": [
          -2.0502550482749937,
          27.92912073135376
         ],
         "title": {
          "text": ""
         },
         "visible": false
        },
        "yaxis": {
         "anchor": "x",
         "domain": [
          0,
          1
         ],
         "range": [
          -4.483217656612396,
          26.406729793548585
         ],
         "title": {
          "text": ""
         },
         "visible": false
        }
       }
      }
     },
     "metadata": {},
     "output_type": "display_data"
    }
   ],
   "source": [
    "fig = topic_model.visualize_topics()\n",
    "fig.show()"
   ]
  },
  {
   "cell_type": "markdown",
   "id": "06410bc6-96b1-4fbd-a7b2-e65b9da665f5",
   "metadata": {},
   "source": [
    "<a id='reduce'></a>\n",
    "\n",
    "# Reducing Overlap\n",
    "\n",
    "If your intertopic distance map shows lots of overlapping bubbles, your model may have produced **too many fine-grained topics**. This is common with large or complex datasets! Similar documents can get split into clusters that aren't really distinct.\n",
    "\n",
    "To make your topics broader and reduce overlap, you can **merge similar topics** using the `.reduce_topics()` method in BERTopic.\n",
    "\n",
    "### How to Reduce the Number of Topics\n",
    "\n",
    "Use the following code to merge topics until only your desired number remain (e.g., 15):"
   ]
  },
  {
   "cell_type": "code",
   "execution_count": 17,
   "id": "a16fe717-69a9-4eaa-bb71-071f469be1e7",
   "metadata": {},
   "outputs": [
    {
     "name": "stderr",
     "output_type": "stream",
     "text": [
      "2025-08-22 15:36:00,965 - BERTopic - Topic reduction - Reducing number of topics\n",
      "2025-08-22 15:36:00,966 - BERTopic - Topic reduction - Number of topics (10) is equal or higher than the clustered topics(10).\n",
      "2025-08-22 15:36:00,966 - BERTopic - Representation - Fine-tuning topics using representation models.\n",
      "2025-08-22 15:36:01,875 - BERTopic - Representation - Completed ✓\n"
     ]
    },
    {
     "data": {
      "application/vnd.plotly.v1+json": {
       "config": {
        "plotlyServerURL": "https://plot.ly"
       },
       "data": [
        {
         "customdata": [
          [
           0,
           "son | tell | say | want | wife",
           179
          ],
          [
           1,
           "say | friend | like | go | tell",
           111
          ],
          [
           2,
           "brother | sister | parent | tell | say",
           61
          ],
          [
           3,
           "say | work | tell | like | ask",
           54
          ],
          [
           4,
           "wedding | say | want | family | tell",
           39
          ],
          [
           5,
           "eat | food | vegan | meat | cook",
           37
          ],
          [
           6,
           "house | neighbor | door | plant | tell",
           24
          ],
          [
           7,
           "jim | go | family | want | say",
           20
          ],
          [
           8,
           "teacher | say | school | principal | egg",
           13
          ]
         ],
         "hovertemplate": "<b>Topic %{customdata[0]}</b><br>%{customdata[1]}<br>Size: %{customdata[2]}",
         "legendgroup": "",
         "marker": {
          "color": "#B0BEC5",
          "line": {
           "color": "DarkSlateGrey",
           "width": 2
          },
          "size": {
           "bdata": "swBvAD0ANgAnACUAGAAUAA0A",
           "dtype": "i2"
          },
          "sizemode": "area",
          "sizeref": 0.111875,
          "symbol": "circle"
         },
         "mode": "markers",
         "name": "",
         "orientation": "v",
         "showlegend": false,
         "type": "scatter",
         "x": {
          "bdata": "E3+IQc4T3UARaYtBKj/mQLJYAEFpXuZArfzgQOY80kAcVtJA",
          "dtype": "f4"
         },
         "xaxis": "x",
         "y": {
          "bdata": "oyYiQaD5bUBo+idBi7pRQIi8FUCZd7U/8hAGQKvN2z9T901A",
          "dtype": "f4"
         },
         "yaxis": "y"
        }
       ],
       "layout": {
        "annotations": [
         {
          "showarrow": false,
          "text": "D1",
          "x": 5.584443807601929,
          "y": 6.639242485165596,
          "yshift": 10
         },
         {
          "showarrow": false,
          "text": "D2",
          "x": 12.8123455286026,
          "xshift": 10,
          "y": 12.073429489135743
         }
        ],
        "height": 650,
        "hoverlabel": {
         "bgcolor": "white",
         "font": {
          "family": "Rockwell",
          "size": 16
         }
        },
        "legend": {
         "itemsizing": "constant",
         "tracegroupgap": 0
        },
        "margin": {
         "t": 60
        },
        "shapes": [
         {
          "line": {
           "color": "#CFD8DC",
           "width": 2
          },
          "type": "line",
          "x0": 12.8123455286026,
          "x1": 12.8123455286026,
          "y0": 1.20505548119545,
          "y1": 12.073429489135743
         },
         {
          "line": {
           "color": "#9E9E9E",
           "width": 2
          },
          "type": "line",
          "x0": 5.584443807601929,
          "x1": 20.040247249603272,
          "y0": 6.639242485165596,
          "y1": 6.639242485165596
         }
        ],
        "sliders": [
         {
          "active": 0,
          "pad": {
           "t": 50
          },
          "steps": [
           {
            "args": [
             {
              "marker.color": [
               [
                "red",
                "#B0BEC5",
                "#B0BEC5",
                "#B0BEC5",
                "#B0BEC5",
                "#B0BEC5",
                "#B0BEC5",
                "#B0BEC5",
                "#B0BEC5"
               ]
              ]
             }
            ],
            "label": "Topic 0",
            "method": "update"
           },
           {
            "args": [
             {
              "marker.color": [
               [
                "#B0BEC5",
                "red",
                "#B0BEC5",
                "#B0BEC5",
                "#B0BEC5",
                "#B0BEC5",
                "#B0BEC5",
                "#B0BEC5",
                "#B0BEC5"
               ]
              ]
             }
            ],
            "label": "Topic 1",
            "method": "update"
           },
           {
            "args": [
             {
              "marker.color": [
               [
                "#B0BEC5",
                "#B0BEC5",
                "red",
                "#B0BEC5",
                "#B0BEC5",
                "#B0BEC5",
                "#B0BEC5",
                "#B0BEC5",
                "#B0BEC5"
               ]
              ]
             }
            ],
            "label": "Topic 2",
            "method": "update"
           },
           {
            "args": [
             {
              "marker.color": [
               [
                "#B0BEC5",
                "#B0BEC5",
                "#B0BEC5",
                "red",
                "#B0BEC5",
                "#B0BEC5",
                "#B0BEC5",
                "#B0BEC5",
                "#B0BEC5"
               ]
              ]
             }
            ],
            "label": "Topic 3",
            "method": "update"
           },
           {
            "args": [
             {
              "marker.color": [
               [
                "#B0BEC5",
                "#B0BEC5",
                "#B0BEC5",
                "#B0BEC5",
                "red",
                "#B0BEC5",
                "#B0BEC5",
                "#B0BEC5",
                "#B0BEC5"
               ]
              ]
             }
            ],
            "label": "Topic 4",
            "method": "update"
           },
           {
            "args": [
             {
              "marker.color": [
               [
                "#B0BEC5",
                "#B0BEC5",
                "#B0BEC5",
                "#B0BEC5",
                "#B0BEC5",
                "red",
                "#B0BEC5",
                "#B0BEC5",
                "#B0BEC5"
               ]
              ]
             }
            ],
            "label": "Topic 5",
            "method": "update"
           },
           {
            "args": [
             {
              "marker.color": [
               [
                "#B0BEC5",
                "#B0BEC5",
                "#B0BEC5",
                "#B0BEC5",
                "#B0BEC5",
                "#B0BEC5",
                "red",
                "#B0BEC5",
                "#B0BEC5"
               ]
              ]
             }
            ],
            "label": "Topic 6",
            "method": "update"
           },
           {
            "args": [
             {
              "marker.color": [
               [
                "#B0BEC5",
                "#B0BEC5",
                "#B0BEC5",
                "#B0BEC5",
                "#B0BEC5",
                "#B0BEC5",
                "#B0BEC5",
                "red",
                "#B0BEC5"
               ]
              ]
             }
            ],
            "label": "Topic 7",
            "method": "update"
           },
           {
            "args": [
             {
              "marker.color": [
               [
                "#B0BEC5",
                "#B0BEC5",
                "#B0BEC5",
                "#B0BEC5",
                "#B0BEC5",
                "#B0BEC5",
                "#B0BEC5",
                "#B0BEC5",
                "red"
               ]
              ]
             }
            ],
            "label": "Topic 8",
            "method": "update"
           }
          ]
         }
        ],
        "template": {
         "data": {
          "bar": [
           {
            "error_x": {
             "color": "rgb(36,36,36)"
            },
            "error_y": {
             "color": "rgb(36,36,36)"
            },
            "marker": {
             "line": {
              "color": "white",
              "width": 0.5
             },
             "pattern": {
              "fillmode": "overlay",
              "size": 10,
              "solidity": 0.2
             }
            },
            "type": "bar"
           }
          ],
          "barpolar": [
           {
            "marker": {
             "line": {
              "color": "white",
              "width": 0.5
             },
             "pattern": {
              "fillmode": "overlay",
              "size": 10,
              "solidity": 0.2
             }
            },
            "type": "barpolar"
           }
          ],
          "carpet": [
           {
            "aaxis": {
             "endlinecolor": "rgb(36,36,36)",
             "gridcolor": "white",
             "linecolor": "white",
             "minorgridcolor": "white",
             "startlinecolor": "rgb(36,36,36)"
            },
            "baxis": {
             "endlinecolor": "rgb(36,36,36)",
             "gridcolor": "white",
             "linecolor": "white",
             "minorgridcolor": "white",
             "startlinecolor": "rgb(36,36,36)"
            },
            "type": "carpet"
           }
          ],
          "choropleth": [
           {
            "colorbar": {
             "outlinewidth": 1,
             "tickcolor": "rgb(36,36,36)",
             "ticks": "outside"
            },
            "type": "choropleth"
           }
          ],
          "contour": [
           {
            "colorbar": {
             "outlinewidth": 1,
             "tickcolor": "rgb(36,36,36)",
             "ticks": "outside"
            },
            "colorscale": [
             [
              0,
              "#440154"
             ],
             [
              0.1111111111111111,
              "#482878"
             ],
             [
              0.2222222222222222,
              "#3e4989"
             ],
             [
              0.3333333333333333,
              "#31688e"
             ],
             [
              0.4444444444444444,
              "#26828e"
             ],
             [
              0.5555555555555556,
              "#1f9e89"
             ],
             [
              0.6666666666666666,
              "#35b779"
             ],
             [
              0.7777777777777778,
              "#6ece58"
             ],
             [
              0.8888888888888888,
              "#b5de2b"
             ],
             [
              1,
              "#fde725"
             ]
            ],
            "type": "contour"
           }
          ],
          "contourcarpet": [
           {
            "colorbar": {
             "outlinewidth": 1,
             "tickcolor": "rgb(36,36,36)",
             "ticks": "outside"
            },
            "type": "contourcarpet"
           }
          ],
          "heatmap": [
           {
            "colorbar": {
             "outlinewidth": 1,
             "tickcolor": "rgb(36,36,36)",
             "ticks": "outside"
            },
            "colorscale": [
             [
              0,
              "#440154"
             ],
             [
              0.1111111111111111,
              "#482878"
             ],
             [
              0.2222222222222222,
              "#3e4989"
             ],
             [
              0.3333333333333333,
              "#31688e"
             ],
             [
              0.4444444444444444,
              "#26828e"
             ],
             [
              0.5555555555555556,
              "#1f9e89"
             ],
             [
              0.6666666666666666,
              "#35b779"
             ],
             [
              0.7777777777777778,
              "#6ece58"
             ],
             [
              0.8888888888888888,
              "#b5de2b"
             ],
             [
              1,
              "#fde725"
             ]
            ],
            "type": "heatmap"
           }
          ],
          "histogram": [
           {
            "marker": {
             "line": {
              "color": "white",
              "width": 0.6
             }
            },
            "type": "histogram"
           }
          ],
          "histogram2d": [
           {
            "colorbar": {
             "outlinewidth": 1,
             "tickcolor": "rgb(36,36,36)",
             "ticks": "outside"
            },
            "colorscale": [
             [
              0,
              "#440154"
             ],
             [
              0.1111111111111111,
              "#482878"
             ],
             [
              0.2222222222222222,
              "#3e4989"
             ],
             [
              0.3333333333333333,
              "#31688e"
             ],
             [
              0.4444444444444444,
              "#26828e"
             ],
             [
              0.5555555555555556,
              "#1f9e89"
             ],
             [
              0.6666666666666666,
              "#35b779"
             ],
             [
              0.7777777777777778,
              "#6ece58"
             ],
             [
              0.8888888888888888,
              "#b5de2b"
             ],
             [
              1,
              "#fde725"
             ]
            ],
            "type": "histogram2d"
           }
          ],
          "histogram2dcontour": [
           {
            "colorbar": {
             "outlinewidth": 1,
             "tickcolor": "rgb(36,36,36)",
             "ticks": "outside"
            },
            "colorscale": [
             [
              0,
              "#440154"
             ],
             [
              0.1111111111111111,
              "#482878"
             ],
             [
              0.2222222222222222,
              "#3e4989"
             ],
             [
              0.3333333333333333,
              "#31688e"
             ],
             [
              0.4444444444444444,
              "#26828e"
             ],
             [
              0.5555555555555556,
              "#1f9e89"
             ],
             [
              0.6666666666666666,
              "#35b779"
             ],
             [
              0.7777777777777778,
              "#6ece58"
             ],
             [
              0.8888888888888888,
              "#b5de2b"
             ],
             [
              1,
              "#fde725"
             ]
            ],
            "type": "histogram2dcontour"
           }
          ],
          "mesh3d": [
           {
            "colorbar": {
             "outlinewidth": 1,
             "tickcolor": "rgb(36,36,36)",
             "ticks": "outside"
            },
            "type": "mesh3d"
           }
          ],
          "parcoords": [
           {
            "line": {
             "colorbar": {
              "outlinewidth": 1,
              "tickcolor": "rgb(36,36,36)",
              "ticks": "outside"
             }
            },
            "type": "parcoords"
           }
          ],
          "pie": [
           {
            "automargin": true,
            "type": "pie"
           }
          ],
          "scatter": [
           {
            "fillpattern": {
             "fillmode": "overlay",
             "size": 10,
             "solidity": 0.2
            },
            "type": "scatter"
           }
          ],
          "scatter3d": [
           {
            "line": {
             "colorbar": {
              "outlinewidth": 1,
              "tickcolor": "rgb(36,36,36)",
              "ticks": "outside"
             }
            },
            "marker": {
             "colorbar": {
              "outlinewidth": 1,
              "tickcolor": "rgb(36,36,36)",
              "ticks": "outside"
             }
            },
            "type": "scatter3d"
           }
          ],
          "scattercarpet": [
           {
            "marker": {
             "colorbar": {
              "outlinewidth": 1,
              "tickcolor": "rgb(36,36,36)",
              "ticks": "outside"
             }
            },
            "type": "scattercarpet"
           }
          ],
          "scattergeo": [
           {
            "marker": {
             "colorbar": {
              "outlinewidth": 1,
              "tickcolor": "rgb(36,36,36)",
              "ticks": "outside"
             }
            },
            "type": "scattergeo"
           }
          ],
          "scattergl": [
           {
            "marker": {
             "colorbar": {
              "outlinewidth": 1,
              "tickcolor": "rgb(36,36,36)",
              "ticks": "outside"
             }
            },
            "type": "scattergl"
           }
          ],
          "scattermap": [
           {
            "marker": {
             "colorbar": {
              "outlinewidth": 1,
              "tickcolor": "rgb(36,36,36)",
              "ticks": "outside"
             }
            },
            "type": "scattermap"
           }
          ],
          "scattermapbox": [
           {
            "marker": {
             "colorbar": {
              "outlinewidth": 1,
              "tickcolor": "rgb(36,36,36)",
              "ticks": "outside"
             }
            },
            "type": "scattermapbox"
           }
          ],
          "scatterpolar": [
           {
            "marker": {
             "colorbar": {
              "outlinewidth": 1,
              "tickcolor": "rgb(36,36,36)",
              "ticks": "outside"
             }
            },
            "type": "scatterpolar"
           }
          ],
          "scatterpolargl": [
           {
            "marker": {
             "colorbar": {
              "outlinewidth": 1,
              "tickcolor": "rgb(36,36,36)",
              "ticks": "outside"
             }
            },
            "type": "scatterpolargl"
           }
          ],
          "scatterternary": [
           {
            "marker": {
             "colorbar": {
              "outlinewidth": 1,
              "tickcolor": "rgb(36,36,36)",
              "ticks": "outside"
             }
            },
            "type": "scatterternary"
           }
          ],
          "surface": [
           {
            "colorbar": {
             "outlinewidth": 1,
             "tickcolor": "rgb(36,36,36)",
             "ticks": "outside"
            },
            "colorscale": [
             [
              0,
              "#440154"
             ],
             [
              0.1111111111111111,
              "#482878"
             ],
             [
              0.2222222222222222,
              "#3e4989"
             ],
             [
              0.3333333333333333,
              "#31688e"
             ],
             [
              0.4444444444444444,
              "#26828e"
             ],
             [
              0.5555555555555556,
              "#1f9e89"
             ],
             [
              0.6666666666666666,
              "#35b779"
             ],
             [
              0.7777777777777778,
              "#6ece58"
             ],
             [
              0.8888888888888888,
              "#b5de2b"
             ],
             [
              1,
              "#fde725"
             ]
            ],
            "type": "surface"
           }
          ],
          "table": [
           {
            "cells": {
             "fill": {
              "color": "rgb(237,237,237)"
             },
             "line": {
              "color": "white"
             }
            },
            "header": {
             "fill": {
              "color": "rgb(217,217,217)"
             },
             "line": {
              "color": "white"
             }
            },
            "type": "table"
           }
          ]
         },
         "layout": {
          "annotationdefaults": {
           "arrowhead": 0,
           "arrowwidth": 1
          },
          "autotypenumbers": "strict",
          "coloraxis": {
           "colorbar": {
            "outlinewidth": 1,
            "tickcolor": "rgb(36,36,36)",
            "ticks": "outside"
           }
          },
          "colorscale": {
           "diverging": [
            [
             0,
             "rgb(103,0,31)"
            ],
            [
             0.1,
             "rgb(178,24,43)"
            ],
            [
             0.2,
             "rgb(214,96,77)"
            ],
            [
             0.3,
             "rgb(244,165,130)"
            ],
            [
             0.4,
             "rgb(253,219,199)"
            ],
            [
             0.5,
             "rgb(247,247,247)"
            ],
            [
             0.6,
             "rgb(209,229,240)"
            ],
            [
             0.7,
             "rgb(146,197,222)"
            ],
            [
             0.8,
             "rgb(67,147,195)"
            ],
            [
             0.9,
             "rgb(33,102,172)"
            ],
            [
             1,
             "rgb(5,48,97)"
            ]
           ],
           "sequential": [
            [
             0,
             "#440154"
            ],
            [
             0.1111111111111111,
             "#482878"
            ],
            [
             0.2222222222222222,
             "#3e4989"
            ],
            [
             0.3333333333333333,
             "#31688e"
            ],
            [
             0.4444444444444444,
             "#26828e"
            ],
            [
             0.5555555555555556,
             "#1f9e89"
            ],
            [
             0.6666666666666666,
             "#35b779"
            ],
            [
             0.7777777777777778,
             "#6ece58"
            ],
            [
             0.8888888888888888,
             "#b5de2b"
            ],
            [
             1,
             "#fde725"
            ]
           ],
           "sequentialminus": [
            [
             0,
             "#440154"
            ],
            [
             0.1111111111111111,
             "#482878"
            ],
            [
             0.2222222222222222,
             "#3e4989"
            ],
            [
             0.3333333333333333,
             "#31688e"
            ],
            [
             0.4444444444444444,
             "#26828e"
            ],
            [
             0.5555555555555556,
             "#1f9e89"
            ],
            [
             0.6666666666666666,
             "#35b779"
            ],
            [
             0.7777777777777778,
             "#6ece58"
            ],
            [
             0.8888888888888888,
             "#b5de2b"
            ],
            [
             1,
             "#fde725"
            ]
           ]
          },
          "colorway": [
           "#1F77B4",
           "#FF7F0E",
           "#2CA02C",
           "#D62728",
           "#9467BD",
           "#8C564B",
           "#E377C2",
           "#7F7F7F",
           "#BCBD22",
           "#17BECF"
          ],
          "font": {
           "color": "rgb(36,36,36)"
          },
          "geo": {
           "bgcolor": "white",
           "lakecolor": "white",
           "landcolor": "white",
           "showlakes": true,
           "showland": true,
           "subunitcolor": "white"
          },
          "hoverlabel": {
           "align": "left"
          },
          "hovermode": "closest",
          "mapbox": {
           "style": "light"
          },
          "paper_bgcolor": "white",
          "plot_bgcolor": "white",
          "polar": {
           "angularaxis": {
            "gridcolor": "rgb(232,232,232)",
            "linecolor": "rgb(36,36,36)",
            "showgrid": false,
            "showline": true,
            "ticks": "outside"
           },
           "bgcolor": "white",
           "radialaxis": {
            "gridcolor": "rgb(232,232,232)",
            "linecolor": "rgb(36,36,36)",
            "showgrid": false,
            "showline": true,
            "ticks": "outside"
           }
          },
          "scene": {
           "xaxis": {
            "backgroundcolor": "white",
            "gridcolor": "rgb(232,232,232)",
            "gridwidth": 2,
            "linecolor": "rgb(36,36,36)",
            "showbackground": true,
            "showgrid": false,
            "showline": true,
            "ticks": "outside",
            "zeroline": false,
            "zerolinecolor": "rgb(36,36,36)"
           },
           "yaxis": {
            "backgroundcolor": "white",
            "gridcolor": "rgb(232,232,232)",
            "gridwidth": 2,
            "linecolor": "rgb(36,36,36)",
            "showbackground": true,
            "showgrid": false,
            "showline": true,
            "ticks": "outside",
            "zeroline": false,
            "zerolinecolor": "rgb(36,36,36)"
           },
           "zaxis": {
            "backgroundcolor": "white",
            "gridcolor": "rgb(232,232,232)",
            "gridwidth": 2,
            "linecolor": "rgb(36,36,36)",
            "showbackground": true,
            "showgrid": false,
            "showline": true,
            "ticks": "outside",
            "zeroline": false,
            "zerolinecolor": "rgb(36,36,36)"
           }
          },
          "shapedefaults": {
           "fillcolor": "black",
           "line": {
            "width": 0
           },
           "opacity": 0.3
          },
          "ternary": {
           "aaxis": {
            "gridcolor": "rgb(232,232,232)",
            "linecolor": "rgb(36,36,36)",
            "showgrid": false,
            "showline": true,
            "ticks": "outside"
           },
           "baxis": {
            "gridcolor": "rgb(232,232,232)",
            "linecolor": "rgb(36,36,36)",
            "showgrid": false,
            "showline": true,
            "ticks": "outside"
           },
           "bgcolor": "white",
           "caxis": {
            "gridcolor": "rgb(232,232,232)",
            "linecolor": "rgb(36,36,36)",
            "showgrid": false,
            "showline": true,
            "ticks": "outside"
           }
          },
          "title": {
           "x": 0.05
          },
          "xaxis": {
           "automargin": true,
           "gridcolor": "rgb(232,232,232)",
           "linecolor": "rgb(36,36,36)",
           "showgrid": false,
           "showline": true,
           "ticks": "outside",
           "title": {
            "standoff": 15
           },
           "zeroline": false,
           "zerolinecolor": "rgb(36,36,36)"
          },
          "yaxis": {
           "automargin": true,
           "gridcolor": "rgb(232,232,232)",
           "linecolor": "rgb(36,36,36)",
           "showgrid": false,
           "showline": true,
           "ticks": "outside",
           "title": {
            "standoff": 15
           },
           "zeroline": false,
           "zerolinecolor": "rgb(36,36,36)"
          }
         }
        },
        "title": {
         "font": {
          "color": "Black",
          "size": 22
         },
         "text": "<b>Intertopic Distance Map</b>",
         "x": 0.5,
         "xanchor": "center",
         "y": 0.95,
         "yanchor": "top"
        },
        "width": 650,
        "xaxis": {
         "anchor": "y",
         "domain": [
          0,
          1
         ],
         "range": [
          5.584443807601929,
          20.040247249603272
         ],
         "title": {
          "text": ""
         },
         "visible": false
        },
        "yaxis": {
         "anchor": "x",
         "domain": [
          0,
          1
         ],
         "range": [
          1.20505548119545,
          12.073429489135743
         ],
         "title": {
          "text": ""
         },
         "visible": false
        }
       }
      }
     },
     "metadata": {},
     "output_type": "display_data"
    }
   ],
   "source": [
    "# Reduce the number of topics (set to the number you want)\n",
    "target_num_topics = 10  # change this as needed\n",
    "topic_model.reduce_topics(docs_sample, nr_topics=target_num_topics)\n",
    "topic_model.get_document_info(df['selftext'][:1000])  # instead of df['processed']\n",
    "\n",
    "# Re-visualize the intertopic distance map\n",
    "fig = topic_model.visualize_topics()\n",
    "\n",
    "fig.show()"
   ]
  },
  {
   "cell_type": "markdown",
   "id": "5864d65a-91b5-49de-a94f-4b671f9a8d57",
   "metadata": {},
   "source": [
    "As you can tell, we no longer have so many overlapping topics. That's good!"
   ]
  },
  {
   "cell_type": "markdown",
   "id": "2e3d84b6",
   "metadata": {},
   "source": [
    "<a id='repr'></a>\n",
    "\n",
    "# Finding Representative Posts\n",
    "\n",
    "We can use BERTopic to find representative posts for a topic. So if you're interested in exploring posts from a particular topic, this is how you do that.\n",
    "\n",
    "Let's first look at the top words for each topic:"
   ]
  },
  {
   "cell_type": "code",
   "execution_count": 18,
   "id": "33b2689c-07ac-4c46-9b7c-df5fb32134ed",
   "metadata": {},
   "outputs": [
    {
     "name": "stdout",
     "output_type": "stream",
     "text": [
      "Topic 0: son, tell, say, want, wife, husband, mom, daughter, get, year\n",
      "Topic 1: say, friend, like, go, tell, think, ask, know, get, time\n",
      "Topic 2: brother, sister, parent, tell, say, get, family, dad, like, want\n",
      "Topic 3: say, work, tell, like, ask, time, husband, go, get, want\n",
      "Topic 4: wedding, say, want, family, tell, dress, fiance, parent, sister, go\n",
      "Topic 5: eat, food, vegan, meat, cook, say, go, think, ask, recipe\n",
      "Topic 6: house, neighbor, door, plant, tell, hoa, backyard, window, say, duck\n",
      "Topic 7: jim, go, family, want, say, tell, throwaway, dress, year, time\n",
      "Topic 8: teacher, say, school, principal, egg, tell, presentation, go, know, call\n"
     ]
    }
   ],
   "source": [
    "for topic_num in topic_model.get_topic_info().Topic:\n",
    "    if topic_num == -1:\n",
    "        continue  # skip the outlier topic if you want\n",
    "    top_words = [word for word, _ in topic_model.get_topic(topic_num)]\n",
    "    print(f\"Topic {topic_num}: {', '.join(top_words)}\")"
   ]
  },
  {
   "cell_type": "markdown",
   "id": "7145fd04-f979-44da-b2bc-7866d754cf8a",
   "metadata": {},
   "source": [
    "Let's say I'm interested in topic 2.\n",
    "\n",
    "**⚠️ Warning:** If you run this code again your topics might look different due to the probabilistic nature of UMAP. "
   ]
  },
  {
   "cell_type": "code",
   "execution_count": 19,
   "id": "c2eae87c-596b-4a0d-913b-5b16f89d3cc0",
   "metadata": {},
   "outputs": [
    {
     "name": "stdout",
     "output_type": "stream",
     "text": [
      "Example 43 for topic 2:\n",
      " I [29F] dated a guy Joe (30M) for 3 months before he left me to go back to his ex Kim (30F). Right after we broke up I found out I was pregnant and now I’m at 24 weeks. I let him know and he was ecstatic. Turns out his girlfriend had fertility issues and would likely never be able to get pregnant naturally and he has always wanted to be a father. Getting back together was out of the question for both of us so he’s still with his girlfriend. \n",
      "\n",
      "Joe was only allowed at the initial appointment because of COVID-19 and we found out I was having twins. According to Joe when he told Kim she had a mental breakdown about her infertility, and wanted to talk to me. I met them at their house and Kim stated that she wanted to be involved in my pregnancy because she would eventually be the children’s stepmother. She started telling me that I needed to do a home birth, that I needed to formula feed so that they could have the babies half of the week, that she wanted one boy and one girl, and that she wanted the kid to call her Mama since they would be calling me Mommy. I shut her down and said I would make the best choices for my children and my body and left. \n",
      "\n",
      "Kim continued to be overbearing and texting me everyday about my eating habits, exercise habits, and bitching about how her job wouldn’t let her take maternity leave. At the virtual genetics counseling appointment, she attended instead of Joe and took over the whole meeting trying to talk about her family history which wasn’t relevant. When it came time for my 20 week level 2 scan, they allowed me one guest and Joe suggested I take Kim instead of him, which I refused to do. Joe did end up coming and he found out the gender because I wanted to keep it a surprise for me so we could throw a gender reveal party. I put a pregnancy announcement on my social media and then she put up an announcement saying they were expecting twins “the non-traditional way” and how blessed she was. I was irritated but I kept my mouth shut. Then she threw a gender reveal party and posted it on social media. I wasn’t even invited. She also announced that she’s having a baby shower. I commented on her posts and told her to stop treating me like a surrogate, that the kids weren’t hers, and that Joe didn’t have any claim or custody of the kids until they are born. I then called Joe and reiterated all of this and stated that I would not be seeing either of them until we went to family court and that my mother would be my birthing partner. He and Kim and some of her friends and family are saying I’m an asshole and her mother even called and insisted I give her one of my babies like this is the Parent Trap? So AITA?\n",
      "\n",
      "EDIT: I’m definitely getting a lawyer ASAP. Y’all have scared the shit out of me but I’m happy you did.\n",
      "\n",
      "UPDATE: I never considered that this could’ve happened on purpose. We used condoms because I do not react well to hormonal birth control and I had to wait to get a non-hormonal IUD because of other medical issues. The Thursday I posted this, I went to the police and they stated that there was nothing they could do because a crime hadn’t been committed. In my state orders of protection are criminal or family so I was able to get one against Joe. On Friday, I did get a lawyer and they let me know in my state there was nothing I could do as far as custody before the babies are born, so I will be leaving my state soon to ensure that this isn’t my babies home state and I can’t be charged with anything. \n",
      "However, someone sent this post to Kim and she came to my job, damaged my car, and broke a bunch of office windows. I work with kids so she was arrested for not just the criminal damage and trespassing but also child endangerment so hopefully that works in my favor. Also if Joe did it on purpose, I don’t think Kim knew, because she was screaming at me about how I stole her life and everything I had was supposed to be hers.\n",
      "\n",
      "Update: I have orders of protection against both Kim and Joe. I left the state anyway and Joe and Kim started harassing me again because there’s no legal jurisdiction when you leave the state, but I have enough evidence that I was able to press charges in my current state as well and will be pursuing a restraining order here. \n",
      "\n",
      "Example 46 for topic 2:\n",
      " I'm 19f, I have a 3 week old baby girl. I do still live with my parents, but since I pay rent equally, they say I can have just as much of a say in who comes and goes from the house as they do. I've never actually taken advantage of this rule until recently enough. I have a brother, who's 26 and his wife is 24. They're \"crunchy parents\" to a 8 month old.\n",
      "\n",
      "Basically what that is is fucking stupid, they use reusable wipes/nappies, think formula is the epitome of evil, babywearing, the list just goes on. I'm the complete opposite, pacifiers, supplementing with formula due to low supply, disposable wipes and nappies. They are completely against the products I use and often give me things like SiLs breastmilk in bags, disposable nappies their LO has grown out of, etc. I've used some but it's not really my cup of tea.\n",
      "\n",
      "On Monday night, my bother and SiL were minding my baby for me since it was my birthday and my babys father (not together, very close friends and co parents) took me to get some dinner in one of my favourite fast food places. It was great and really relaxing. \n",
      "\n",
      "When I got home that evening, my SiL said that she did some cleaning and \"threw out anything I don't need\". This immediately gave me red flags but they were in a hurry to get out the door and left almost immediately. When I went into the nursery, every disposable nappy and wipe pack was gone and replaced with some reusable cloth ones. Same with my formula, there was 8 tubs and all of it was gone, I'm not able to replace them at the moment and soley breastfeeding isn't sustainable for us.\n",
      "\n",
      "I was extremely angry and I just turned my phone off to avoid being mean to my SiL. She and my brother came over yesterday to collect something they forgot and that was when I confronted her. I told her she has to replace everything she dumped. When she said she can't afford to, I said fine, just get out and don't come back until I've been reimbursed or everything is replaced with the original items.\n",
      "\n",
      "My brother thinks I'm being a massive asshole and he's on his wifes side. Our parents think im being completely reasonable here but they think telling her essentially not to come back is taking it too far. AITA? \n",
      "\n",
      "Example 59 for topic 2:\n",
      " I have been living with my new wife and stepdaughter for about 6 months now. She’s 19, almost 20, and I have three sons aged 18, 16 and 15. She’s a really good kid and she’s a good influence on my sons, I really enjoy having her around. My wife and her daughter moved into my house and sold theirs. My stepdaughters father isn’t present in her life, nor is my sons’ mother. All four children share a bathroom.\n",
      "\n",
      "My sons have never lived for a long period of time with a woman, nor have any of them had long term girlfriends. They had short visitation periods when they were younger but never longer than an hour, so living with two women has been unusual for them. \n",
      "\n",
      "My eldest son, 18, came to me last week and told me that his stepsister disposes of her used sanitary products in the trash can they share, but doesn’t use toilet roll or sandwich bags to disguise what they are, and it makes him uncomfortable which I think is reasonable. My sons are teenage boys and don’t want to see their stepsisters period products on full display.\n",
      "\n",
      "A few nights ago I went into the kitchen to grab a snack and she was there doing some work for university. My wife had mentioned that she knew she was on her period so I took it as an opportunity to have a word with her. I told her my sons were uncomfortable and asked her if she’d mind putting her used products in diaper bags or flushing them down the toilet. \n",
      "\n",
      "She laughed and told me it was rich coming from a man who “sheds like a gorilla” and has produced “three skid marking sons” which I thought was just an unnecessary attack. I’ve been nothing but nice to the girl and it’s hardly a comparison. My sons shouldn’t be subjected to her unhygienic products if it makes them uncomfortable. She went on to lecture me about how tampons can’t be flushed and that it’s bad for the environment if she uses diaper bags for every one which I think is just an excuse. I called her a scruff and told her that this was my house and that what I say goes. \n",
      "\n",
      "I later asked my wife if she could have a word with her and she told me I was being ridiculous and that her daughter has had her period for ten years and knows what she’s doing. When I told her it was making my sons uncomfortable she said my sons needed to get a grip and turned over and went to sleep. \n",
      "\n",
      "This is a genuine issue to me and she didn’t care enough to have a discussion about it. I asked my stepdaughter again in the morning and she did the same as her mother, completely dismissed it. Both of them have told me to stop being so silly but I don’t see how I’m being unreasonable when it makes my sons uncomfortable. AITA?\n",
      "\n",
      "UPDATE — Not even two hours after I posted this, my wife and stepdaughter gathered my sons and I and gave us a full intensive “periods for pricks” course, Powerpoint and all. It was a hoot, they made an interactive quiz and everything. My sons and I learned a lot and apologised to my stepdaughter. Thankyou for your input \n",
      "\n"
     ]
    }
   ],
   "source": [
    "topic_num = 2  # or whatever topic you're interested in\n",
    "\n",
    "# Get indices of documents in that topic\n",
    "indices = [i for i, t in enumerate(topics) if t == topic_num]\n",
    "\n",
    "# Show original texts from df\n",
    "for i in indices[:3]:  # show up to 3 examples\n",
    "    print(f\"Example {i+1} for topic {topic_num}:\\n\", df['selftext'].iloc[i], \"\\n\")"
   ]
  },
  {
   "cell_type": "markdown",
   "id": "b397b32f-76fe-43f0-b3cb-eab43631104b",
   "metadata": {},
   "source": [
    "## Grab all posts from a certain topic (for further processing)\n",
    "\n",
    "Once you’ve trained a BERTopic model, each document is assigned a dominant topic. You can use this assignment to extract all posts that belong to a specific topic for closer analysis, visualization, or downstream tasks.\n",
    "\n",
    "For instance, let's create a new dataframe with all posts that have topic 2 as the dominant topic."
   ]
  },
  {
   "cell_type": "code",
   "execution_count": 20,
   "id": "5c6b1acf-65f1-4401-87dc-6c7d7f9ebb2a",
   "metadata": {},
   "outputs": [],
   "source": [
    "# Get indices of posts with topic 2\n",
    "topic_num = 2\n",
    "topic_2_indices = [i for i, t in enumerate(topics) if t == topic_num]\n",
    "\n",
    "df_topic_2 = df.iloc[topic_2_indices].copy()\n",
    "df_topic_2['dominant_topic'] = topic_num"
   ]
  },
  {
   "cell_type": "code",
   "execution_count": 21,
   "id": "94c3e471-76de-4612-a41a-98f898582f3b",
   "metadata": {},
   "outputs": [
    {
     "data": {
      "text/html": [
       "<div>\n",
       "<style scoped>\n",
       "    .dataframe tbody tr th:only-of-type {\n",
       "        vertical-align: middle;\n",
       "    }\n",
       "\n",
       "    .dataframe tbody tr th {\n",
       "        vertical-align: top;\n",
       "    }\n",
       "\n",
       "    .dataframe thead th {\n",
       "        text-align: right;\n",
       "    }\n",
       "</style>\n",
       "<table border=\"1\" class=\"dataframe\">\n",
       "  <thead>\n",
       "    <tr style=\"text-align: right;\">\n",
       "      <th></th>\n",
       "      <th>Unnamed: 0</th>\n",
       "      <th>idint</th>\n",
       "      <th>idstr</th>\n",
       "      <th>created</th>\n",
       "      <th>self</th>\n",
       "      <th>nsfw</th>\n",
       "      <th>author</th>\n",
       "      <th>title</th>\n",
       "      <th>url</th>\n",
       "      <th>selftext</th>\n",
       "      <th>...</th>\n",
       "      <th>subreddit</th>\n",
       "      <th>distinguish</th>\n",
       "      <th>textlen</th>\n",
       "      <th>num_comments</th>\n",
       "      <th>flair_text</th>\n",
       "      <th>flair_css_class</th>\n",
       "      <th>augmented_at</th>\n",
       "      <th>augmented_count</th>\n",
       "      <th>selftext_clean</th>\n",
       "      <th>dominant_topic</th>\n",
       "    </tr>\n",
       "  </thead>\n",
       "  <tbody>\n",
       "    <tr>\n",
       "      <th>42</th>\n",
       "      <td>13511</td>\n",
       "      <td>1368780762</td>\n",
       "      <td>t3_mmxpzu</td>\n",
       "      <td>1617905292</td>\n",
       "      <td>1.0</td>\n",
       "      <td>0.0</td>\n",
       "      <td>Throwaway-twinmama</td>\n",
       "      <td>AITA for calling out my kids’ future stepmom f...</td>\n",
       "      <td>NaN</td>\n",
       "      <td>I [29F] dated a guy Joe (30M) for 3 months bef...</td>\n",
       "      <td>...</td>\n",
       "      <td>AmItheAsshole</td>\n",
       "      <td>NaN</td>\n",
       "      <td>2674.0</td>\n",
       "      <td>4838.0</td>\n",
       "      <td>Not the A-hole</td>\n",
       "      <td>not</td>\n",
       "      <td>NaN</td>\n",
       "      <td>NaN</td>\n",
       "      <td>date guy joe m month leave ex kim right break ...</td>\n",
       "      <td>2</td>\n",
       "    </tr>\n",
       "    <tr>\n",
       "      <th>45</th>\n",
       "      <td>16159</td>\n",
       "      <td>1507921691</td>\n",
       "      <td>t3_oxrztn</td>\n",
       "      <td>1628081415</td>\n",
       "      <td>1.0</td>\n",
       "      <td>0.0</td>\n",
       "      <td>CrunchySiL</td>\n",
       "      <td>AITA for kicking my SiL out after she threw aw...</td>\n",
       "      <td>NaN</td>\n",
       "      <td>I'm 19f, I have a 3 week old baby girl. I do s...</td>\n",
       "      <td>...</td>\n",
       "      <td>AmItheAsshole</td>\n",
       "      <td>NaN</td>\n",
       "      <td>2197.0</td>\n",
       "      <td>2118.0</td>\n",
       "      <td>Not the A-hole</td>\n",
       "      <td>not</td>\n",
       "      <td>NaN</td>\n",
       "      <td>NaN</td>\n",
       "      <td>week old baby girl live parent pay rent equall...</td>\n",
       "      <td>2</td>\n",
       "    </tr>\n",
       "    <tr>\n",
       "      <th>58</th>\n",
       "      <td>7045</td>\n",
       "      <td>1028396948</td>\n",
       "      <td>t3_h0a45w</td>\n",
       "      <td>1591792971</td>\n",
       "      <td>1.0</td>\n",
       "      <td>0.0</td>\n",
       "      <td>chancecreator</td>\n",
       "      <td>AITA for telling my stepdaughter to stop using...</td>\n",
       "      <td>NaN</td>\n",
       "      <td>I have been living with my new wife and stepda...</td>\n",
       "      <td>...</td>\n",
       "      <td>AmItheAsshole</td>\n",
       "      <td>NaN</td>\n",
       "      <td>2945.0</td>\n",
       "      <td>4796.0</td>\n",
       "      <td>Asshole</td>\n",
       "      <td>ass</td>\n",
       "      <td>NaN</td>\n",
       "      <td>NaN</td>\n",
       "      <td>live new wife stepdaughter month son age good ...</td>\n",
       "      <td>2</td>\n",
       "    </tr>\n",
       "    <tr>\n",
       "      <th>132</th>\n",
       "      <td>7924</td>\n",
       "      <td>1081667392</td>\n",
       "      <td>t3_hvzvwg</td>\n",
       "      <td>1595444805</td>\n",
       "      <td>1.0</td>\n",
       "      <td>0.0</td>\n",
       "      <td>Lost_Recommendation4</td>\n",
       "      <td>AITA for not forgiving my(27) fiance(28) for m...</td>\n",
       "      <td>NaN</td>\n",
       "      <td>My husbands girl best friend (we'll call her M...</td>\n",
       "      <td>...</td>\n",
       "      <td>AmItheAsshole</td>\n",
       "      <td>NaN</td>\n",
       "      <td>2353.0</td>\n",
       "      <td>2242.0</td>\n",
       "      <td>Not the A-hole</td>\n",
       "      <td>not</td>\n",
       "      <td>NaN</td>\n",
       "      <td>NaN</td>\n",
       "      <td>husband girl good friend madison like reason g...</td>\n",
       "      <td>2</td>\n",
       "    </tr>\n",
       "    <tr>\n",
       "      <th>158</th>\n",
       "      <td>16106</td>\n",
       "      <td>1505546393</td>\n",
       "      <td>t3_owd315</td>\n",
       "      <td>1627905843</td>\n",
       "      <td>1.0</td>\n",
       "      <td>0.0</td>\n",
       "      <td>ThrowawayAlt345</td>\n",
       "      <td>AITA for telling my surrogate to stop acting l...</td>\n",
       "      <td>NaN</td>\n",
       "      <td>\\nMy husband and I have been together for 5 ye...</td>\n",
       "      <td>...</td>\n",
       "      <td>AmItheAsshole</td>\n",
       "      <td>NaN</td>\n",
       "      <td>2429.0</td>\n",
       "      <td>3144.0</td>\n",
       "      <td>Not enough info</td>\n",
       "      <td>NaN</td>\n",
       "      <td>NaN</td>\n",
       "      <td>NaN</td>\n",
       "      <td>husband year want kid health problem possible ...</td>\n",
       "      <td>2</td>\n",
       "    </tr>\n",
       "  </tbody>\n",
       "</table>\n",
       "<p>5 rows × 21 columns</p>\n",
       "</div>"
      ],
      "text/plain": [
       "     Unnamed: 0       idint      idstr     created  self  nsfw  \\\n",
       "42        13511  1368780762  t3_mmxpzu  1617905292   1.0   0.0   \n",
       "45        16159  1507921691  t3_oxrztn  1628081415   1.0   0.0   \n",
       "58         7045  1028396948  t3_h0a45w  1591792971   1.0   0.0   \n",
       "132        7924  1081667392  t3_hvzvwg  1595444805   1.0   0.0   \n",
       "158       16106  1505546393  t3_owd315  1627905843   1.0   0.0   \n",
       "\n",
       "                   author                                              title  \\\n",
       "42     Throwaway-twinmama  AITA for calling out my kids’ future stepmom f...   \n",
       "45             CrunchySiL  AITA for kicking my SiL out after she threw aw...   \n",
       "58          chancecreator  AITA for telling my stepdaughter to stop using...   \n",
       "132  Lost_Recommendation4  AITA for not forgiving my(27) fiance(28) for m...   \n",
       "158       ThrowawayAlt345  AITA for telling my surrogate to stop acting l...   \n",
       "\n",
       "     url                                           selftext  ...  \\\n",
       "42   NaN  I [29F] dated a guy Joe (30M) for 3 months bef...  ...   \n",
       "45   NaN  I'm 19f, I have a 3 week old baby girl. I do s...  ...   \n",
       "58   NaN  I have been living with my new wife and stepda...  ...   \n",
       "132  NaN  My husbands girl best friend (we'll call her M...  ...   \n",
       "158  NaN  \\nMy husband and I have been together for 5 ye...  ...   \n",
       "\n",
       "         subreddit distinguish textlen  num_comments       flair_text  \\\n",
       "42   AmItheAsshole         NaN  2674.0        4838.0   Not the A-hole   \n",
       "45   AmItheAsshole         NaN  2197.0        2118.0   Not the A-hole   \n",
       "58   AmItheAsshole         NaN  2945.0        4796.0          Asshole   \n",
       "132  AmItheAsshole         NaN  2353.0        2242.0   Not the A-hole   \n",
       "158  AmItheAsshole         NaN  2429.0        3144.0  Not enough info   \n",
       "\n",
       "    flair_css_class augmented_at  augmented_count  \\\n",
       "42              not          NaN              NaN   \n",
       "45              not          NaN              NaN   \n",
       "58              ass          NaN              NaN   \n",
       "132             not          NaN              NaN   \n",
       "158             NaN          NaN              NaN   \n",
       "\n",
       "                                        selftext_clean dominant_topic  \n",
       "42   date guy joe m month leave ex kim right break ...              2  \n",
       "45   week old baby girl live parent pay rent equall...              2  \n",
       "58   live new wife stepdaughter month son age good ...              2  \n",
       "132  husband girl good friend madison like reason g...              2  \n",
       "158  husband year want kid health problem possible ...              2  \n",
       "\n",
       "[5 rows x 21 columns]"
      ]
     },
     "execution_count": 21,
     "metadata": {},
     "output_type": "execute_result"
    }
   ],
   "source": [
    "df_topic_2[:5]"
   ]
  }
 ],
 "metadata": {
  "kernelspec": {
   "display_name": "dlab2",
   "language": "python",
   "name": "python3"
  },
  "language_info": {
   "codemirror_mode": {
    "name": "ipython",
    "version": 3
   },
   "file_extension": ".py",
   "mimetype": "text/x-python",
   "name": "python",
   "nbconvert_exporter": "python",
   "pygments_lexer": "ipython3",
   "version": "3.10.18"
  }
 },
 "nbformat": 4,
 "nbformat_minor": 5
}
