{
 "cells": [
  {
   "cell_type": "markdown",
   "id": "cell-0",
   "metadata": {},
   "source": [
    "# NLP Fundamentals Lab\n",
    "\n",
    "* * * \n",
    "\n",
    "<div class=\"alert alert-success\">  \n",
    "    \n",
    "### Lab Objectives \n",
    "    \n",
    "Apply the NLP fundamentals you learned in the lesson to your own text dataset:\n",
    "* Preprocess your text data using appropriate cleaning techniques\n",
    "* Compare different tokenization approaches on your data\n",
    "* Create numerical representations using Bag-of-Words and TF-IDF\n",
    "* Build a text classifier if you have labeled data\n",
    "* Analyze and interpret your results\n",
    "</div>\n",
    "\n",
    "### Icons Used in This Lab\n",
    "🔔 **Question**: A quick question to help you understand what's going on.<br>\n",
    "💡 **Tip**: How to do something a bit more efficiently or effectively.<br>\n",
    "⚠️ **Warning:** Heads-up about tricky stuff or common mistakes.<br>\n",
    "📝 **Your Task**: Something for you to implement or analyze.<br>\n",
    "\n",
    "### Sections\n",
    "1. [Data Import and Exploration](#section1)\n",
    "2. [Text Preprocessing](#section2)\n",
    "3. [Tokenization Comparison](#section3)\n",
    "4. [Numerical Representation](#section4)\n",
    "5. [Text Classification (Optional)](#section5)\n",
    "6. [Analysis and Reflection](#section6)"
   ]
  },
  {
   "cell_type": "markdown",
   "id": "cell-1",
   "metadata": {},
   "source": [
    "## Setup\n",
    "\n",
    "First, let's install and import the necessary packages for text analysis."
   ]
  },
  {
   "cell_type": "code",
   "execution_count": null,
   "id": "cell-2",
   "metadata": {},
   "outputs": [],
   "source": [
    "# Uncomment the following lines to install packages if needed\n",
    "# %pip install nltk\n",
    "# %pip install transformers\n",
    "# %pip install spacy\n",
    "# %pip install scikit-learn\n",
    "# !python -m spacy download en_core_web_sm"
   ]
  },
  {
   "cell_type": "code",
   "execution_count": null,
   "id": "cell-3",
   "metadata": {},
   "outputs": [],
   "source": [
    "# Import necessary packages\n",
    "import re\n",
    "import numpy as np\n",
    "import pandas as pd\n",
    "import matplotlib.pyplot as plt\n",
    "import seaborn as sns\n",
    "from string import punctuation\n",
    "%matplotlib inline"
   ]
  },
  {
   "cell_type": "markdown",
   "id": "cell-4",
   "metadata": {},
   "source": [
    "<a id='section1'></a>\n",
    "\n",
    "# 1. Data Import and Exploration\n",
    "\n",
    "📝 **Your Task**: Import your text dataset and explore its structure.\n",
    "\n",
    "**Questions to consider:**\n",
    "- What format is your data in? (CSV, JSON, plain text files, etc.)\n",
    "- Which column(s) contain the main text you want to analyze?\n",
    "- What other information do you have (labels, categories, metadata)?\n",
    "- How many documents/texts do you have?\n",
    "- What does a typical text look like in your dataset?"
   ]
  },
  {
   "cell_type": "code",
   "execution_count": null,
   "id": "cell-5",
   "metadata": {},
   "outputs": [],
   "source": [
    "# Load your dataset\n",
    "# Example: df = pd.read_csv('your_data.csv')\n"
   ]
  },
  {
   "cell_type": "code",
   "execution_count": null,
   "id": "cell-6",
   "metadata": {},
   "outputs": [],
   "source": [
    "# Explore the structure of your data\n",
    "# Show first few rows, column info, basic statistics\n"
   ]
  },
  {
   "cell_type": "code",
   "execution_count": null,
   "id": "cell-7",
   "metadata": {},
   "outputs": [],
   "source": [
    "# Look at a few example texts\n",
    "# Display 2-3 representative examples from your dataset\n"
   ]
  },
  {
   "cell_type": "markdown",
   "id": "cell-8",
   "metadata": {},
   "source": [
    "🔔 **Question**: What patterns do you notice in your text data? What preprocessing challenges might you encounter?"
   ]
  },
  {
   "cell_type": "markdown",
   "id": "cell-9",
   "metadata": {},
   "source": [
    "<a id='section2'></a>\n",
    "\n",
    "# 2. Text Preprocessing\n",
    "\n",
    "📝 **Your Task**: Clean and preprocess your text data based on its specific characteristics.\n",
    "\n",
    "**Common preprocessing steps to consider:**\n",
    "- Handle missing values (NaN, empty strings)\n",
    "- Remove or replace unwanted content (URLs, email addresses, special characters)\n",
    "- Lowercase text\n",
    "- Remove extra whitespace\n",
    "- Handle punctuation\n",
    "- Create placeholders for specific patterns in your data"
   ]
  },
  {
   "cell_type": "code",
   "execution_count": null,
   "id": "cell-10",
   "metadata": {},
   "outputs": [],
   "source": [
    "# Check for and handle missing values\n",
    "# Count NaN values, empty strings, or other missing data indicators\n"
   ]
  },
  {
   "cell_type": "code",
   "execution_count": null,
   "id": "cell-11",
   "metadata": {},
   "outputs": [],
   "source": [
    "# Remove or filter out unusable rows\n",
    "# Remove rows with insufficient content or placeholder text\n"
   ]
  },
  {
   "cell_type": "code",
   "execution_count": null,
   "id": "cell-12",
   "metadata": {},
   "outputs": [],
   "source": [
    "# Create a basic preprocessing function\n",
    "def basic_preprocess(text):\n",
    "    \"\"\"\n",
    "    Apply basic preprocessing steps to text.\n",
    "    Adapt this function based on your data's characteristics.\n",
    "    \"\"\"\n",
    "    # Convert to string and lowercase\n",
    "    \n",
    "    # Remove extra whitespace using regex\n",
    "    \n",
    "    # Handle other data-specific patterns\n",
    "    \n",
    "    return text\n",
    "\n",
    "# Test your function on an example\n"
   ]
  },
  {
   "cell_type": "code",
   "execution_count": null,
   "id": "cell-13",
   "metadata": {},
   "outputs": [],
   "source": [
    "# Create an advanced preprocessing function with regex patterns\n",
    "def advanced_preprocess(text):\n",
    "    \"\"\"\n",
    "    Apply domain-specific preprocessing.\n",
    "    Replace patterns specific to your dataset with placeholders.\n",
    "    \"\"\"\n",
    "    \n",
    "    # Example patterns you might want to replace:\n",
    "    # URLs, email addresses, phone numbers, dates, etc.\n",
    "    \n",
    "    # Replace URLs with placeholder\n",
    "    # pattern = r'http[s]?://(?:[a-zA-Z]|[0-9]|[$-_@.&+]|[!*\\\\(\\\\),]|(?:%[0-9a-fA-F][0-9a-fA-F]))+'\n",
    "    # text = re.sub(pattern, ' URL ', text)\n",
    "    \n",
    "    # Replace numbers with placeholder\n",
    "    # pattern = r'\\\\d+'\n",
    "    # text = re.sub(pattern, ' NUMBER ', text)\n",
    "    \n",
    "    # Add your own domain-specific patterns here\n",
    "    \n",
    "    return text\n",
    "\n",
    "# Test your advanced function\n"
   ]
  },
  {
   "cell_type": "code",
   "execution_count": null,
   "id": "cell-14",
   "metadata": {},
   "outputs": [],
   "source": [
    "# Apply preprocessing to your dataset\n",
    "# Create a new column with cleaned text\n"
   ]
  },
  {
   "cell_type": "markdown",
   "id": "cell-15",
   "metadata": {},
   "source": [
    "<a id='section3'></a>\n",
    "\n",
    "# 3. Tokenization Comparison\n",
    "\n",
    "📝 **Your Task**: Compare different tokenization approaches on your data and understand their trade-offs.\n",
    "\n",
    "**Tokenizers to compare:**\n",
    "- NLTK (rule-based)\n",
    "- spaCy (linguistic model-based)\n",
    "- Modern transformer tokenizer (subword-based)"
   ]
  },
  {
   "cell_type": "code",
   "execution_count": null,
   "id": "cell-16",
   "metadata": {},
   "outputs": [],
   "source": [
    "# Download NLTK resources if needed\n",
    "import nltk\n",
    "# nltk.download('punkt')\n",
    "# nltk.download('stopwords')\n",
    "# nltk.download('wordnet')"
   ]
  },
  {
   "cell_type": "code",
   "execution_count": null,
   "id": "cell-17",
   "metadata": {},
   "outputs": [],
   "source": [
    "# Set up tokenizers\n",
    "from nltk.tokenize import word_tokenize\n",
    "from nltk.corpus import stopwords\n",
    "import spacy\n",
    "from transformers import AutoTokenizer\n",
    "\n",
    "# Load spaCy model\n",
    "nlp = spacy.load('en_core_web_sm')\n",
    "\n",
    "# Load transformer tokenizer\n",
    "tok = AutoTokenizer.from_pretrained(\"bert-base-uncased\")\n",
    "\n",
    "# Get stop words\n",
    "stop_words = set(stopwords.words('english'))"
   ]
  },
  {
   "cell_type": "code",
   "execution_count": null,
   "id": "cell-18",
   "metadata": {},
   "outputs": [],
   "source": [
    "# Create traditional preprocessing function (NLTK-based)\n",
    "def traditional_tokenize(text):\n",
    "    \"\"\"\n",
    "    Traditional NLP preprocessing: lowercase, remove punctuation, \n",
    "    tokenize, remove stopwords.\n",
    "    \"\"\"\n",
    "    \n",
    "    # Lowercase\n",
    "    \n",
    "    # Remove punctuation\n",
    "    \n",
    "    # Tokenize with NLTK\n",
    "    \n",
    "    # Remove stop words\n",
    "    \n",
    "    return ' '.join(tokens)"
   ]
  },
  {
   "cell_type": "code",
   "execution_count": null,
   "id": "cell-19",
   "metadata": {},
   "outputs": [],
   "source": [
    "# Create spaCy preprocessing function\n",
    "def spacy_tokenize(text):\n",
    "    \"\"\"\n",
    "    SpaCy-based preprocessing with linguistic features.\n",
    "    \"\"\"\n",
    "    \n",
    "    # Process with spaCy\n",
    "    \n",
    "    # Extract tokens, filter stop words, punctuation, spaces\n",
    "    \n",
    "    # Optional: use lemmatization instead of original text\n",
    "    \n",
    "    return ' '.join(tokens)"
   ]
  },
  {
   "cell_type": "code",
   "execution_count": null,
   "id": "cell-20",
   "metadata": {},
   "outputs": [],
   "source": [
    "# Create modern tokenizer function\n",
    "def modern_tokenize(text):\n",
    "    \"\"\"\n",
    "    Modern subword tokenization.\n",
    "    \"\"\"\n",
    "    \n",
    "    # Tokenize with transformer tokenizer\n",
    "    \n",
    "    return ' '.join(tokens)"
   ]
  },
  {
   "cell_type": "code",
   "execution_count": null,
   "id": "cell-21",
   "metadata": {},
   "outputs": [],
   "source": [
    "# Compare tokenization approaches on example text\n",
    "# Pick a representative example from your dataset\n",
    "example_text = \"\"  # Replace with your example\n",
    "\n",
    "print(\"Original text:\")\n",
    "print(example_text)\n",
    "print(\"\\n\" + \"=\"*50 + \"\\n\")\n",
    "\n",
    "print(\"Traditional (NLTK):\")\n",
    "# Apply traditional_tokenize\n",
    "\n",
    "print(\"\\nSpaCy:\")\n",
    "# Apply spacy_tokenize\n",
    "\n",
    "print(\"\\nModern (Transformer):\")\n",
    "# Apply modern_tokenize"
   ]
  },
  {
   "cell_type": "markdown",
   "id": "cell-22",
   "metadata": {},
   "source": [
    "🔔 **Question**: What differences do you notice between the tokenization approaches? Which seems most appropriate for your data and task?"
   ]
  },
  {
   "cell_type": "code",
   "execution_count": null,
   "id": "cell-23",
   "metadata": {},
   "outputs": [],
   "source": [
    "# Apply your chosen preprocessing approach to the full dataset\n",
    "# Create a column with the processed text\n"
   ]
  },
  {
   "cell_type": "markdown",
   "id": "cell-24",
   "metadata": {},
   "source": [
    "<a id='section4'></a>\n",
    "\n",
    "# 4. Numerical Representation\n",
    "\n",
    "📝 **Your Task**: Convert your preprocessed text into numerical representations using Bag-of-Words and TF-IDF.\n",
    "\n",
    "**Key considerations:**\n",
    "- What vocabulary size makes sense for your dataset?\n",
    "- Should you filter out very rare or very common words?\n",
    "- How do the representations differ between Bag-of-Words and TF-IDF?"
   ]
  },
  {
   "cell_type": "code",
   "execution_count": null,
   "id": "cell-25",
   "metadata": {},
   "outputs": [],
   "source": [
    "from sklearn.feature_extraction.text import CountVectorizer, TfidfVectorizer"
   ]
  },
  {
   "cell_type": "code",
   "execution_count": null,
   "id": "cell-26",
   "metadata": {},
   "outputs": [],
   "source": [
    "# Create Bag-of-Words representation\n",
    "# Initialize CountVectorizer with appropriate parameters\n",
    "count_vectorizer = None  # Your implementation\n",
    "\n",
    "# Fit and transform your text data\n",
    "bow_matrix = None  # Your implementation\n",
    "\n",
    "# Create DataFrame for easier inspection\n",
    "bow_df = None  # Your implementation"
   ]
  },
  {
   "cell_type": "code",
   "execution_count": null,
   "id": "cell-27",
   "metadata": {},
   "outputs": [],
   "source": [
    "# Explore the Bag-of-Words representation\n",
    "# Print matrix shape, vocabulary size, most frequent words\n"
   ]
  },
  {
   "cell_type": "code",
   "execution_count": null,
   "id": "cell-28",
   "metadata": {},
   "outputs": [],
   "source": [
    "# Create TF-IDF representation\n",
    "# Initialize TfidfVectorizer with appropriate parameters\n",
    "tfidf_vectorizer = None  # Your implementation\n",
    "\n",
    "# Fit and transform your text data\n",
    "tfidf_matrix = None  # Your implementation\n",
    "\n",
    "# Create DataFrame for easier inspection\n",
    "tfidf_df = None  # Your implementation"
   ]
  },
  {
   "cell_type": "code",
   "execution_count": null,
   "id": "cell-29",
   "metadata": {},
   "outputs": [],
   "source": [
    "# Compare a single document in both representations\n",
    "# Pick a document index to examine\n",
    "doc_index = 0\n",
    "\n",
    "# Show the original text\n",
    "\n",
    "# Show top words by Bag-of-Words count\n",
    "\n",
    "# Show top words by TF-IDF score\n"
   ]
  },
  {
   "cell_type": "code",
   "execution_count": null,
   "id": "cell-30",
   "metadata": {},
   "outputs": [],
   "source": [
    "# Visualize the most important words across your corpus\n",
    "# Create bar plots for top words in both representations\n"
   ]
  },
  {
   "cell_type": "markdown",
   "id": "cell-31",
   "metadata": {},
   "source": [
    "🔔 **Question**: How do the Bag-of-Words and TF-IDF representations differ for your data? Which seems more informative?"
   ]
  },
  {
   "cell_type": "markdown",
   "id": "cell-32",
   "metadata": {},
   "source": [
    "<a id='section5'></a>\n",
    "\n",
    "# 5. Text Classification (Optional)\n",
    "\n",
    "📝 **Your Task**: If your dataset has labels or categories, build a text classifier.\n",
    "\n",
    "**Requirements:**\n",
    "- Your data must have a target variable (labels, categories, ratings, etc.)\n",
    "- You need at least 2 classes with reasonable representation\n",
    "- If you don't have labeled data, skip this section or create labels based on some text characteristics\n",
    "\n",
    "💡 **Tip**: If you don't have natural labels, you could create binary labels based on text length, presence of certain words, or other measurable characteristics."
   ]
  },
  {
   "cell_type": "code",
   "execution_count": null,
   "id": "cell-33",
   "metadata": {},
   "outputs": [],
   "source": [
    "# Check if you have suitable labels for classification\n",
    "# Explore your target variable\n"
   ]
  },
  {
   "cell_type": "code",
   "execution_count": null,
   "id": "cell-34",
   "metadata": {},
   "outputs": [],
   "source": [
    "# Prepare data for classification\n",
    "# Filter to classes with sufficient samples, handle class imbalance if needed\n"
   ]
  },
  {
   "cell_type": "code",
   "execution_count": null,
   "id": "cell-35",
   "metadata": {},
   "outputs": [],
   "source": [
    "# Split data into features and target\n",
    "from sklearn.model_selection import train_test_split\n",
    "\n",
    "# Define X (text) and y (labels)\n",
    "X = None  # Your text data\n",
    "y = None  # Your labels\n",
    "\n",
    "# Train-test split\n",
    "X_train, X_test, y_train, y_test = None  # Your implementation"
   ]
  },
  {
   "cell_type": "code",
   "execution_count": null,
   "id": "cell-36",
   "metadata": {},
   "outputs": [],
   "source": [
    "# Build classification pipeline\n",
    "from sklearn.pipeline import Pipeline\n",
    "from sklearn.linear_model import LogisticRegression\n",
    "from sklearn.metrics import accuracy_score, classification_report, confusion_matrix\n",
    "\n",
    "# Create pipeline with TF-IDF and classifier\n",
    "classifier = None  # Your implementation\n",
    "\n",
    "# Train the model\n",
    "\n",
    "# Make predictions\n",
    "\n",
    "# Evaluate performance\n"
   ]
  },
  {
   "cell_type": "code",
   "execution_count": null,
   "id": "cell-37",
   "metadata": {},
   "outputs": [],
   "source": [
    "# Analyze feature importance\n",
    "# Extract and visualize the most important features for each class\n"
   ]
  },
  {
   "cell_type": "code",
   "execution_count": null,
   "id": "cell-38",
   "metadata": {},
   "outputs": [],
   "source": [
    "# Test on new examples\n",
    "# Create some test examples or use holdout data\n",
    "new_examples = []  # Add your test cases\n",
    "\n",
    "# Make predictions and show probabilities\n"
   ]
  },
  {
   "cell_type": "markdown",
   "id": "sentiment-section-header",
   "metadata": {},
   "source": [
    "<a id='section5b'></a>\n",
    "\n",
    "# 5b. Simple Sentiment Analysis with VADER\n",
    "\n",
    "📝 **Your Task**: Analyze the emotional tone of your text data using VADER (Valence Aware Dictionary and sEntiment Reasoner).\n",
    "\n",
    "**When to use VADER:**\n",
    "- ✅ Social media text (Twitter, Reddit, Facebook)\n",
    "- ✅ Text with emojis, slang, or informal language\n",
    "- ✅ Need fast results on large datasets\n",
    "- ✅ Want interpretable sentiment scores\n",
    "\n",
    "**When to skip this section:**\n",
    "- ❌ Your text doesn't express emotions or opinions\n",
    "- ❌ You have highly domain-specific sentiment (medical, legal)\n",
    "\n",
    "**What VADER gives you:**\n",
    "- **compound**: Overall sentiment score (-1 to +1) ← Use this for most analyses\n",
    "- **positive**: Proportion of positive words (0 to 1)\n",
    "- **negative**: Proportion of negative words (0 to 1)\n",
    "- **neutral**: Proportion of neutral words (0 to 1)"
   ]
  },
  {
   "cell_type": "code",
   "execution_count": null,
   "id": "sentiment-install-lab",
   "metadata": {},
   "outputs": [],
   "source": [
    "# Install VADER if needed\n",
    "# !pip install vaderSentiment"
   ]
  },
  {
   "cell_type": "code",
   "execution_count": null,
   "id": "sentiment-import-lab",
   "metadata": {},
   "outputs": [],
   "source": [
    "from vaderSentiment.vaderSentiment import SentimentIntensityAnalyzer\n",
    "\n",
    "# Initialize VADER\n",
    "analyzer = SentimentIntensityAnalyzer()"
   ]
  },
  {
   "cell_type": "markdown",
   "id": "sentiment-test-md",
   "metadata": {},
   "source": [
    "### Test VADER on Examples\n",
    "\n",
    "First, test VADER on a few example texts to see how it works:"
   ]
  },
  {
   "cell_type": "code",
   "execution_count": null,
   "id": "sentiment-test",
   "metadata": {},
   "outputs": [],
   "source": [
    "# Test on example texts from your domain\n",
    "# Replace these with representative examples from your dataset\n",
    "test_examples = [\n",
    "    \"Your positive example text here\",\n",
    "    \"Your negative example text here\",\n",
    "    \"Your neutral example text here\"\n",
    "]\n",
    "\n",
    "print(\"Testing VADER on examples:\\n\" + \"=\"*60)\n",
    "for text in test_examples:\n",
    "    scores = analyzer.polarity_scores(text)\n",
    "    print(f\"\\nText: {text}\")\n",
    "    print(f\"Scores: {scores}\")\n",
    "    print(f\"Overall sentiment (compound): {scores['compound']:.3f}\")"
   ]
  },
  {
   "cell_type": "markdown",
   "id": "sentiment-apply-md-lab",
   "metadata": {},
   "source": [
    "### Apply VADER to Your Dataset\n",
    "\n",
    "Now apply sentiment analysis to all your texts:"
   ]
  },
  {
   "cell_type": "code",
   "execution_count": null,
   "id": "sentiment-apply-lab",
   "metadata": {},
   "outputs": [],
   "source": [
    "# Apply VADER to your text column\n",
    "# Replace 'text_column' with your actual column name\n",
    "# df['sentiment_scores'] = df['text_column'].apply(\n",
    "#     lambda x: analyzer.polarity_scores(str(x))\n",
    "# )\n",
    "\n",
    "# Extract compound score (overall sentiment)\n",
    "# df['sentiment_compound'] = df['sentiment_scores'].apply(lambda x: x['compound'])\n",
    "\n",
    "# Optional: Extract individual components\n",
    "# df['sentiment_pos'] = df['sentiment_scores'].apply(lambda x: x['pos'])\n",
    "# df['sentiment_neg'] = df['sentiment_scores'].apply(lambda x: x['neg'])\n",
    "# df['sentiment_neu'] = df['sentiment_scores'].apply(lambda x: x['neu'])\n",
    "\n",
    "# Show first few results\n"
   ]
  },
  {
   "cell_type": "markdown",
   "id": "sentiment-categorize-md-lab",
   "metadata": {},
   "source": [
    "### Categorize Sentiment (Optional)\n",
    "\n",
    "Convert compound scores into simple categories for easier analysis:"
   ]
  },
  {
   "cell_type": "code",
   "execution_count": null,
   "id": "sentiment-categorize-lab",
   "metadata": {},
   "outputs": [],
   "source": [
    "def categorize_sentiment(compound_score):\n",
    "    \"\"\"\n",
    "    Categorize sentiment based on compound score.\n",
    "    Adjust thresholds based on your data if needed.\n",
    "    \"\"\"\n",
    "    if compound_score >= 0.05:\n",
    "        return 'positive'\n",
    "    elif compound_score <= -0.05:\n",
    "        return 'negative'\n",
    "    else:\n",
    "        return 'neutral'\n",
    "\n",
    "# Apply categorization\n",
    "# df['sentiment_category'] = df['sentiment_compound'].apply(categorize_sentiment)\n",
    "\n",
    "# Show distribution\n",
    "# print(\"Sentiment distribution:\")\n",
    "# print(df['sentiment_category'].value_counts())\n",
    "# print(\"\\nPercentages:\")\n",
    "# print(df['sentiment_category'].value_counts(normalize=True).round(3) * 100)"
   ]
  },
  {
   "cell_type": "markdown",
   "id": "sentiment-viz-md-lab",
   "metadata": {},
   "source": [
    "### Visualize Sentiment Distribution"
   ]
  },
  {
   "cell_type": "code",
   "execution_count": null,
   "id": "sentiment-viz-lab",
   "metadata": {},
   "outputs": [],
   "source": [
    "# Visualize sentiment distribution\n",
    "# fig, axes = plt.subplots(1, 2, figsize=(14, 5))\n",
    "\n",
    "# # Histogram of compound scores\n",
    "# axes[0].hist(df['sentiment_compound'], bins=30, edgecolor='black', alpha=0.7)\n",
    "# axes[0].axvline(x=0, color='red', linestyle='--', alpha=0.5, label='Neutral')\n",
    "# axes[0].set_xlabel('Sentiment Compound Score')\n",
    "# axes[0].set_ylabel('Number of Texts')\n",
    "# axes[0].set_title('Distribution of Sentiment Scores')\n",
    "# axes[0].legend()\n",
    "# axes[0].grid(True, alpha=0.3)\n",
    "\n",
    "# # Bar chart of categories\n",
    "# sentiment_counts = df['sentiment_category'].value_counts()\n",
    "# colors = {'positive': 'green', 'neutral': 'gray', 'negative': 'red'}\n",
    "# bar_colors = [colors[cat] for cat in sentiment_counts.index]\n",
    "\n",
    "# axes[1].bar(sentiment_counts.index, sentiment_counts.values, \n",
    "#             color=bar_colors, alpha=0.7, edgecolor='black')\n",
    "# axes[1].set_xlabel('Sentiment Category')\n",
    "# axes[1].set_ylabel('Count')\n",
    "# axes[1].set_title('Sentiment Categories')\n",
    "# axes[1].grid(True, alpha=0.3, axis='y')\n",
    "\n",
    "# plt.tight_layout()\n",
    "# plt.show()"
   ]
  },
  {
   "cell_type": "markdown",
   "id": "sentiment-analysis-md",
   "metadata": {},
   "source": [
    "### Analyze Sentiment Patterns\n",
    "\n",
    "Explore how sentiment varies across different categories or groups in your data:"
   ]
  },
  {
   "cell_type": "code",
   "execution_count": null,
   "id": "sentiment-analysis",
   "metadata": {},
   "outputs": [],
   "source": [
    "# If you have categories or labels, compare sentiment across them\n",
    "# Example: Compare sentiment by category\n",
    "# sentiment_by_category = df.groupby('your_category_column')['sentiment_compound'].agg(['mean', 'std', 'count'])\n",
    "# print(sentiment_by_category)\n",
    "\n",
    "# Visualize sentiment by category\n",
    "# df.boxplot(column='sentiment_compound', by='your_category_column', figsize=(10, 6))\n",
    "# plt.ylabel('Sentiment Compound Score')\n",
    "# plt.title('Sentiment Distribution by Category')\n",
    "# plt.suptitle('')  # Remove default title\n",
    "# plt.axhline(y=0, color='red', linestyle='--', alpha=0.5)\n",
    "# plt.tight_layout()\n",
    "# plt.show()"
   ]
  },
  {
   "cell_type": "markdown",
   "id": "sentiment-extreme-md-lab",
   "metadata": {},
   "source": [
    "### Examine Extreme Examples\n",
    "\n",
    "Look at the most positive and negative examples to understand what VADER is detecting:"
   ]
  },
  {
   "cell_type": "code",
   "execution_count": null,
   "id": "sentiment-extreme-lab",
   "metadata": {},
   "outputs": [],
   "source": [
    "# Find most positive text\n",
    "# most_positive_idx = df['sentiment_compound'].idxmax()\n",
    "# print(\"Most POSITIVE text:\")\n",
    "# print(f\"Score: {df.loc[most_positive_idx, 'sentiment_compound']:.3f}\")\n",
    "# print(f\"Text: {df.loc[most_positive_idx, 'your_text_column'][:300]}...\")\n",
    "# print(\"\\n\" + \"=\"*80 + \"\\n\")\n",
    "\n",
    "# Find most negative text\n",
    "# most_negative_idx = df['sentiment_compound'].idxmin()\n",
    "# print(\"Most NEGATIVE text:\")\n",
    "# print(f\"Score: {df.loc[most_negative_idx, 'sentiment_compound']:.3f}\")\n",
    "# print(f\"Text: {df.loc[most_negative_idx, 'your_text_column'][:300]}...\")"
   ]
  },
  {
   "cell_type": "markdown",
   "id": "sentiment-insights-md",
   "metadata": {},
   "source": [
    "### Sentiment Insights\n",
    "\n",
    "🔔 **Questions to consider:**\n",
    "- What is the overall sentiment distribution in your dataset?\n",
    "- Are there differences in sentiment across categories/groups?\n",
    "- Do the most extreme examples make sense?\n",
    "- What patterns or insights does sentiment reveal about your data?\n",
    "\n",
    "💡 **Tip**: VADER measures the *emotional tone* of the writing, not necessarily the \"truth\" or \"correctness\" of the content. Consider what sentiment means in the context of your specific dataset.\n",
    "\n",
    "⚠️ **Warning**: If your results seem off, check:\n",
    "- Is your text type appropriate for VADER? (social media works best)\n",
    "- Did you handle NaN values properly?\n",
    "- Are the extreme examples what you'd expect?\n",
    "- Might you need domain-specific sentiment analysis instead?"
   ]
  },
  {
   "cell_type": "markdown",
   "id": "cell-39",
   "metadata": {},
   "source": [
    "<a id='section6'></a>\n",
    "\n",
    "# 6. Analysis and Reflection\n",
    "\n",
    "📝 **Your Task**: Reflect on your analysis and findings.\n",
    "\n",
    "**Questions to address:**\n",
    "- What insights did you gain about your text data?\n",
    "- Which preprocessing steps were most important for your dataset?\n",
    "- How well did the different approaches work?\n",
    "- What challenges did you encounter?\n",
    "- What would you do differently or explore further?"
   ]
  },
  {
   "cell_type": "markdown",
   "id": "cell-40",
   "metadata": {},
   "source": [
    "## Summary of Findings\n",
    "\n",
    "**Dataset characteristics:**\n",
    "- [Describe your dataset: size, source, type of text]\n",
    "- [Key patterns or challenges you observed]\n",
    "\n",
    "**Preprocessing insights:**\n",
    "- [Which preprocessing steps were most important]\n",
    "- [Domain-specific challenges you addressed]\n",
    "\n",
    "**Tokenization comparison:**\n",
    "- [How different tokenizers performed on your data]\n",
    "- [Which approach you chose and why]\n",
    "\n",
    "**Numerical representation:**\n",
    "- [Differences between Bag-of-Words and TF-IDF for your data]\n",
    "- [Most informative features/words]\n",
    "\n",
    "**Classification results (if applicable):**\n",
    "- [Model performance and key predictive features]\n",
    "- [Insights about what the model learned]"
   ]
  },
  {
   "cell_type": "markdown",
   "id": "cell-41",
   "metadata": {},
   "source": [
    "## Next Steps\n",
    "\n",
    "**Potential extensions:**\n",
    "- Experiment with different preprocessing approaches\n",
    "- Try other classification algorithms\n",
    "- Explore n-grams (bigrams, trigrams) in your vectorizers\n",
    "- Investigate misclassified examples\n",
    "- Compare with word embeddings or modern language models\n",
    "\n",
    "**Questions for further exploration:**\n",
    "- How would your results change with different preprocessing choices?\n",
    "- What other features could improve classification performance?\n",
    "- How do traditional methods compare to modern approaches on your data?"
   ]
  },
  {
   "cell_type": "markdown",
   "id": "cell-42",
   "metadata": {},
   "source": [
    "<div class=\"alert alert-success\">\n",
    "\n",
    "## ❗ Key Takeaways\n",
    "\n",
    "* **Preprocessing is crucial**: The quality of your analysis depends heavily on appropriate text cleaning and preprocessing.\n",
    "* **Different tokenizers have trade-offs**: Rule-based, linguistic, and subword approaches each have strengths for different types of text.\n",
    "* **TF-IDF often outperforms simple counts**: By considering both term frequency and document frequency, TF-IDF typically provides more informative representations.\n",
    "* **Domain knowledge matters**: Understanding your specific text domain helps guide preprocessing decisions and interpret results.\n",
    "* **Feature analysis is valuable**: Examining which words are most predictive can provide insights about your data and task.\n",
    "* **Traditional methods are still useful**: While modern language models are powerful, classical NLP techniques remain valuable for many tasks.\n",
    "\n",
    "</div>"
   ]
  },
  {
   "cell_type": "markdown",
   "id": "kq97xdsrhf",
   "metadata": {},
   "source": [
    "## 🚀 Stretch Goals\n",
    "\n",
    "For students who complete the lab early and want to explore further:"
   ]
  },
  {
   "cell_type": "markdown",
   "id": "5vtdt2xavy4",
   "metadata": {},
   "source": [
    "### 1. Experiment with N-grams\n",
    "\n",
    "Try using bigrams (two-word phrases) instead of just single words to capture more context:\n",
    "\n",
    "```python\n",
    "# Use ngram_range parameter in your vectorizer\n",
    "tfidf_bigram = TfidfVectorizer(ngram_range=(1,2), max_features=5000)\n",
    "X_bigram = tfidf_bigram.fit_transform(your_texts)\n",
    "\n",
    "# Find the most informative bigrams in your dataset\n",
    "```\n",
    "\n",
    "**Question**: Do bigrams improve your classification accuracy? Which bigrams are most meaningful for your data?"
   ]
  },
  {
   "cell_type": "markdown",
   "id": "ja6rah4x9fc",
   "metadata": {},
   "source": [
    "### 2. Named Entity Recognition (NER)\n",
    "\n",
    "**Challenge**: Extract structured information from unstructured text.\n",
    "\n",
    "**Tasks:**\n",
    "- Use spaCy's pre-trained NER model to identify entities (people, organizations, locations)\n",
    "- Visualize entity distributions in your corpus\n",
    "- Create a knowledge graph from extracted entities\n",
    "- Build custom entity patterns for domain-specific entities\n",
    "- Compare entity extraction across different text sources\n",
    "\n",
    "**Analysis ideas:**\n",
    "- Which entities appear most frequently?\n",
    "- How are different entity types distributed across your documents?\n",
    "- Can you find interesting co-occurrence patterns between entities?"
   ]
  },
  {
   "cell_type": "code",
   "execution_count": null,
   "id": "y3iumcefgj",
   "metadata": {},
   "outputs": [],
   "source": [
    "# Example: Extract and analyze named entities\n",
    "# import spacy\n",
    "# from collections import Counter\n",
    "\n",
    "# nlp = spacy.load(\"en_core_web_sm\")\n",
    "\n",
    "# # Extract entities from your texts\n",
    "# all_entities = []\n",
    "# for text in processed_texts[:100]:  # Sample for speed\n",
    "#     doc = nlp(text)\n",
    "#     for ent in doc.ents:\n",
    "#         all_entities.append((ent.text, ent.label_))\n",
    "\n",
    "# # Analyze entity distribution\n",
    "# entity_counts = Counter(all_entities)\n",
    "# person_entities = [(ent, count) for (ent, label), count in entity_counts.items() if label == 'PERSON']\n",
    "# org_entities = [(ent, count) for (ent, label), count in entity_counts.items() if label == 'ORG']\n",
    "\n",
    "# print(f\"Top people mentioned: {person_entities[:5]}\")\n",
    "# print(f\"Top organizations: {org_entities[:5]}\")"
   ]
  },
  {
   "cell_type": "markdown",
   "id": "k4tw5ewe4zc",
   "metadata": {},
   "source": [
    "### 3. Sentiment and Emotion Analysis\n",
    "\n",
    "**Challenge**: Go beyond classification to analyze sentiment and emotional content.\n",
    "\n",
    "**Tasks:**\n",
    "- Implement rule-based sentiment analysis using VADER or TextBlob\n",
    "- Create custom sentiment lexicons for your domain\n",
    "- Analyze sentiment distribution across different categories/labels\n",
    "- Build a sentiment classifier using your labeled data\n",
    "- Extract emotion-bearing phrases and patterns\n",
    "\n",
    "**Visualization ideas:**\n",
    "- Sentiment over time (if temporal data available)\n",
    "- Sentiment distribution by category\n",
    "- Word clouds colored by sentiment\n",
    "- Correlation between sentiment and other variables"
   ]
  },
  {
   "cell_type": "code",
   "execution_count": null,
   "id": "cy6ph0drxog",
   "metadata": {},
   "outputs": [],
   "source": [
    "# Example: Basic sentiment analysis\n",
    "# from textblob import TextBlob\n",
    "# # or: from vaderSentiment.vaderSentiment import SentimentIntensityAnalyzer\n",
    "\n",
    "# # Analyze sentiment for each text\n",
    "# sentiments = []\n",
    "# for text in your_texts[:100]:  # Sample for speed\n",
    "#     blob = TextBlob(text)\n",
    "#     sentiments.append(blob.sentiment.polarity)\n",
    "\n",
    "# # Visualize sentiment distribution\n",
    "# plt.hist(sentiments, bins=20, edgecolor='black')\n",
    "# plt.xlabel('Sentiment Polarity')\n",
    "# plt.ylabel('Frequency')\n",
    "# plt.title('Sentiment Distribution in Your Dataset')"
   ]
  },
  {
   "cell_type": "markdown",
   "id": "18003229",
   "metadata": {},
   "source": []
  }
 ],
 "metadata": {
  "kernelspec": {
   "display_name": "Python 3",
   "language": "python",
   "name": "python3"
  },
  "language_info": {
   "codemirror_mode": {
    "name": "ipython",
    "version": 3
   },
   "file_extension": ".py",
   "mimetype": "text/x-python",
   "name": "python",
   "nbconvert_exporter": "python",
   "pygments_lexer": "ipython3",
   "version": "3.8.5"
  }
 },
 "nbformat": 4,
 "nbformat_minor": 5
}
