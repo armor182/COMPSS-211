{
 "cells": [
  {
   "cell_type": "markdown",
   "id": "cell-0",
   "metadata": {},
   "source": [
    "# NLP Fundamentals with Reddit Data\n",
    "\n",
    "* * * \n",
    "\n",
    "<div class=\"alert alert-success\">  \n",
    "    \n",
    "### Learning Objectives \n",
    "    \n",
    "* Learn common steps for preprocessing text data, as well as specific operations for preprocessing Reddit data.\n",
    "* Know commonly used NLP packages and what they are capable of.\n",
    "* Understand tokenizers, and how they have changed since the advent of Large Language Models.\n",
    "* Learn how to convert text data into numbers through a Bag-of-Words approach.\n",
    "* Understand the TF-IDF algorithm and how it complements the Bag-of-Words representation.\n",
    "* Implement Bag-of-Words and TF-IDF using the `sklearn` package and understand its parameter settings.\n",
    "* Use the numerical representations of text data to perform classification tasks.\n",
    "</div>\n",
    "\n",
    "### Icons Used in This Notebook\n",
    "🔔 **Question**: A quick question to help you understand what's going on.<br>\n",
    "💡 **Tip**: How to do something a bit more efficiently or effectively.<br>\n",
    "⚠️ **Warning:** Heads-up about tricky stuff or common mistakes.<br>\n",
    "\n",
    "### Sections\n",
    "1. [Preprocessing](#section1)\n",
    "2. [Tokenization](#section2)\n",
    "3. [The Bag-of-Words Representation](#section3)\n",
    "4. [Term Frequency-Inverse Document Frequency](#section4)\n",
    "5. [Text Classification Using the TF-IDF Representation](#section5)"
   ]
  },
  {
   "cell_type": "markdown",
   "id": "cell-1",
   "metadata": {},
   "source": [
    "Today, we'll learn the building blocks for performing text analysis in Python using Reddit data from the popular subreddit r/AmItheAsshole (AITA). These techniques lie in the domain of Natural Language Processing (NLP). NLP is a field that deals with identifying and extracting patterns of language, primarily in written texts. Throughout the workshop, we'll interact with various packages for performing text analysis: starting from simple string methods to specific NLP packages, such as `nltk`, `spaCy`, and more recent ones on Large Language Models (`BERT`).\n",
    "\n",
    "Now, let's have these packages properly installed before diving into the materials."
   ]
  },
  {
   "cell_type": "code",
   "execution_count": null,
   "id": "cell-2",
   "metadata": {},
   "outputs": [],
   "source": [
    "# Uncomment the following lines to install packages/model\n",
    "# %pip install NLTK\n",
    "# %pip install transformers\n",
    "# %pip install spaCy\n",
    "# %pip install scikit-learn\n",
    "# !python -m spacy download en_core_web_sm"
   ]
  },
  {
   "cell_type": "code",
   "execution_count": null,
   "id": "cell-3",
   "metadata": {},
   "outputs": [],
   "source": [
    "# Import necessary packages\n",
    "import re\n",
    "import numpy as np\n",
    "import pandas as pd\n",
    "import matplotlib.pyplot as plt\n",
    "import seaborn as sns\n",
    "from string import punctuation\n",
    "%matplotlib inline"
   ]
  },
  {
   "cell_type": "markdown",
   "id": "cell-4",
   "metadata": {},
   "source": [
    "<a id='section1'></a>\n",
    "\n",
    "# Preprocessing\n",
    "\n",
    "In the first part, we'll address the first step of text analysis. Our goal is to convert the raw, messy text data into a consistent format. This process is often called **preprocessing**, **text cleaning**, or **text normalization**.\n",
    "\n",
    "You'll notice that at the end of preprocessing, our data is still in a format that we can read and understand. Later in this workshop, we will begin our foray into converting the text data into a numerical representation—a format that can be more readily handled by computers. \n",
    "\n",
    "🔔 **Question**: Let's pause for a minute to reflect on **your** previous experiences working on text data. \n",
    "- What is the format of the text data you have interacted with (plain text, CSV, or XML)?\n",
    "- Where does it come from (structured corpus, scraped from the web, survey data)?\n",
    "- Is it messy (i.e., is the data formatted consistently)?"
   ]
  },
  {
   "cell_type": "markdown",
   "id": "cell-5",
   "metadata": {},
   "source": [
    "## Common Processes\n",
    "\n",
    "Preprocessing is not something we can accomplish with a single line of code. We often start by familiarizing ourselves with the data, and along the way, we gain a clearer understanding of the granularity of preprocessing we want to apply.\n",
    "\n",
    "Typically, we begin by applying a set of commonly used processes to clean the data. These operations don't substantially alter the form or meaning of the data; they serve as a standardized procedure to reshape the data into a consistent format.\n",
    "\n",
    "The following processes, for examples, are commonly applied to preprocess English texts of various genres. These operations can be done using built-in Python functions, such as `string` methods, and Regular Expressions. \n",
    "- Lowercase the text\n",
    "- Remove punctuation marks\n",
    "- Remove extra whitespace characters\n",
    "- Remove stop words\n",
    "\n",
    "After the initial processing, we may choose to perform task-specific processes, the specifics of which often depend on the downstream task we want to perform and the nature of the text data (i.e., its stylistic and linguistic features).  \n",
    "\n",
    "Before we jump into these operations, let's take a look at our data!"
   ]
  },
  {
   "cell_type": "markdown",
   "id": "cell-6",
   "metadata": {},
   "source": [
    "### Import the Text Data\n",
    "\n",
    "The text data we'll be working with is a CSV file containing posts from the Reddit subreddit r/AmItheAsshole (AITA), where people post about moral dilemmas and ask for judgment from the community. \n",
    "\n",
    "Let's read the file `aita_top_subs.csv` into dataframe with `pandas`."
   ]
  },
  {
   "cell_type": "code",
   "execution_count": 143,
   "id": "cell-7",
   "metadata": {},
   "outputs": [],
   "source": [
    "# Import pandas\n",
    "import pandas as pd\n",
    "\n",
    "# Read the Reddit data\n",
    "df = pd.read_csv('../../data/aita_top_subs.csv')"
   ]
  },
  {
   "cell_type": "code",
   "execution_count": 9,
   "id": "cell-8",
   "metadata": {},
   "outputs": [
    {
     "data": {
      "text/html": [
       "<div>\n",
       "<style scoped>\n",
       "    .dataframe tbody tr th:only-of-type {\n",
       "        vertical-align: middle;\n",
       "    }\n",
       "\n",
       "    .dataframe tbody tr th {\n",
       "        vertical-align: top;\n",
       "    }\n",
       "\n",
       "    .dataframe thead th {\n",
       "        text-align: right;\n",
       "    }\n",
       "</style>\n",
       "<table border=\"1\" class=\"dataframe\">\n",
       "  <thead>\n",
       "    <tr style=\"text-align: right;\">\n",
       "      <th></th>\n",
       "      <th>Unnamed: 0</th>\n",
       "      <th>idint</th>\n",
       "      <th>idstr</th>\n",
       "      <th>created</th>\n",
       "      <th>self</th>\n",
       "      <th>nsfw</th>\n",
       "      <th>author</th>\n",
       "      <th>title</th>\n",
       "      <th>url</th>\n",
       "      <th>selftext</th>\n",
       "      <th>score</th>\n",
       "      <th>subreddit</th>\n",
       "      <th>distinguish</th>\n",
       "      <th>textlen</th>\n",
       "      <th>num_comments</th>\n",
       "      <th>flair_text</th>\n",
       "      <th>flair_css_class</th>\n",
       "      <th>augmented_at</th>\n",
       "      <th>augmented_count</th>\n",
       "    </tr>\n",
       "  </thead>\n",
       "  <tbody>\n",
       "    <tr>\n",
       "      <th>0</th>\n",
       "      <td>2947.0</td>\n",
       "      <td>7.977097e+08</td>\n",
       "      <td>t3_d6xoro</td>\n",
       "      <td>1.568998e+09</td>\n",
       "      <td>1.0</td>\n",
       "      <td>0.0</td>\n",
       "      <td>DarthCharizard</td>\n",
       "      <td>META: This sub is moving towards a value syste...</td>\n",
       "      <td>NaN</td>\n",
       "      <td>I’ve enjoyed reading and posting on this sub f...</td>\n",
       "      <td>80915.0</td>\n",
       "      <td>AmItheAsshole</td>\n",
       "      <td>NaN</td>\n",
       "      <td>9.0</td>\n",
       "      <td>6215.0</td>\n",
       "      <td>META</td>\n",
       "      <td>NaN</td>\n",
       "      <td>NaN</td>\n",
       "      <td>NaN</td>\n",
       "    </tr>\n",
       "    <tr>\n",
       "      <th>1</th>\n",
       "      <td>15292.0</td>\n",
       "      <td>1.472895e+09</td>\n",
       "      <td>t3_ocx94s</td>\n",
       "      <td>1.625316e+09</td>\n",
       "      <td>1.0</td>\n",
       "      <td>0.0</td>\n",
       "      <td>OnlyInQuebec9</td>\n",
       "      <td>AITA for telling my wife the lock on my daught...</td>\n",
       "      <td>NaN</td>\n",
       "      <td>My brother in-law (Sammy) lost his home shortl...</td>\n",
       "      <td>80334.0</td>\n",
       "      <td>AmItheAsshole</td>\n",
       "      <td>NaN</td>\n",
       "      <td>2664.0</td>\n",
       "      <td>5318.0</td>\n",
       "      <td>Not the A-hole</td>\n",
       "      <td>not</td>\n",
       "      <td>NaN</td>\n",
       "      <td>NaN</td>\n",
       "    </tr>\n",
       "    <tr>\n",
       "      <th>2</th>\n",
       "      <td>430.0</td>\n",
       "      <td>6.649214e+08</td>\n",
       "      <td>t3_azvko1</td>\n",
       "      <td>1.552322e+09</td>\n",
       "      <td>1.0</td>\n",
       "      <td>0.0</td>\n",
       "      <td>Renegadesrule33</td>\n",
       "      <td>UPDATE, AITA for despising my mentally handica...</td>\n",
       "      <td>NaN</td>\n",
       "      <td>I'm back like I said I would be,. My [original...</td>\n",
       "      <td>72776.0</td>\n",
       "      <td>AmItheAsshole</td>\n",
       "      <td>NaN</td>\n",
       "      <td>9.0</td>\n",
       "      <td>1989.0</td>\n",
       "      <td>UPDATE</td>\n",
       "      <td>NaN</td>\n",
       "      <td>NaN</td>\n",
       "      <td>NaN</td>\n",
       "    </tr>\n",
       "    <tr>\n",
       "      <th>3</th>\n",
       "      <td>3935.0</td>\n",
       "      <td>8.558628e+08</td>\n",
       "      <td>t3_e5k3z2</td>\n",
       "      <td>1.575393e+09</td>\n",
       "      <td>1.0</td>\n",
       "      <td>0.0</td>\n",
       "      <td>throwRA-fhfsveyary</td>\n",
       "      <td>AITA for pretending to get fired when customer...</td>\n",
       "      <td>NaN</td>\n",
       "      <td>I am a high schooler with a weekend job at a c...</td>\n",
       "      <td>63526.0</td>\n",
       "      <td>AmItheAsshole</td>\n",
       "      <td>NaN</td>\n",
       "      <td>2096.0</td>\n",
       "      <td>3645.0</td>\n",
       "      <td>Not the A-hole</td>\n",
       "      <td>not</td>\n",
       "      <td>NaN</td>\n",
       "      <td>NaN</td>\n",
       "    </tr>\n",
       "    <tr>\n",
       "      <th>4</th>\n",
       "      <td>2127.0</td>\n",
       "      <td>7.566360e+08</td>\n",
       "      <td>t3_cihc3z</td>\n",
       "      <td>1.564233e+09</td>\n",
       "      <td>1.0</td>\n",
       "      <td>0.0</td>\n",
       "      <td>Thunderbear998</td>\n",
       "      <td>AITA for telling my extended family how many m...</td>\n",
       "      <td>NaN</td>\n",
       "      <td>We had a family dinner this evening. My family...</td>\n",
       "      <td>54132.0</td>\n",
       "      <td>AmItheAsshole</td>\n",
       "      <td>NaN</td>\n",
       "      <td>1669.0</td>\n",
       "      <td>5190.0</td>\n",
       "      <td>Everyone Sucks</td>\n",
       "      <td>ass</td>\n",
       "      <td>NaN</td>\n",
       "      <td>NaN</td>\n",
       "    </tr>\n",
       "  </tbody>\n",
       "</table>\n",
       "</div>"
      ],
      "text/plain": [
       "   Unnamed: 0         idint      idstr       created  self  nsfw  \\\n",
       "0      2947.0  7.977097e+08  t3_d6xoro  1.568998e+09   1.0   0.0   \n",
       "1     15292.0  1.472895e+09  t3_ocx94s  1.625316e+09   1.0   0.0   \n",
       "2       430.0  6.649214e+08  t3_azvko1  1.552322e+09   1.0   0.0   \n",
       "3      3935.0  8.558628e+08  t3_e5k3z2  1.575393e+09   1.0   0.0   \n",
       "4      2127.0  7.566360e+08  t3_cihc3z  1.564233e+09   1.0   0.0   \n",
       "\n",
       "               author                                              title  url  \\\n",
       "0      DarthCharizard  META: This sub is moving towards a value syste...  NaN   \n",
       "1       OnlyInQuebec9  AITA for telling my wife the lock on my daught...  NaN   \n",
       "2     Renegadesrule33  UPDATE, AITA for despising my mentally handica...  NaN   \n",
       "3  throwRA-fhfsveyary  AITA for pretending to get fired when customer...  NaN   \n",
       "4      Thunderbear998  AITA for telling my extended family how many m...  NaN   \n",
       "\n",
       "                                            selftext    score      subreddit  \\\n",
       "0  I’ve enjoyed reading and posting on this sub f...  80915.0  AmItheAsshole   \n",
       "1  My brother in-law (Sammy) lost his home shortl...  80334.0  AmItheAsshole   \n",
       "2  I'm back like I said I would be,. My [original...  72776.0  AmItheAsshole   \n",
       "3  I am a high schooler with a weekend job at a c...  63526.0  AmItheAsshole   \n",
       "4  We had a family dinner this evening. My family...  54132.0  AmItheAsshole   \n",
       "\n",
       "   distinguish  textlen  num_comments      flair_text flair_css_class  \\\n",
       "0          NaN      9.0        6215.0            META             NaN   \n",
       "1          NaN   2664.0        5318.0  Not the A-hole             not   \n",
       "2          NaN      9.0        1989.0          UPDATE             NaN   \n",
       "3          NaN   2096.0        3645.0  Not the A-hole             not   \n",
       "4          NaN   1669.0        5190.0  Everyone Sucks             ass   \n",
       "\n",
       "   augmented_at  augmented_count  \n",
       "0           NaN              NaN  \n",
       "1           NaN              NaN  \n",
       "2           NaN              NaN  \n",
       "3           NaN              NaN  \n",
       "4           NaN              NaN  "
      ]
     },
     "execution_count": 9,
     "metadata": {},
     "output_type": "execute_result"
    }
   ],
   "source": [
    "# Show the first five rows\n",
    "df.head()"
   ]
  },
  {
   "cell_type": "markdown",
   "id": "cell-9",
   "metadata": {},
   "source": [
    "The dataframe has one row per Reddit post. Let's examine the columns and identify the main text column:"
   ]
  },
  {
   "cell_type": "code",
   "execution_count": 144,
   "id": "cell-10",
   "metadata": {},
   "outputs": [
    {
     "name": "stdout",
     "output_type": "stream",
     "text": [
      "Index(['Unnamed: 0', 'idint', 'idstr', 'created', 'self', 'nsfw', 'author',\n",
      "       'title', 'url', 'selftext', 'score', 'subreddit', 'distinguish',\n",
      "       'textlen', 'num_comments', 'flair_text', 'flair_css_class',\n",
      "       'augmented_at', 'augmented_count'],\n",
      "      dtype='object')\n"
     ]
    },
    {
     "data": {
      "text/plain": [
       "(2260, 19)"
      ]
     },
     "execution_count": 144,
     "metadata": {},
     "output_type": "execute_result"
    }
   ],
   "source": [
    "# Show column names and basic info\n",
    "# YOUR CODE HERE\n",
    "print(df.columns)\n",
    "df.shape"
   ]
  },
  {
   "cell_type": "markdown",
   "id": "cell-11",
   "metadata": {},
   "source": [
    "Let's take a look at an example post. Pick the one at index 2."
   ]
  },
  {
   "cell_type": "code",
   "execution_count": 9,
   "id": "cell-12",
   "metadata": {},
   "outputs": [
    {
     "data": {
      "text/plain": [
       "'I\\'m back like I said I would be,. My [original post](https://www.reddit.com/r/AmItheAsshole/comments/awyi8k/aita_for_despising_my_mentally_handicap_sister/) got a lot of attention and seeing as you guys seem interested, here\\'s my update.\\n\\nWell, since that day I made the post i\\'ve been staying with my grandfather. The week\\'s been honestly a huge change for me for better and for worse but i\\'ll try to run it down.\\n\\nI started by telling my grandpa the story of why I broke down the way I did and to be honest, he seemed horrified. No one in my family knew my parents were using me as essentially a free care service for my sister. My grandpa told me some things that I don\\'t feel comfortable repeating here but in essence my sister is \"supposed\" to be getting care from a professional and that my parents were ignoring that, along with this I was not supposed to be caring for her at all with her mental state as apparently she is a danger to herself and others. With everything else I told him, along with stuff like the movie indecent he was really mad and told me to not contact my parents without him there. He pretty much told me that he would be meeting with my parents beforehand and that he was going to be there when I sat down with them. It didn\\'t end here either, the rest of the week consisted of other family checking in on me and telling me things my parents hid from me. This included the fact that my parents have been taking money from family to fund a \"caretaker\" that doesn\\'t exist.\\n\\nSuffice to say, this week has been rough. But, the upside is that even through all this, my extended family has been giving me more love than i\\'ve felt in a while. My grandfather spent this last week \"making up for the time i\\'ve lost.\" Encouraging me to spend time with friends and do things I want to do. My aunts and uncles have also been helping me through the week.\\n\\nWell, Saturday night I sat down with parents to talk. It went badly to say the least. They came clean to me about everything. They told me things I will not repeat here. But they did not apologize. My parents still claim that I some how owed my sister my time. My father even saying \"You were put here to be her caretaker\". I won\\'t lie and say I was composed. After everything i learned I confronted them. On the fact that my sister needed a caretaker. The money my dad was taking from his sister, and a few other things. They denied it or made excuses. And in the end, we ended off in a worse place than before.\\n\\nToday will be my last time talking to them for a while. After talking with my grandfather and uncle last night, I\\'m not going back. Later today i\\'m going there and picking up my stuff and moving in with my grandfather. When I graduate high school i\\'m planning on leaving the state to go to school. My aunt has told me that the money she was sending my dad will be instead be coming to me from now on. My parents have called me twice since Saturday, neither of them were to apologize and only ask when I was coming home.\\n\\nI won\\'t be going back to them. Right now I still feel pretty uneasy about everything but I feel like that will pass. The rest of my family is showing their support to me and honestly, it feel great. But in the end I lost my parents. Over all of this, i\\'ve learned something that I wished I saw earlier. I don\\'t hat my sister. In fact I love her with all my heart. I should never have never projected my hate onto her. That was wrong, and someday I hope to make up for it. But for now I need to leave.\\n\\nSo, there\\'s my update. Thanks again for the support my original post got. I really appreciate everyone who took the time to comment or show me support. Thanks you.\\n\\n&#x200B;\\n\\n&#x200B;\\n\\nEdit: Thank you all so much! I wish I could respond to every single one of you but my lunch only lasts so long. I\\'ll update tonight how the move out went but until then, thank you all. I want to say that your support has been amazing and your kindness means more to me than anyone could ever imagine.\\n\\n&#x200B;\\n\\nLate edit: Wow, I never imagined my story would reach the popularity it did. I know it\\'s kinda cliche and i\\'ve said it a thousand times but thank you all. \\n\\n&#x200B;\\n\\nWe just got back from moving my things out of my parents house. Every thing I wanted to take my grandpa and uncle helped move and it\\'s at my grandpa\\'s house now. I have my birth certificate, social security card, and every other document and record I could think of. My parents were quiet the whole time I was there. Shorty after I arrived my dad left with my sister and my mom only hovered over us silently as me moved. It took a while but as we left she broke down and told me she loved me and would miss me. I hugged her and said goodbye, and that was it. Even now I sit here and think if she really meant it. After this whole week of her not saying anything she waited till the end. I hope she meant it. Right now though, I think I just need to look ahead. Maybe one day me and my parents can reconnect. I hope so.\\n\\n&#x200B;\\n\\nThank you all for the advice and love. It\\'s been amazing and i\\'m glad that through this experience I at least got some positive out of this mess. Will I come back? I don\\'t know. If something happens and you guys still want an update i\\'ll maybe come around again. But for now I\\'m going to move on. For all those out there who shared their stories with me, thank you, and I hope to see you on the other side. See you space cowboy\\'s :)'"
      ]
     },
     "execution_count": 9,
     "metadata": {},
     "output_type": "execute_result"
    }
   ],
   "source": [
    "# Display first post\n",
    "# YOUR CODE HERE\n",
    "df['selftext'][2]"
   ]
  },
  {
   "cell_type": "markdown",
   "id": "cell-13",
   "metadata": {},
   "source": [
    "🔔 **Question**: What have you noticed about this formatting?"
   ]
  },
  {
   "cell_type": "markdown",
   "id": "ea8683ff",
   "metadata": {},
   "source": [
    "### Removing NaN\n",
    "\n",
    "Remember how to grab all NaN (Not a Number) values in Pandas? Let's see if our dataset has any, and remove them if needed."
   ]
  },
  {
   "cell_type": "code",
   "execution_count": 145,
   "id": "905c0744",
   "metadata": {},
   "outputs": [
    {
     "data": {
      "text/plain": [
       "(2257, 19)"
      ]
     },
     "execution_count": 145,
     "metadata": {},
     "output_type": "execute_result"
    }
   ],
   "source": [
    "# Get NaN values\n",
    "# YOUR CODE HERE\n",
    "df = df[df['selftext'].notna()]\n",
    "df.shape"
   ]
  },
  {
   "cell_type": "markdown",
   "id": "ed05bda1",
   "metadata": {},
   "source": [
    "### Removing Unuseful Rows\n",
    "\n",
    "When you work with social media data, not every row will contain useful text. Sometimes you’ll find entries that look unusual — they aren’t empty, but they also aren’t really content you can analyze.\n",
    "\n",
    "Take a close look at your dataset and see if you can find these cases. Once you’ve identified them, write code to remove those rows so that only meaningful text remains for analysis."
   ]
  },
  {
   "cell_type": "code",
   "execution_count": 146,
   "id": "a7096b2b",
   "metadata": {},
   "outputs": [
    {
     "data": {
      "text/plain": [
       "(1935, 19)"
      ]
     },
     "execution_count": 146,
     "metadata": {},
     "output_type": "execute_result"
    }
   ],
   "source": [
    "# Find unuseful rows\n",
    "# YOUR CODE HERE\n",
    "# Remove rows where 'selftext' is '[removed]' or '[deleted]'\n",
    "df = df[(df['selftext'] != '[removed]') & (df['selftext'] != '[deleted]')]\n",
    "df.shape"
   ]
  },
  {
   "cell_type": "markdown",
   "id": "cell-14",
   "metadata": {},
   "source": [
    "### Lowercasing\n",
    "\n",
    "In classic NLP, we often don't work in contexts where we can properly utilize all linguistic information.\n",
    "\n",
    "More often, the subsequent analysis we perform is **case-insensitive**. For instance, in frequency analysis, we want to account for various forms of the same word. Lowercasing the text data aids in this process and simplifies our analysis.\n",
    "\n",
    "We can easily achieve lowercasing with the string method [`.lower()`](https://docs.python.org/3/library/stdtypes.html#str.lower); see [documentation](https://docs.python.org/3/library/stdtypes.html#string-methods) for more useful functions.\n",
    "\n",
    "Let's apply it to an example:"
   ]
  },
  {
   "cell_type": "code",
   "execution_count": 78,
   "id": "cell-16",
   "metadata": {},
   "outputs": [],
   "source": [
    "# Grab the previous example post's text for demonstration\n",
    "# YOUR CODE HERE\n",
    "text = df['selftext'].iloc[2]\n",
    "\n",
    "# Convert it to lowercase\n",
    "# YOUR CODE HERE\n",
    "text = text.lower()"
   ]
  },
  {
   "cell_type": "markdown",
   "id": "cell-17",
   "metadata": {},
   "source": [
    "### Regex: Removing Whitespace\n",
    "\n",
    "Sometimes we might come across texts with extraneous whitespace, such as spaces, tabs, and newline characters, which is particularly common when the text is scrapped from web pages. Before we dive into the details, let's briefly introduce Regular Expressions (regex) and the `re` package. \n",
    "\n",
    "Regular expressions are a powerful way of searching for specific string patterns in large corpora. They have an infamously steep learning curve, but they can be very efficient when we get a handle on them. Many NLP packages heavily rely on regex under the hood. Regex testers, such as [regex101](https://regex101.com), are useful tools in both understanding and creating regex expressions.\n",
    "\n",
    "Our goal is not to provide a deep (or even shallow) dive into regex; instead, we want to expose you to them so that you are better prepared to do deep dives in the future!\n",
    "\n",
    "Let's look at an example Reddit post with potential whitespace issues:"
   ]
  },
  {
   "cell_type": "code",
   "execution_count": 79,
   "id": "cell-18",
   "metadata": {},
   "outputs": [
    {
     "name": "stdout",
     "output_type": "stream",
     "text": [
      "Original post:\n",
      "'AITA for not going to my  sister\\'s   wedding?\\n\\nSo here\\'s the situation...    My sister is getting married and I was supposed to be in the wedding party.\\nBut then she told me I couldn\\'t bring my boyfriend    because \"it\\'s family only\" which doesn\\'t make sense.'\n"
     ]
    }
   ],
   "source": [
    "# Create an example with extra whitespace (simulating messy Reddit data)\n",
    "messy_reddit_post = \"\"\"AITA for not going to my  sister's   wedding?\n",
    "\n",
    "So here's the situation...    My sister is getting married and I was supposed to be in the wedding party.\n",
    "But then she told me I couldn't bring my boyfriend    because \"it's family only\" which doesn't make sense.\"\"\"\n",
    "\n",
    "print(\"Original post:\")\n",
    "print(repr(messy_reddit_post))  # repr() shows the actual whitespace characters"
   ]
  },
  {
   "cell_type": "markdown",
   "id": "ec85468e",
   "metadata": {},
   "source": [
    "First, look up what this piece of regex does: `r'\\s+'`"
   ]
  },
  {
   "cell_type": "code",
   "execution_count": 82,
   "id": "cell-19",
   "metadata": {},
   "outputs": [
    {
     "name": "stdout",
     "output_type": "stream",
     "text": [
      "Cleaned text:\n",
      "'AITA for not going to my sister\\'s wedding? So here\\'s the situation... My sister is getting married and I was supposed to be in the wedding party. But then she told me I couldn\\'t bring my boyfriend because \"it\\'s family only\" which doesn\\'t make sense.'\n"
     ]
    }
   ],
   "source": [
    "import re\n",
    "\n",
    "# pattern in regex\n",
    "blankspace_pattern = r'\\s+'\n",
    "\n",
    "# Write a replacement for the pattern identified\n",
    "blankspace_repl = ' '\n",
    "\n",
    "# Replace whitespace(s) with ' '\n",
    "clean_text = re.sub(\n",
    "    pattern=blankspace_pattern,\n",
    "    repl=blankspace_repl,\n",
    "    string=messy_reddit_post\n",
    ")\n",
    "\n",
    "print(\"Cleaned text:\")\n",
    "print(repr(clean_text))"
   ]
  },
  {
   "cell_type": "markdown",
   "id": "cell-21",
   "metadata": {},
   "source": [
    "### Removing Punctuation Marks\n",
    "\n",
    "Sometimes we are only interested in analyzing **alphanumeric characters** (i.e., the letters and numbers), in which case we might want to remove punctuation marks. \n",
    "\n",
    "The `string` module contains a list of predefined punctuation marks. Let's print them out."
   ]
  },
  {
   "cell_type": "code",
   "execution_count": 83,
   "id": "cell-22",
   "metadata": {},
   "outputs": [
    {
     "name": "stdout",
     "output_type": "stream",
     "text": [
      "!\"#$%&'()*+,-./:;<=>?@[\\]^_`{|}~\n"
     ]
    }
   ],
   "source": [
    "# Load in a predefined list of punctuation marks\n",
    "from string import punctuation\n",
    "print(punctuation)"
   ]
  },
  {
   "cell_type": "code",
   "execution_count": 86,
   "id": "cell-23",
   "metadata": {},
   "outputs": [],
   "source": [
    "def remove_punct(text):\n",
    "    '''Remove punctuation marks in input text'''\n",
    "    \n",
    "    # Use string.punctuation to return text without punctuation\n",
    "    # YOUR CODE HERE \n",
    "    text_no_punct = ''.join([char for char in text if char not in punctuation])\n",
    "\n",
    "    return text_no_punct"
   ]
  },
  {
   "cell_type": "code",
   "execution_count": 87,
   "id": "cell-24",
   "metadata": {},
   "outputs": [
    {
     "name": "stdout",
     "output_type": "stream",
     "text": [
      "No punctuation: AITA My friend thinks Im being dramatic about this whole situation What do you think\n"
     ]
    }
   ],
   "source": [
    "# Create an example Reddit post with punctuation\n",
    "reddit_example = \"AITA? My friend thinks I'm being 'dramatic' about this whole situation... What do you think?\"\n",
    "\n",
    "# Apply the function \n",
    "print(f\"No punctuation: {remove_punct(reddit_example)}\")"
   ]
  },
  {
   "cell_type": "markdown",
   "id": "b5b8d532",
   "metadata": {},
   "source": [
    "### Creating Placeholders\n",
    "Older NLP models (bag-of-words, TF-IDF) treated every unique word as a feature. That meant URLs, usernames, and numbers exploded the vocabulary with noisy, one-off tokens. To keep models simple and useful, we often replaced these with placeholders like URL, DIGIT, or USER."
   ]
  },
  {
   "cell_type": "markdown",
   "id": "03a556ab",
   "metadata": {},
   "source": [
    "Write a function called `regex_remover` that that uses `re.sub` to:\n",
    "\n",
    "* Replace the following patterns with placeholders:\n",
    "    * URLs → ` URL `\n",
    "    * Digits → ` DIGIT `\n",
    "    * Subreddit mentions (r/subreddit) → ` SUBREDDIT `\n",
    "    * User mentions (u/user or /u/user) → ` USER `\n",
    "\n",
    "Here are some regex patterns to help you:\n",
    "- URLs: `r'http[s]?://(?:[a-zA-Z]|[0-9]|[$-_@.&+]|[!*\\(\\),]|(?:%[0-9a-fA-F][0-9a-fA-F]))+|www\\.\\S+'`\n",
    "- Digits: `r'\\d+'`\n",
    "- Subreddits: `r'r/\\w+'` \n",
    "- Users: `r'/u/\\w+|u/\\w+'`"
   ]
  },
  {
   "cell_type": "code",
   "execution_count": 88,
   "id": "8f280e6f",
   "metadata": {},
   "outputs": [
    {
     "name": "stdout",
     "output_type": "stream",
     "text": [
      "Check out  URL   DIGIT  times! Thanks  USER \n"
     ]
    }
   ],
   "source": [
    "def regex_remover(text: str) -> str:\n",
    "    \"\"\"\n",
    "    Replace URLs, digits, subreddits, and user mentions with placeholders.\n",
    "    \"\"\"\n",
    "    \n",
    "    # Step 1: replace URLs with ' URL '\n",
    "    pattern = r'http[s]?://(?:[a-zA-Z]|[0-9]|[$-_@.&+]|[!*\\(\\),]|(?:%[0-9a-fA-F][0-9a-fA-F]))+|www\\.\\S+'\n",
    "    text = re.sub(pattern, ' URL ', text)\n",
    "\n",
    "    # Step 2: replace digits with ' DIGIT '\n",
    "    pattern = r'\\d+'\n",
    "    text = re.sub(pattern, ' DIGIT ', text)\n",
    "\n",
    "    # Step 3: replace subreddit mentions with ' SUBREDDIT '\n",
    "    pattern = r'r/\\w+'\n",
    "    text = re.sub(pattern, ' SUBREDDIT ', text)\n",
    "\n",
    "    # Step 4: replace user mentions with ' USER '\n",
    "    pattern = r'/u/\\w+|u/\\w+'\n",
    "    text = re.sub(pattern, ' USER ', text)\n",
    "\n",
    "    return text\n",
    "\n",
    "# Example to test \n",
    "sample = \"Check out http://reddit.com/r/AmItheAsshole 123 times! Thanks u/username\"\n",
    "print(regex_remover(sample))"
   ]
  },
  {
   "cell_type": "markdown",
   "id": "f1ba598b",
   "metadata": {},
   "source": [
    "As you can see, in classical NLP, preprocessing pipelines often normalize text aggressively (lowercasing, replacing URLs, digits, usernames). In LLM-based NLP, we usually leave text as-is."
   ]
  },
  {
   "cell_type": "markdown",
   "id": "cell-30",
   "metadata": {},
   "source": [
    "<a id='section2'></a>\n",
    "\n",
    "# Comparing Tokenizers\n",
    "\n",
    "One of the most important steps in text analysis is tokenization. This is the process of breaking a long sequence of text into word tokens. With these tokens available, we are ready to perform word-level analysis. For instance, we can filter out tokens that don't contribute to the core meaning of the text.\n",
    "\n",
    "In this section, we'll introduce how to perform tokenization using `nltk`, `spaCy`, and a Large Language Model (`bert`). The purpose is to expose you to different NLP packages, help you understand their functionalities, and demonstrate how to access key functions in each package."
   ]
  },
  {
   "cell_type": "markdown",
   "id": "cell-31",
   "metadata": {},
   "source": [
    "### `nltk`\n",
    "\n",
    "The first package we'll be using is called **Natural Language Toolkit**, or `nltk`."
   ]
  },
  {
   "cell_type": "code",
   "execution_count": 89,
   "id": "cell-32",
   "metadata": {},
   "outputs": [],
   "source": [
    "import nltk"
   ]
  },
  {
   "cell_type": "code",
   "execution_count": null,
   "id": "cell-33",
   "metadata": {},
   "outputs": [],
   "source": [
    "# Uncomment the following lines to install these modules\n",
    "# nltk.download('wordnet')\n",
    "# nltk.download('stopwords')\n",
    "# nltk.download('punkt')"
   ]
  },
  {
   "cell_type": "markdown",
   "id": "27390c60",
   "metadata": {},
   "source": [
    "NLTK is one of the earliest Python libraries for NLP. It provides simple, rule-based tools for tokenization, stemming, POS tagging, and more. Its tokenizers typically split text using whitespace, punctuation, or regex rules, which makes it easy to understand but sometimes brittle when handling messy, real-world text.\n",
    "\n",
    "NLTK's tokenizer:\n",
    "- Classic, rule/regex-based.\n",
    "- Splits on whitespace/punctuation."
   ]
  },
  {
   "cell_type": "code",
   "execution_count": 22,
   "id": "cell-34",
   "metadata": {},
   "outputs": [
    {
     "name": "stdout",
     "output_type": "stream",
     "text": [
      "['AITA', 'for', 'not', 'wanting', 'to', 'go', 'to', 'my', 'brother', \"'s\", 'wedding', '?', 'UPDATE', ':', 'I', 'talked', 'to', 'my', 'family', '.']\n"
     ]
    }
   ],
   "source": [
    "# Load word_tokenize \n",
    "from nltk.tokenize import word_tokenize\n",
    "\n",
    "# Print a Reddit example\n",
    "reddit_text = \"AITA for not wanting to go to my brother's wedding? UPDATE: I talked to my family.\"\n",
    "\n",
    "# Apply the NLTK tokenizer\n",
    "nltk_tokens = word_tokenize(reddit_text)\n",
    "print(nltk_tokens)"
   ]
  },
  {
   "cell_type": "code",
   "execution_count": 92,
   "id": "cell-35",
   "metadata": {},
   "outputs": [
    {
     "data": {
      "text/plain": [
       "['a', 'about', 'above', 'after', 'again', 'against', 'ain', 'all', 'am', 'an']"
      ]
     },
     "execution_count": 92,
     "metadata": {},
     "output_type": "execute_result"
    }
   ],
   "source": [
    "# Load predefined stop words from nltk\n",
    "from nltk.corpus import stopwords\n",
    "\n",
    "# Print the first 10 stopwords\n",
    "stop = stopwords.words('english')\n",
    "stop[:10]"
   ]
  },
  {
   "cell_type": "markdown",
   "id": "cell-36",
   "metadata": {},
   "source": [
    "### `spaCy`\n",
    "\n",
    "spaCy is a more modern NLP library designed for speed and practical use. Its tokenizer combines rules with statistical models to handle edge cases more robustly. It also integrates linguistic features out of the box, like part-of-speech tags, lemmas, dependency parses, and named entities, making it a common choice for production-level NLP workflows."
   ]
  },
  {
   "cell_type": "markdown",
   "id": "e46bcb3e",
   "metadata": {},
   "source": [
    "First, look up how to get verbatim text of tokens using SpaCy. Look up documentation, ask an LLM, Google it -- whatever you want."
   ]
  },
  {
   "cell_type": "code",
   "execution_count": 94,
   "id": "cell-37",
   "metadata": {},
   "outputs": [
    {
     "name": "stdout",
     "output_type": "stream",
     "text": [
      "NLTK tokens: ['AITA', 'for', 'not', 'wanting', 'to', 'go', 'to', 'my', 'brother', \"'s\", 'wedding', '?', 'UPDATE', ':', 'I', 'talked', 'to', 'my', 'family', '.']\n",
      "spaCy tokens: ['AITA', 'for', 'not', 'wanting', 'to', 'go', 'to', 'my', 'brother', \"'s\", 'wedding', '?', 'UPDATE', ':', 'I', 'talked', 'to', 'my', 'family', '.']\n"
     ]
    }
   ],
   "source": [
    "import spacy\n",
    "\n",
    "nlp = spacy.load('en_core_web_sm')\n",
    "\n",
    "# Apply the pipeline to example Reddit text\n",
    "doc = nlp(reddit_text)\n",
    "\n",
    "# Get the verbatim texts of tokens\n",
    "spacy_tokens = [token.text for token in doc]\n",
    "\n",
    "# Compare with NLTK tokens\n",
    "print(f\"NLTK tokens: {nltk_tokens}\")\n",
    "print(f\"spaCy tokens: {spacy_tokens}\")"
   ]
  },
  {
   "cell_type": "markdown",
   "id": "dfccafd6",
   "metadata": {},
   "source": [
    "SpaCy adds linguistic knowledge (prefix/suffix rules, exceptions, POS tagging)."
   ]
  },
  {
   "cell_type": "code",
   "execution_count": 95,
   "id": "7f1a4e2e",
   "metadata": {},
   "outputs": [
    {
     "name": "stdout",
     "output_type": "stream",
     "text": [
      "  AITA  for      not      wanting    to    go     to       my     brother's    wedding?\n",
      "------  -------  -------  ---------  ----  -----  -------  -----  -----------  ----------\n",
      "     0  AITA     AITA     PROPN      NNP   ROOT   AITA     False  XXXX         (0, 4)\n",
      "     1  for      for      ADP        IN    prep   AITA     True   xxx          (5, 8)\n",
      "     2  not      not      PART       RB    neg    wanting  True   xxx          (9, 12)\n",
      "     3  wanting  want     VERB       VBG   pcomp  for      False  xxxx         (13, 20)\n",
      "     4  to       to       PART       TO    aux    go       True   xx           (21, 23)\n",
      "     5  go       go       VERB       VB    xcomp  wanting  True   xx           (24, 26)\n",
      "     6  to       to       ADP        IN    prep   go       True   xx           (27, 29)\n",
      "     7  my       my       PRON       PRP$  poss   brother  True   xx           (30, 32)\n",
      "     8  brother  brother  NOUN       NN    poss   wedding  False  xxxx         (33, 40)\n",
      "     9  's       's       PART       POS   case   brother  True   'x           (40, 42)\n",
      "    10  wedding  wedding  NOUN       NN    pobj   to       False  xxxx         (43, 50)\n",
      "    11  ?        ?        PUNCT      .     punct  AITA     False  ?            (50, 51)\n",
      "    12  UPDATE   update   NOUN       NN    dep    talked   False  XXXX         (52, 58)\n",
      "    13  :        :        PUNCT      :     punct  UPDATE   False  :            (58, 59)\n",
      "    14  I        I        PRON       PRP   nsubj  talked   True   X            (60, 61)\n",
      "    15  talked   talk     VERB       VBD   ROOT   talked   False  xxxx         (62, 68)\n",
      "    16  to       to       ADP        IN    prep   talked   True   xx           (69, 71)\n",
      "    17  my       my       PRON       PRP$  poss   family   True   xx           (72, 74)\n",
      "    18  family   family   NOUN       NN    pobj   to       False  xxxx         (75, 81)\n",
      "    19  .        .        PUNCT      .     punct  talked   False  .            (81, 82)\n",
      "\n",
      "Sentences:\n",
      "- AITA for not wanting to go to my brother's wedding?\n",
      "- UPDATE: I talked to my family.\n"
     ]
    }
   ],
   "source": [
    "from tabulate import tabulate\n",
    "\n",
    "rows = []\n",
    "for t in doc:\n",
    "    rows.append([\n",
    "        t.i,            # token index\n",
    "        t.text,         # surface\n",
    "        t.lemma_,       # lemma\n",
    "        t.pos_,         # coarse POS\n",
    "        t.tag_,         # fine POS\n",
    "        t.dep_,         # dependency label\n",
    "        t.head.text,    # syntactic head\n",
    "        t.is_stop,      # stopword?\n",
    "        t.shape_,       # orthographic shape\n",
    "        (t.idx, t.idx + len(t.text))  # char span\n",
    "    ])\n",
    "\n",
    "print(tabulate(rows, headers=[word for word in reddit_text.split()]))\n",
    "\n",
    "# sentence segmentation\n",
    "print(\"\\nSentences:\")\n",
    "for s in doc.sents:\n",
    "    print(\"-\", s.text)"
   ]
  },
  {
   "cell_type": "markdown",
   "id": "da12919b",
   "metadata": {},
   "source": [
    "## BERT Tokenizer\n",
    "\n",
    "The BERT tokenizer is a subword tokenizer based on an algorithm called WordPiece. Instead of splitting text into whole words (like NLTK or spaCy), it breaks words into smaller units when the full word is not in its vocabulary. For example:\n",
    "- spaCy: [\"roommate\"]\n",
    "- BERT tokenizer: [\"room\", \"##mate\"]\n",
    "\n",
    "This design solves two problems that word-level tokenizers have:\n",
    "1. Out-of-vocabulary words: If a new word appears (“cryptomemes”), word-based tokenizers can’t handle it. Subword tokenization breaks it into familiar chunks (“crypto” + “##memes”).\n",
    "2. Vocabulary size: Instead of keeping hundreds of thousands of word forms, models only need ~30,000 subword units. This makes training more efficient.\n",
    "\n",
    "### bert-base-uncased tokenizer\n",
    "\n",
    "In practice, we usually don’t train tokenizers from scratch. Instead, we use a pretrained tokenizer that was released together with a model. For example, calling `AutoTokenizer.from_pretrained(\"bert-base-uncased\")` loads the WordPiece tokenizer associated with the BERT base model. \n",
    "\n",
    "This tokenizer has a fixed vocabulary of ~30k subword units that were learned during BERT’s pretraining. The important point is that the tokenizer and model are paired: the model only understands text that has been split into tokens exactly the way it saw during training."
   ]
  },
  {
   "cell_type": "code",
   "execution_count": 23,
   "id": "0a6d4416",
   "metadata": {},
   "outputs": [
    {
     "name": "stdout",
     "output_type": "stream",
     "text": [
      "Subword tokens: ['ai', '##ta', 'for', 'not', 'wanting', 'to', 'go', 'to', 'my', 'brother', \"'\", 's', 'wedding', '?', 'update', ':', 'i', 'talked', 'to', 'my', 'family', '.']\n"
     ]
    }
   ],
   "source": [
    "# WARNING: The following code cell may take a while to run because it downloads large models.\n",
    "\n",
    "from transformers import AutoTokenizer, pipeline\n",
    "\n",
    "# 1) Subword tokenization (BERT WordPiece)\n",
    "tok = AutoTokenizer.from_pretrained(\"bert-base-uncased\")\n",
    "\n",
    "tokens = tok.tokenize(reddit_text)\n",
    "print(\"Subword tokens:\", tokens)"
   ]
  },
  {
   "cell_type": "markdown",
   "id": "cell-38",
   "metadata": {},
   "source": [
    "## Comparing Tokenization\n",
    "\n",
    "Write **two** functions to tokenize and remove stop words from our full Reddit text data. \n",
    "\n",
    "1.\tUsing another tokenizer or preprocessing approach of their choice (e.g., spaCy, NLTK, regex, lowercasing, stopword removal, etc.)\n",
    "2.\tUsing a modern LLM tokenizer (e.g., Hugging Face AutoTokenizer or OpenAI’s tiktoken)"
   ]
  },
  {
   "cell_type": "code",
   "execution_count": 147,
   "id": "cell-40",
   "metadata": {},
   "outputs": [],
   "source": [
    "from nltk import word_tokenize\n",
    "from string import punctuation\n",
    "from nltk.corpus import stopwords\n",
    "stop = stopwords.words('english')\n",
    "\n",
    "def og_preprocessor(raw_text):\n",
    "    # text → tokenize → whitespace → URLS → stopwords \n",
    "    # YOUR CODE HERE\n",
    "    # Lowercase\n",
    "    text = raw_text.lower()\n",
    "    # Remove punctuation\n",
    "    text = ''.join([c for c in text if c not in punctuation])\n",
    "    # Tokenize\n",
    "    tokens = word_tokenize(text)\n",
    "    # Remove stopwords\n",
    "    tokens = [t for t in tokens if t not in stop]\n",
    "    return ' '.join(tokens)"
   ]
  },
  {
   "cell_type": "code",
   "execution_count": 126,
   "id": "cell-39",
   "metadata": {},
   "outputs": [],
   "source": [
    "def modern_preprocessor(raw_text, stopword):\n",
    "    \n",
    "    # text → subword tokenization\n",
    "    # YOUR CODE HERE\n",
    "    # Use BERT tokenizer to split into subword tokens\n",
    "    tokens = tok.tokenize(raw_text)\n",
    "    # Remove stopwords if provided (stopword list should be lowercased)\n",
    "    tokens = [t for t in tokens if t not in stopword]\n",
    "    return ' '.join(tokens)"
   ]
  },
  {
   "cell_type": "code",
   "execution_count": 127,
   "id": "cd2cd5d3",
   "metadata": {},
   "outputs": [
    {
     "name": "stdout",
     "output_type": "stream",
     "text": [
      "happened two weeks ago 22f dating wife fiancee time incident 23f 8 years corona hit lost several deposits realized basically married anyway small ceremony make official already get crucified party corona eight people attendance including us venue aka backyard spacious enough seat people werent already quarantined together 6 feet away masks required anyway asked really lowkey bachelorette party involving marathoning couple movies w two best friends ordering favorite restaurant playing card games however came time party walked apartment everything penisthemed penis cake penis balloons homemade game literally pinning dick halfnaked guy like pin tail donkey shocked pissed im biggest pushover entire planet stayed asked said wanted show im missing honestly leave apologized profusely told think strapons didnt work super well shes best friend literally since born decided let one slide anyway marathoning movies id almost forgotten drinking penis straw someone knocked door yeah ordered stripper male stripper thats saw red started screaming homophobic told invited wedding longer got married week half ago havent spoken since bachelorette party wife thinks let cool rational conversation friend first person besides incident never anything supportive shes texting calling every day begging forgive claiming shed forgotten cancel stripper however best friend thinks im completely right reddit wibta cutting\n",
      "happened two weeks ago . ( 22 ##f ) dating wife ( fiancee time incident ) ( 23 ##f ) 8 years . corona hit , lost several deposits , realized basically married anyway , small ceremony make official already . ( get cr ##uc ##ified party corona , eight people attendance , including us \" venue \" ( aka backyard ) spacious enough seat people ' already qu ##aran ##tine ##d together 6 feet away ( masks required ) . ) anyway , asked really low ##key bachelor ##ette party involving marathon ##ing couple movies w / two best friends , ordering favorite restaurant playing card games . however , came time party , walked apartment everything penis - themed . penis cake , penis balloons , home - made game literally pinning dick half - naked guy ( like pin tail donkey ) . shocked pissed , ' biggest push ##over entire planet stayed . asked said wanted \" show ' missing . \" honestly leave apologized prof ##use ##ly told think strap - ##s . ' work super well , ' best friend literally since born , decided let one slide . anyway , marathon ##ing movies ' almost forgotten drinking penis straw someone knocked door . yeah . ordered strip ##per . male strip ##per . ' saw red started screaming homo ##phobic told invited wedding longer . got married week half ago ' spoken since bachelor ##ette party . wife thinks let cool rational conversation friend . first person besides incident , never anything supportive . ' text ##ing calling every day begging forgive , claiming ' forgotten cancel strip ##per . however , best friend , , thinks ' completely right . red ##dit , wi ##bt ##a cutting ?\n"
     ]
    }
   ],
   "source": [
    "# Process row index 2 from df.selftext using both preprocessors\n",
    "text_example = df['selftext'].iloc[2]\n",
    "\n",
    "print(og_preprocessor(text_example))\n",
    "print(modern_preprocessor(text_example, stop))\n"
   ]
  },
  {
   "cell_type": "markdown",
   "id": "3d584130",
   "metadata": {},
   "source": [
    "🔔 **Question**: What assumptions about language do these tokenizers make? What gets lost? What gets preserved?"
   ]
  },
  {
   "cell_type": "markdown",
   "id": "f471cd42",
   "metadata": {},
   "source": [
    "FInally, let's apply our old-school preprocessor to our Reddit data:"
   ]
  },
  {
   "cell_type": "code",
   "execution_count": 148,
   "id": "30aebbdf",
   "metadata": {},
   "outputs": [],
   "source": [
    "df['selftext_clean'] = df['selftext'].apply(og_preprocessor)"
   ]
  },
  {
   "cell_type": "markdown",
   "id": "cell-41",
   "metadata": {},
   "source": [
    "<a id='section3'></a>\n",
    "\n",
    "# The Bag-of-Words Representation\n",
    "\n",
    "Now we move beyond preprocessing to converting text into numerical representations. We'll explore one of the most straightforward ways to generate a numeric representation from text: the **bag-of-words** (BoW). \n",
    "\n",
    "At the heart of the bag-of-words approach lies the assumption that the frequency of specific tokens is informative about the semantics and sentiment underlying the text.\n",
    "\n",
    "With a bag-of-words representation, we make heavy use of word frequency but not too much of word order."
   ]
  },
  {
   "cell_type": "markdown",
   "id": "cell-50",
   "metadata": {},
   "source": [
    "## Document Term Matrix\n",
    "\n",
    "Now let's implement the idea of bag-of-words using `CountVectorizer` from `sklearn`."
   ]
  },
  {
   "cell_type": "code",
   "execution_count": 86,
   "id": "cell-51",
   "metadata": {},
   "outputs": [],
   "source": [
    "from sklearn.feature_extraction.text import CountVectorizer\n",
    "\n",
    "# A toy example containing four Reddit-like stories about different topics like weddings, work, and relationships\n",
    "test_reddit = ['I am planning my wedding and need help with the guest list.',\n",
    "               'My boss is being unreasonable about my work hours.',\n",
    "               'I just got engaged and am so excited for the future!',\n",
    "               'My partner and I are having communication issues.']\n",
    "\n",
    "# Create a CountVectorizer object\n",
    "vectorizer = CountVectorizer(stop_words='english')\n",
    "\n",
    "# Fit and transform to create a DTM\n",
    "test_count = vectorizer.fit_transform(test_reddit)"
   ]
  },
  {
   "cell_type": "code",
   "execution_count": 87,
   "id": "6cbfc78e",
   "metadata": {},
   "outputs": [
    {
     "data": {
      "text/html": [
       "<div>\n",
       "<style scoped>\n",
       "    .dataframe tbody tr th:only-of-type {\n",
       "        vertical-align: middle;\n",
       "    }\n",
       "\n",
       "    .dataframe tbody tr th {\n",
       "        vertical-align: top;\n",
       "    }\n",
       "\n",
       "    .dataframe thead th {\n",
       "        text-align: right;\n",
       "    }\n",
       "</style>\n",
       "<table border=\"1\" class=\"dataframe\">\n",
       "  <thead>\n",
       "    <tr style=\"text-align: right;\">\n",
       "      <th></th>\n",
       "      <th>boss</th>\n",
       "      <th>communication</th>\n",
       "      <th>engaged</th>\n",
       "      <th>excited</th>\n",
       "      <th>future</th>\n",
       "      <th>got</th>\n",
       "      <th>guest</th>\n",
       "      <th>having</th>\n",
       "      <th>help</th>\n",
       "      <th>hours</th>\n",
       "      <th>issues</th>\n",
       "      <th>just</th>\n",
       "      <th>list</th>\n",
       "      <th>need</th>\n",
       "      <th>partner</th>\n",
       "      <th>planning</th>\n",
       "      <th>unreasonable</th>\n",
       "      <th>wedding</th>\n",
       "      <th>work</th>\n",
       "    </tr>\n",
       "  </thead>\n",
       "  <tbody>\n",
       "    <tr>\n",
       "      <th>0</th>\n",
       "      <td>0</td>\n",
       "      <td>0</td>\n",
       "      <td>0</td>\n",
       "      <td>0</td>\n",
       "      <td>0</td>\n",
       "      <td>0</td>\n",
       "      <td>1</td>\n",
       "      <td>0</td>\n",
       "      <td>1</td>\n",
       "      <td>0</td>\n",
       "      <td>0</td>\n",
       "      <td>0</td>\n",
       "      <td>1</td>\n",
       "      <td>1</td>\n",
       "      <td>0</td>\n",
       "      <td>1</td>\n",
       "      <td>0</td>\n",
       "      <td>1</td>\n",
       "      <td>0</td>\n",
       "    </tr>\n",
       "    <tr>\n",
       "      <th>1</th>\n",
       "      <td>1</td>\n",
       "      <td>0</td>\n",
       "      <td>0</td>\n",
       "      <td>0</td>\n",
       "      <td>0</td>\n",
       "      <td>0</td>\n",
       "      <td>0</td>\n",
       "      <td>0</td>\n",
       "      <td>0</td>\n",
       "      <td>1</td>\n",
       "      <td>0</td>\n",
       "      <td>0</td>\n",
       "      <td>0</td>\n",
       "      <td>0</td>\n",
       "      <td>0</td>\n",
       "      <td>0</td>\n",
       "      <td>1</td>\n",
       "      <td>0</td>\n",
       "      <td>1</td>\n",
       "    </tr>\n",
       "    <tr>\n",
       "      <th>2</th>\n",
       "      <td>0</td>\n",
       "      <td>0</td>\n",
       "      <td>1</td>\n",
       "      <td>1</td>\n",
       "      <td>1</td>\n",
       "      <td>1</td>\n",
       "      <td>0</td>\n",
       "      <td>0</td>\n",
       "      <td>0</td>\n",
       "      <td>0</td>\n",
       "      <td>0</td>\n",
       "      <td>1</td>\n",
       "      <td>0</td>\n",
       "      <td>0</td>\n",
       "      <td>0</td>\n",
       "      <td>0</td>\n",
       "      <td>0</td>\n",
       "      <td>0</td>\n",
       "      <td>0</td>\n",
       "    </tr>\n",
       "    <tr>\n",
       "      <th>3</th>\n",
       "      <td>0</td>\n",
       "      <td>1</td>\n",
       "      <td>0</td>\n",
       "      <td>0</td>\n",
       "      <td>0</td>\n",
       "      <td>0</td>\n",
       "      <td>0</td>\n",
       "      <td>1</td>\n",
       "      <td>0</td>\n",
       "      <td>0</td>\n",
       "      <td>1</td>\n",
       "      <td>0</td>\n",
       "      <td>0</td>\n",
       "      <td>0</td>\n",
       "      <td>1</td>\n",
       "      <td>0</td>\n",
       "      <td>0</td>\n",
       "      <td>0</td>\n",
       "      <td>0</td>\n",
       "    </tr>\n",
       "  </tbody>\n",
       "</table>\n",
       "</div>"
      ],
      "text/plain": [
       "   boss  communication  engaged  excited  future  got  guest  having  help  \\\n",
       "0     0              0        0        0       0    0      1       0     1   \n",
       "1     1              0        0        0       0    0      0       0     0   \n",
       "2     0              0        1        1       1    1      0       0     0   \n",
       "3     0              1        0        0       0    0      0       1     0   \n",
       "\n",
       "   hours  issues  just  list  need  partner  planning  unreasonable  wedding  \\\n",
       "0      0       0     0     1     1        0         1             0        1   \n",
       "1      1       0     0     0     0        0         0             1        0   \n",
       "2      0       0     1     0     0        0         0             0        0   \n",
       "3      0       1     0     0     0        1         0             0        0   \n",
       "\n",
       "   work  \n",
       "0     0  \n",
       "1     1  \n",
       "2     0  \n",
       "3     0  "
      ]
     },
     "execution_count": 87,
     "metadata": {},
     "output_type": "execute_result"
    }
   ],
   "source": [
    "# Create a DTM dataframe\n",
    "test_dtm = pd.DataFrame(data=test_count.todense(),\n",
    "                        columns=vectorizer.get_feature_names_out())\n",
    "test_dtm"
   ]
  },
  {
   "cell_type": "code",
   "execution_count": 88,
   "id": "8f7b24e6",
   "metadata": {},
   "outputs": [
    {
     "name": "stdout",
     "output_type": "stream",
     "text": [
      "Top 15 most frequent words in Reddit posts:\n",
      "  boss: 1\n",
      "  issues: 1\n",
      "  wedding: 1\n",
      "  unreasonable: 1\n",
      "  planning: 1\n",
      "  partner: 1\n",
      "  need: 1\n",
      "  list: 1\n",
      "  just: 1\n",
      "  hours: 1\n",
      "  communication: 1\n",
      "  help: 1\n",
      "  having: 1\n",
      "  guest: 1\n",
      "  got: 1\n"
     ]
    }
   ],
   "source": [
    "top_words = test_dtm.sum().sort_values(ascending=False).head(15)\n",
    "print(\"Top 15 most frequent words in Reddit posts:\")\n",
    "for word, freq in top_words.items():\n",
    "    print(f\"  {word}: {freq}\")"
   ]
  },
  {
   "cell_type": "markdown",
   "id": "cell-52",
   "metadata": {},
   "source": [
    "### DTM for Reddit Posts\n",
    "\n",
    "Let's create a Document Term Matrix for our reddit data, create a DTM dataframe, and grab most-frequent tokens."
   ]
  },
  {
   "cell_type": "code",
   "execution_count": 89,
   "id": "cell-53",
   "metadata": {},
   "outputs": [],
   "source": [
    "# Create a CountVectorizer object\n",
    "# YOUR CODE HERE"
   ]
  },
  {
   "cell_type": "code",
   "execution_count": 81,
   "id": "b8e3cd08",
   "metadata": {},
   "outputs": [],
   "source": [
    "# Create a DTM dataframe\n",
    "# YOUR CODE HERE"
   ]
  },
  {
   "cell_type": "code",
   "execution_count": null,
   "id": "cell-54",
   "metadata": {},
   "outputs": [],
   "source": [
    "# Most frequent tokens\n",
    "# YOUR CODE HERE"
   ]
  },
  {
   "cell_type": "markdown",
   "id": "cell-55",
   "metadata": {},
   "source": [
    "<a id='section4'></a>\n",
    "\n",
    "# Term Frequency-Inverse Document Frequency \n",
    "\n",
    "So far, we're relying on word frequency to give us information about a document. To remedy potential issues with very common words, we use a weighting scheme called **tf-idf (term frequency-inverse document frequency)**.\n",
    "\n",
    "We can create a tf-idf DTM using `sklearn`'s `TfidfVectorizer`.\n",
    "\n",
    "What happens is:\n",
    "- First, we build a vocabulary of all the tokens that appear in our dataset.\n",
    "- Each document (post) is turned into a row of numbers, one number per token in the vocabulary.\n",
    "- These numbers are TF-IDF scores: they tell us which words are important within that post.\n",
    "- Result = a big document–term matrix (DTM). This is the input to our model.\n"
   ]
  },
  {
   "cell_type": "code",
   "execution_count": 92,
   "id": "cell-56",
   "metadata": {},
   "outputs": [
    {
     "data": {
      "text/html": [
       "<div>\n",
       "<style scoped>\n",
       "    .dataframe tbody tr th:only-of-type {\n",
       "        vertical-align: middle;\n",
       "    }\n",
       "\n",
       "    .dataframe tbody tr th {\n",
       "        vertical-align: top;\n",
       "    }\n",
       "\n",
       "    .dataframe thead th {\n",
       "        text-align: right;\n",
       "    }\n",
       "</style>\n",
       "<table border=\"1\" class=\"dataframe\">\n",
       "  <thead>\n",
       "    <tr style=\"text-align: right;\">\n",
       "      <th></th>\n",
       "      <th>boss</th>\n",
       "      <th>communication</th>\n",
       "      <th>engaged</th>\n",
       "      <th>excited</th>\n",
       "      <th>future</th>\n",
       "      <th>got</th>\n",
       "      <th>guest</th>\n",
       "      <th>having</th>\n",
       "      <th>help</th>\n",
       "      <th>hours</th>\n",
       "      <th>issues</th>\n",
       "      <th>just</th>\n",
       "      <th>list</th>\n",
       "      <th>need</th>\n",
       "      <th>partner</th>\n",
       "      <th>planning</th>\n",
       "      <th>unreasonable</th>\n",
       "      <th>wedding</th>\n",
       "      <th>work</th>\n",
       "    </tr>\n",
       "  </thead>\n",
       "  <tbody>\n",
       "    <tr>\n",
       "      <th>0</th>\n",
       "      <td>0.0</td>\n",
       "      <td>0.0</td>\n",
       "      <td>0.000000</td>\n",
       "      <td>0.000000</td>\n",
       "      <td>0.000000</td>\n",
       "      <td>0.000000</td>\n",
       "      <td>0.408248</td>\n",
       "      <td>0.0</td>\n",
       "      <td>0.408248</td>\n",
       "      <td>0.0</td>\n",
       "      <td>0.0</td>\n",
       "      <td>0.000000</td>\n",
       "      <td>0.408248</td>\n",
       "      <td>0.408248</td>\n",
       "      <td>0.0</td>\n",
       "      <td>0.408248</td>\n",
       "      <td>0.0</td>\n",
       "      <td>0.408248</td>\n",
       "      <td>0.0</td>\n",
       "    </tr>\n",
       "    <tr>\n",
       "      <th>1</th>\n",
       "      <td>0.5</td>\n",
       "      <td>0.0</td>\n",
       "      <td>0.000000</td>\n",
       "      <td>0.000000</td>\n",
       "      <td>0.000000</td>\n",
       "      <td>0.000000</td>\n",
       "      <td>0.000000</td>\n",
       "      <td>0.0</td>\n",
       "      <td>0.000000</td>\n",
       "      <td>0.5</td>\n",
       "      <td>0.0</td>\n",
       "      <td>0.000000</td>\n",
       "      <td>0.000000</td>\n",
       "      <td>0.000000</td>\n",
       "      <td>0.0</td>\n",
       "      <td>0.000000</td>\n",
       "      <td>0.5</td>\n",
       "      <td>0.000000</td>\n",
       "      <td>0.5</td>\n",
       "    </tr>\n",
       "    <tr>\n",
       "      <th>2</th>\n",
       "      <td>0.0</td>\n",
       "      <td>0.0</td>\n",
       "      <td>0.447214</td>\n",
       "      <td>0.447214</td>\n",
       "      <td>0.447214</td>\n",
       "      <td>0.447214</td>\n",
       "      <td>0.000000</td>\n",
       "      <td>0.0</td>\n",
       "      <td>0.000000</td>\n",
       "      <td>0.0</td>\n",
       "      <td>0.0</td>\n",
       "      <td>0.447214</td>\n",
       "      <td>0.000000</td>\n",
       "      <td>0.000000</td>\n",
       "      <td>0.0</td>\n",
       "      <td>0.000000</td>\n",
       "      <td>0.0</td>\n",
       "      <td>0.000000</td>\n",
       "      <td>0.0</td>\n",
       "    </tr>\n",
       "    <tr>\n",
       "      <th>3</th>\n",
       "      <td>0.0</td>\n",
       "      <td>0.5</td>\n",
       "      <td>0.000000</td>\n",
       "      <td>0.000000</td>\n",
       "      <td>0.000000</td>\n",
       "      <td>0.000000</td>\n",
       "      <td>0.000000</td>\n",
       "      <td>0.5</td>\n",
       "      <td>0.000000</td>\n",
       "      <td>0.0</td>\n",
       "      <td>0.5</td>\n",
       "      <td>0.000000</td>\n",
       "      <td>0.000000</td>\n",
       "      <td>0.000000</td>\n",
       "      <td>0.5</td>\n",
       "      <td>0.000000</td>\n",
       "      <td>0.0</td>\n",
       "      <td>0.000000</td>\n",
       "      <td>0.0</td>\n",
       "    </tr>\n",
       "  </tbody>\n",
       "</table>\n",
       "</div>"
      ],
      "text/plain": [
       "   boss  communication   engaged   excited    future       got     guest  \\\n",
       "0   0.0            0.0  0.000000  0.000000  0.000000  0.000000  0.408248   \n",
       "1   0.5            0.0  0.000000  0.000000  0.000000  0.000000  0.000000   \n",
       "2   0.0            0.0  0.447214  0.447214  0.447214  0.447214  0.000000   \n",
       "3   0.0            0.5  0.000000  0.000000  0.000000  0.000000  0.000000   \n",
       "\n",
       "   having      help  hours  issues      just      list      need  partner  \\\n",
       "0     0.0  0.408248    0.0     0.0  0.000000  0.408248  0.408248      0.0   \n",
       "1     0.0  0.000000    0.5     0.0  0.000000  0.000000  0.000000      0.0   \n",
       "2     0.0  0.000000    0.0     0.0  0.447214  0.000000  0.000000      0.0   \n",
       "3     0.5  0.000000    0.0     0.5  0.000000  0.000000  0.000000      0.5   \n",
       "\n",
       "   planning  unreasonable   wedding  work  \n",
       "0  0.408248           0.0  0.408248   0.0  \n",
       "1  0.000000           0.5  0.000000   0.5  \n",
       "2  0.000000           0.0  0.000000   0.0  \n",
       "3  0.000000           0.0  0.000000   0.0  "
      ]
     },
     "execution_count": 92,
     "metadata": {},
     "output_type": "execute_result"
    }
   ],
   "source": [
    "from sklearn.feature_extraction.text import TfidfVectorizer\n",
    "\n",
    "test_reddit = ['I am planning my wedding and need help with the guest list.',\n",
    "               'My boss is being unreasonable about my work hours.',\n",
    "               'I just got engaged and am so excited for the future!',\n",
    "               'My partner and I are having communication issues.']\n",
    "\n",
    "# Create a tfidf vectorizer\n",
    "vectorizer = TfidfVectorizer(lowercase=True,\n",
    "                             stop_words='english',\n",
    "                             max_features=None)\n",
    "\n",
    "# Fit and transform \n",
    "tf_dtm = vectorizer.fit_transform(test_reddit)\n",
    "\n",
    "# Create a tf-idf dataframe\n",
    "tfidf = pd.DataFrame(tf_dtm.todense(),\n",
    "                     columns=vectorizer.get_feature_names_out())\n",
    "tfidf.head()"
   ]
  },
  {
   "cell_type": "markdown",
   "id": "cell-59",
   "metadata": {},
   "source": [
    "<a id='section5'></a>\n",
    "\n",
    "## Text Classification Using the TF-IDF Representation\n",
    "\n",
    "Now that we have a tf-idf representation of the text, we can do some simple classification!"
   ]
  },
  {
   "cell_type": "code",
   "execution_count": 95,
   "id": "cell-60",
   "metadata": {},
   "outputs": [
    {
     "data": {
      "text/plain": [
       "array(['META', 'UPDATE', 'Not the A-hole', nan, 'Asshole',\n",
       "       'Everyone Sucks', 'Not enough info', 'No A-holes here', 'Update',\n",
       "       'META Asshole'], dtype=object)"
      ]
     },
     "execution_count": 95,
     "metadata": {},
     "output_type": "execute_result"
    }
   ],
   "source": [
    "df.flair_text.unique()"
   ]
  },
  {
   "cell_type": "code",
   "execution_count": 130,
   "id": "562981f4",
   "metadata": {},
   "outputs": [],
   "source": [
    "# 1) Keep only YTA / NTA and drop NaNs\n",
    "mask = df[\"flair_text\"].isin([\"Asshole\", \"Not the A-hole\"])\n",
    "df_bin = df.loc[mask, [\"selftext_clean\", \"flair_text\"]].dropna()\n"
   ]
  },
  {
   "cell_type": "code",
   "execution_count": 149,
   "id": "70e3ab58",
   "metadata": {},
   "outputs": [
    {
     "name": "stdout",
     "output_type": "stream",
     "text": [
      "flair_text\n",
      "Asshole            138\n",
      "Not the A-hole    1549\n",
      "Name: count, dtype: int64\n"
     ]
    }
   ],
   "source": [
    "# Count the number of posts for each flair_text category\n",
    "flair_counts = df['flair_text'].value_counts()\n",
    "print(flair_counts[['Asshole', 'Not the A-hole']])"
   ]
  },
  {
   "cell_type": "code",
   "execution_count": 150,
   "id": "acdfdab6",
   "metadata": {},
   "outputs": [],
   "source": [
    "# 2) Features/labels\n",
    "X = df_bin[\"selftext_clean\"].astype(str)\n",
    "y = df_bin[\"flair_text\"]"
   ]
  },
  {
   "cell_type": "code",
   "execution_count": 151,
   "id": "5ac2c528",
   "metadata": {},
   "outputs": [],
   "source": [
    "from sklearn.model_selection import train_test_split\n",
    "\n",
    "# 3) Train/test split (stratify keeps class balance)\n",
    "X_train, X_test, y_train, y_test = train_test_split(X, y, test_size=0.2, random_state=42, stratify=y)"
   ]
  },
  {
   "cell_type": "markdown",
   "id": "34b934e1",
   "metadata": {},
   "source": [
    "We can nowtrain a classifier using TF-IDF values, we do the following:\n",
    "- We choose an algorithm (like Logistic Regression or Linear SVM).\n",
    "- The classifier looks at the TF-IDF values across many posts classified as YTA or NTA.\n",
    "- During training, it learns which words tend to signal which labels.\n",
    "- Mathematically, this is stored as a set of coefficients: one number per vocabulary term, per class."
   ]
  },
  {
   "cell_type": "code",
   "execution_count": 152,
   "id": "e125c118",
   "metadata": {},
   "outputs": [],
   "source": [
    "from sklearn.pipeline import Pipeline\n",
    "from sklearn.linear_model import LogisticRegression\n",
    "from sklearn.feature_extraction.text import TfidfVectorizer\n",
    "\n",
    "# 4) Pipeline: TF-IDF -> Logistic Regression\n",
    "clf = Pipeline([\n",
    "    (\"tfidf\", TfidfVectorizer(lowercase=True,\n",
    "                              stop_words=\"english\",\n",
    "                              min_df=2,\n",
    "                              max_df=0.95)),\n",
    "    (\"logreg\", LogisticRegression(max_iter=1000))\n",
    "])"
   ]
  },
  {
   "cell_type": "code",
   "execution_count": 153,
   "id": "19213868",
   "metadata": {},
   "outputs": [
    {
     "name": "stdout",
     "output_type": "stream",
     "text": [
      "Accuracy: 0.626\n"
     ]
    }
   ],
   "source": [
    "from sklearn.metrics import accuracy_score, confusion_matrix\n",
    "# 5) Train and evaluate\n",
    "clf.fit(X_train, y_train)\n",
    "preds = clf.predict(X_test)\n",
    "\n",
    "print(\"Accuracy:\", round(accuracy_score(y_test, preds), 3))"
   ]
  },
  {
   "cell_type": "markdown",
   "id": "31541828",
   "metadata": {},
   "source": [
    "How do coefficients work here? \n",
    "- We turn each post into a bag of TF-IDF features: one column per token, with a number that says how present and distinctive that token is in the post.\n",
    "- Logistic Regression learns one weight per token. A positive weight pushes the prediction toward YTA (here classes[1]), a negative weight pushes toward NTA (here classes[0]).\n",
    "\n",
    "For a post, the model computes a score:\n",
    "\n",
    "$$\\text{score} = b + \\sum_{j} w_j \\cdot \\text{tfidf}_j$$\n",
    "\n",
    "If the score is high (after passing through the sigmoid), it predicts YTA; if it’s low, NTA.\n",
    "\n",
    "The bar charts show the tokens with the biggest weights in each direction. They’re not TF-IDF values; they’re model weights learned from the training data that indicate which tokens are most predictive for each class."
   ]
  },
  {
   "cell_type": "code",
   "execution_count": 154,
   "id": "8cb512ed",
   "metadata": {},
   "outputs": [
    {
     "data": {
      "image/png": "[encoded data removed]",
      "text/plain": [
       "<Figure size 600x500 with 1 Axes>"
      ]
     },
     "metadata": {},
     "output_type": "display_data"
    }
   ],
   "source": [
    "# 6a) Visualize top tokens for YTA (largest positive weights)\n",
    "import numpy as np\n",
    "import matplotlib.pyplot as plt\n",
    "\n",
    "vec = clf.named_steps[\"tfidf\"]\n",
    "logreg = clf.named_steps[\"logreg\"]\n",
    "\n",
    "feature_names = np.array(vec.get_feature_names_out())\n",
    "weights = logreg.coef_[0]          # binary: positive -> classes_[1], negative -> classes_[0]\n",
    "classes = logreg.classes_          # e.g., ['NTA', 'YTA']\n",
    "top_k = 15\n",
    "\n",
    "# Top toward YTA (largest positive weights)\n",
    "yta_idx = np.argsort(weights)[-top_k:]\n",
    "yta_tokens = feature_names[yta_idx]\n",
    "yta_weights = weights[yta_idx]\n",
    "\n",
    "# Sort for a clean horizontal chart\n",
    "order = np.argsort(yta_weights)\n",
    "yta_tokens = yta_tokens[order]\n",
    "yta_weights = yta_weights[order]\n",
    "\n",
    "plt.figure(figsize=(6, 5))\n",
    "plt.barh(yta_tokens, yta_weights)\n",
    "plt.title(f\"Top tokens → {classes[1]} (higher = more YTA-like)\")\n",
    "plt.xlabel(\"Logistic regression weight\")\n",
    "plt.tight_layout()\n",
    "plt.show()"
   ]
  },
  {
   "cell_type": "code",
   "execution_count": 155,
   "id": "b2bcdce6",
   "metadata": {},
   "outputs": [
    {
     "data": {
      "image/png": "[encoded data removed]",
      "text/plain": [
       "<Figure size 600x500 with 1 Axes>"
      ]
     },
     "metadata": {},
     "output_type": "display_data"
    }
   ],
   "source": [
    "# 6b) Visualize top tokens for NTA (most negative weights)\n",
    "nta_idx = np.argsort(weights)[:top_k]\n",
    "nta_tokens = feature_names[nta_idx]\n",
    "nta_weights = weights[nta_idx]   # these are negative numbers\n",
    "\n",
    "# Sort so the strongest (most negative) appears at the bottom/top nicely\n",
    "order = np.argsort(nta_weights)\n",
    "nta_tokens = nta_tokens[order]\n",
    "nta_weights = nta_weights[order]\n",
    "\n",
    "plt.figure(figsize=(6, 5))\n",
    "plt.barh(nta_tokens, nta_weights)\n",
    "plt.title(f\"Top tokens → {classes[0]} (more negative = more {classes[0]}-like)\")\n",
    "plt.xlabel(\"Logistic regression weight\")\n",
    "plt.tight_layout()\n",
    "plt.show()"
   ]
  },
  {
   "cell_type": "markdown",
   "id": "2a46e6ce",
   "metadata": {},
   "source": [
    "Make predictions\n",
    "- For a new post, we compute TF-IDF values for its words.\n",
    "- The classifier multiplies those numbers by its learned coefficients.\n",
    "- The result is a score for each class, and the highest score is the predicted label.\n"
   ]
  },
  {
   "cell_type": "code",
   "execution_count": 156,
   "id": "b81110ff",
   "metadata": {},
   "outputs": [
    {
     "name": "stdout",
     "output_type": "stream",
     "text": [
      "Prediction: Asshole\n",
      "Probabilities: {'Asshole': 0.506, 'Not the A-hole': 0.494}\n"
     ]
    }
   ],
   "source": [
    "# Example new reddit post\n",
    "new_post = [\"I told my roommate she is kind of annoying, and now she's kind of upset at me.\"]\n",
    "\n",
    "# Predict class\n",
    "pred = clf.predict(new_post)[0]\n",
    "proba = clf.predict_proba(new_post)[0]\n",
    "\n",
    "print(\"Prediction:\", pred)\n",
    "print(\"Probabilities:\", dict(zip(clf.classes_, np.round(proba, 3))))"
   ]
  },
  {
   "cell_type": "markdown",
   "id": "cell-62",
   "metadata": {},
   "source": [
    "<div class=\"alert alert-success\">\n",
    "\n",
    "## ❗ Key Points\n",
    "\n",
    "* Preprocessing includes multiple steps, some of them are more common to text data regardlessly, and some are task-specific. Reddit data requires specific preprocessing for URLs, user mentions, and subreddit references.\n",
    "* Both `nltk` and `spaCy` could be used for tokenization and stop word removal. The latter is more powerful in providing various linguistic annotations. \n",
    "* A Bag-of-Words representation is a simple method to transform our text data to numbers. It focuses on word frequency but not word order. \n",
    "* A TF-IDF representation is a step further; it also considers if a certain word distinctively appears in one document or occurs uniformally across all documents. \n",
    "* With a numerical representation, we can perform a range of text classification task, such as post length categorization or potentially sentiment analysis with labeled data.\n",
    "* Reddit data provides rich opportunities for text analysis due to its conversational nature and community-specific language patterns.\n",
    "\n",
    "</div>"
   ]
  }
 ],
 "metadata": {
  "kernelspec": {
   "display_name": "Python 3",
   "language": "python",
   "name": "python3"
  },
  "language_info": {
   "codemirror_mode": {
    "name": "ipython",
    "version": 3
   },
   "file_extension": ".py",
   "mimetype": "text/x-python",
   "name": "python",
   "nbconvert_exporter": "python",
   "pygments_lexer": "ipython3",
   "version": "3.10.14"
  }
 },
 "nbformat": 4,
 "nbformat_minor": 5
}
