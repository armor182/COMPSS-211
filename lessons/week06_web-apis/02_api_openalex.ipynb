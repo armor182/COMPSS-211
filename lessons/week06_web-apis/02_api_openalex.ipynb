{
 "cells": [
  {
   "cell_type": "markdown",
   "metadata": {},
   "source": [
    "# Python Web APIs: Exploring Academic Research with OpenAlex\n",
    "\n",
    "* * * \n",
    "\n",
    "### Icons used in this notebook\n",
    "🔔 **Question**: A quick question to help you understand what's going on.<br>\n",
    "🥊 **Challenge**: Interactive exercise. We'll work through these in the workshop!<br>\n",
    "⚠️ **Warning**: Heads-up about tricky stuff or common mistakes.<br>\n",
    "💡 **Tip**: How to do something a bit more efficiently or effectively.<br>\n",
    "🎬 **Demo**: Showing off something more advanced – so you know what Python can be used for!<br>\n",
    "\n",
    "### Learning Objectives\n",
    "1. [Introduction to OpenAlex](#1)\n",
    "2. [Setting up the OpenAlex API](#2)\n",
    "3. [Exploring Academic Works (Publications)](#3)\n",
    "4. [Analyzing Authors](#4)\n",
    "5. [Analyzing Institutions](#5)\n",
    "6. [Analyzing Topics](#6)\n",
    "7. [Open Access Analysis](#7)"
   ]
  },
  {
   "cell_type": "markdown",
   "metadata": {},
   "source": [
    "<a id='1'></a>\n",
    "\n",
    "## Import Required Libraries\n",
    "\n",
    "Let's start by importing all the libraries we'll need:"
   ]
  },
  {
   "cell_type": "code",
   "execution_count": null,
   "metadata": {},
   "outputs": [],
   "source": [
    "# !pip install trafilatura\n",
    "# !pip install fitz"
   ]
  },
  {
   "cell_type": "code",
   "execution_count": 10,
   "metadata": {},
   "outputs": [],
   "source": [
    "# Basic libraries for making web requests\n",
    "import requests\n",
    "import io\n",
    "import json\n",
    "import trafilatura # boilerplate removal tool for web pages\n",
    "import fitz  # PyMuPDF: fast, lightweight PDF parser\n",
    "\n",
    "# Data analysis libraries\n",
    "import pandas as pd\n",
    "import numpy as np\n",
    "\n",
    "# Visualization libraries\n",
    "import matplotlib.pyplot as plt\n",
    "\n",
    "# Utility libraries\n",
    "from datetime import datetime\n",
    "import time\n",
    "from IPython.display import display\n"
   ]
  },
  {
   "cell_type": "markdown",
   "metadata": {},
   "source": [
    "## 1. Introduction to OpenAlex\n",
    "\n",
    "OpenAlex is a **free** and **open** catalog of the global research system. You can find metadata on individual articles, and explore how they connect to each other, who is producing them, and how ideas flow across time, disciplines, and places.\n",
    "\n",
    "### Why use OpenAlex?\n",
    "- **240+ million works** from all academic disciplines\n",
    "- **Completely free** - no API key required!\n",
    "- **Global coverage** - includes non-English research\n",
    "- **Rich metadata** - citations, authors, institutions, topics"
   ]
  },
  {
   "cell_type": "markdown",
   "metadata": {},
   "source": [
    "<a id='2'></a>\n",
    "\n",
    "## 2. Setting up the OpenAlex API\n",
    "\n",
    "First, let's set up our basic configuration:"
   ]
  },
  {
   "cell_type": "code",
   "execution_count": null,
   "metadata": {},
   "outputs": [],
   "source": [
    "# Set your email (recommended for polite requests)\n",
    "EMAIL = \"your-email@example.com\"  # Replace with your actual email"
   ]
  },
  {
   "cell_type": "code",
   "execution_count": 17,
   "metadata": {},
   "outputs": [],
   "source": [
    "# Base URL for OpenAlex API\n",
    "BASE_URL = \"https://api.openalex.org\""
   ]
  },
  {
   "cell_type": "markdown",
   "metadata": {},
   "source": [
    "### Create a Helper Function\n",
    "\n",
    "This function will make it easier to send requests to OpenAlex:"
   ]
  },
  {
   "cell_type": "code",
   "execution_count": 18,
   "metadata": {},
   "outputs": [],
   "source": [
    "def make_openalex_request(endpoint, params=None):\n",
    "    \"\"\"Make a request to OpenAlex API with proper headers.\"\"\"\n",
    "    if params is None:\n",
    "        params = {}\n",
    "    \n",
    "    # Add email to params for polite requests\n",
    "    params['mailto'] = EMAIL\n",
    "    \n",
    "    # Build the full URL\n",
    "    url = f\"{BASE_URL}/{endpoint}\"\n",
    "    \n",
    "    # Make the request\n",
    "    response = requests.get(url, params=params)\n",
    "    \n",
    "    # Check if successful\n",
    "    if response.status_code == 200:\n",
    "        return response.json()\n",
    "    else:\n",
    "        print(f\"Error: {response.status_code}\")\n",
    "        return None"
   ]
  },
  {
   "cell_type": "markdown",
   "metadata": {},
   "source": [
    "### Test the Connection\n",
    "\n",
    "Let's make sure our connection works:"
   ]
  },
  {
   "cell_type": "code",
   "execution_count": 19,
   "metadata": {},
   "outputs": [
    {
     "data": {
      "text/plain": [
       "{'meta': {'count': 270685814,\n",
       "  'db_response_time_ms': 182,\n",
       "  'page': 1,\n",
       "  'per_page': 1,\n",
       "  'groups_count': None},\n",
       " 'results': [{'id': 'https://openalex.org/W1775749144',\n",
       "   'doi': 'https://doi.org/10.1016/s0021-9258(19)52451-6',\n",
       "   'title': 'PROTEIN MEASUREMENT WITH THE FOLIN PHENOL REAGENT',\n",
       "   'display_name': 'PROTEIN MEASUREMENT WITH THE FOLIN PHENOL REAGENT',\n",
       "   'publication_year': 1951,\n",
       "   'publication_date': '1951-11-01',\n",
       "   'ids': {'openalex': 'https://openalex.org/W1775749144',\n",
       "    'doi': 'https://doi.org/10.1016/s0021-9258(19)52451-6',\n",
       "    'mag': '1775749144',\n",
       "    'pmid': 'https://pubmed.ncbi.nlm.nih.gov/14907713'},\n",
       "   'language': 'en',\n",
       "   'primary_location': {'is_oa': True,\n",
       "    'landing_page_url': 'https://doi.org/10.1016/s0021-9258(19)52451-6',\n",
       "    'pdf_url': None,\n",
       "    'source': {'id': 'https://openalex.org/S140251998',\n",
       "     'display_name': 'Journal of Biological Chemistry',\n",
       "     'issn_l': '0021-9258',\n",
       "     'issn': ['0021-9258', '1067-8816', '1083-351X'],\n",
       "     'is_oa': True,\n",
       "     'is_in_doaj': True,\n",
       "     'is_indexed_in_scopus': True,\n",
       "     'is_core': True,\n",
       "     'host_organization': 'https://openalex.org/P4310320990',\n",
       "     'host_organization_name': 'Elsevier BV',\n",
       "     'host_organization_lineage': ['https://openalex.org/P4310320990'],\n",
       "     'host_organization_lineage_names': ['Elsevier BV'],\n",
       "     'type': 'journal'},\n",
       "    'license': 'cc-by',\n",
       "    'license_id': 'https://openalex.org/licenses/cc-by',\n",
       "    'version': 'publishedVersion',\n",
       "    'is_accepted': True,\n",
       "    'is_published': True},\n",
       "   'type': 'article',\n",
       "   'type_crossref': 'journal-article',\n",
       "   'indexed_in': ['crossref'],\n",
       "   'open_access': {'is_oa': True,\n",
       "    'oa_status': 'hybrid',\n",
       "    'oa_url': 'https://doi.org/10.1016/s0021-9258(19)52451-6',\n",
       "    'any_repository_has_fulltext': True},\n",
       "   'authorships': [{'author_position': 'first',\n",
       "     'author': {'id': 'https://openalex.org/A5110127684',\n",
       "      'display_name': 'OliverH. Lowry',\n",
       "      'orcid': None},\n",
       "     'institutions': [{'id': 'https://openalex.org/I204465549',\n",
       "       'display_name': 'Washington University in St. Louis',\n",
       "       'ror': 'https://ror.org/01yc7t268',\n",
       "       'country_code': 'US',\n",
       "       'type': 'funder',\n",
       "       'lineage': ['https://openalex.org/I204465549']}],\n",
       "     'countries': ['US'],\n",
       "     'is_corresponding': False,\n",
       "     'raw_author_name': 'OliverH. Lowry',\n",
       "     'raw_affiliation_strings': ['Washington University School of Medicine St. Louis, Missouri.'],\n",
       "     'affiliations': [{'raw_affiliation_string': 'Washington University School of Medicine St. Louis, Missouri.',\n",
       "       'institution_ids': ['https://openalex.org/I204465549']}]},\n",
       "    {'author_position': 'middle',\n",
       "     'author': {'id': 'https://openalex.org/A5032482932',\n",
       "      'display_name': 'NiraJ. Rosebrough',\n",
       "      'orcid': None},\n",
       "     'institutions': [{'id': 'https://openalex.org/I204465549',\n",
       "       'display_name': 'Washington University in St. Louis',\n",
       "       'ror': 'https://ror.org/01yc7t268',\n",
       "       'country_code': 'US',\n",
       "       'type': 'funder',\n",
       "       'lineage': ['https://openalex.org/I204465549']}],\n",
       "     'countries': ['US'],\n",
       "     'is_corresponding': False,\n",
       "     'raw_author_name': 'NiraJ. Rosebrough',\n",
       "     'raw_affiliation_strings': ['Washington University School of Medicine St. Louis, Missouri.'],\n",
       "     'affiliations': [{'raw_affiliation_string': 'Washington University School of Medicine St. Louis, Missouri.',\n",
       "       'institution_ids': ['https://openalex.org/I204465549']}]},\n",
       "    {'author_position': 'middle',\n",
       "     'author': {'id': 'https://openalex.org/A5004071084',\n",
       "      'display_name': 'A. Farr',\n",
       "      'orcid': None},\n",
       "     'institutions': [{'id': 'https://openalex.org/I204465549',\n",
       "       'display_name': 'Washington University in St. Louis',\n",
       "       'ror': 'https://ror.org/01yc7t268',\n",
       "       'country_code': 'US',\n",
       "       'type': 'funder',\n",
       "       'lineage': ['https://openalex.org/I204465549']}],\n",
       "     'countries': ['US'],\n",
       "     'is_corresponding': False,\n",
       "     'raw_author_name': 'A. Lewis Farr',\n",
       "     'raw_affiliation_strings': ['Washington University School of Medicine St. Louis, Missouri.'],\n",
       "     'affiliations': [{'raw_affiliation_string': 'Washington University School of Medicine St. Louis, Missouri.',\n",
       "       'institution_ids': ['https://openalex.org/I204465549']}]},\n",
       "    {'author_position': 'last',\n",
       "     'author': {'id': 'https://openalex.org/A5109894513',\n",
       "      'display_name': 'RoseJ. Randall',\n",
       "      'orcid': None},\n",
       "     'institutions': [{'id': 'https://openalex.org/I204465549',\n",
       "       'display_name': 'Washington University in St. Louis',\n",
       "       'ror': 'https://ror.org/01yc7t268',\n",
       "       'country_code': 'US',\n",
       "       'type': 'funder',\n",
       "       'lineage': ['https://openalex.org/I204465549']}],\n",
       "     'countries': ['US'],\n",
       "     'is_corresponding': False,\n",
       "     'raw_author_name': 'RoseJ. Randall',\n",
       "     'raw_affiliation_strings': ['Washington University School of Medicine St. Louis, Missouri.'],\n",
       "     'affiliations': [{'raw_affiliation_string': 'Washington University School of Medicine St. Louis, Missouri.',\n",
       "       'institution_ids': ['https://openalex.org/I204465549']}]}],\n",
       "   'institution_assertions': [],\n",
       "   'countries_distinct_count': 1,\n",
       "   'institutions_distinct_count': 1,\n",
       "   'corresponding_author_ids': [],\n",
       "   'corresponding_institution_ids': [],\n",
       "   'apc_list': {'value': 2500, 'currency': 'USD', 'value_usd': 2500},\n",
       "   'apc_paid': {'value': 2500, 'currency': 'USD', 'value_usd': 2500},\n",
       "   'fwci': 39.503,\n",
       "   'has_fulltext': True,\n",
       "   'fulltext_origin': 'pdf',\n",
       "   'cited_by_count': 321215,\n",
       "   'citation_normalized_percentile': {'value': 0.99962,\n",
       "    'is_in_top_1_percent': True,\n",
       "    'is_in_top_10_percent': True},\n",
       "   'cited_by_percentile_year': {'min': 99, 'max': 100},\n",
       "   'biblio': {'volume': '193',\n",
       "    'issue': '1',\n",
       "    'first_page': '265',\n",
       "    'last_page': '275'},\n",
       "   'is_retracted': False,\n",
       "   'is_paratext': False,\n",
       "   'primary_topic': {'id': 'https://openalex.org/T10602',\n",
       "    'display_name': 'Glycosylation and Glycoproteins Research',\n",
       "    'score': 0.9678,\n",
       "    'subfield': {'id': 'https://openalex.org/subfields/1312',\n",
       "     'display_name': 'Molecular Biology'},\n",
       "    'field': {'id': 'https://openalex.org/fields/13',\n",
       "     'display_name': 'Biochemistry, Genetics and Molecular Biology'},\n",
       "    'domain': {'id': 'https://openalex.org/domains/1',\n",
       "     'display_name': 'Life Sciences'}},\n",
       "   'topics': [{'id': 'https://openalex.org/T10602',\n",
       "     'display_name': 'Glycosylation and Glycoproteins Research',\n",
       "     'score': 0.9678,\n",
       "     'subfield': {'id': 'https://openalex.org/subfields/1312',\n",
       "      'display_name': 'Molecular Biology'},\n",
       "     'field': {'id': 'https://openalex.org/fields/13',\n",
       "      'display_name': 'Biochemistry, Genetics and Molecular Biology'},\n",
       "     'domain': {'id': 'https://openalex.org/domains/1',\n",
       "      'display_name': 'Life Sciences'}},\n",
       "    {'id': 'https://openalex.org/T11399',\n",
       "     'display_name': 'Muscle metabolism and nutrition',\n",
       "     'score': 0.951,\n",
       "     'subfield': {'id': 'https://openalex.org/subfields/1307',\n",
       "      'display_name': 'Cell Biology'},\n",
       "     'field': {'id': 'https://openalex.org/fields/13',\n",
       "      'display_name': 'Biochemistry, Genetics and Molecular Biology'},\n",
       "     'domain': {'id': 'https://openalex.org/domains/1',\n",
       "      'display_name': 'Life Sciences'}},\n",
       "    {'id': 'https://openalex.org/T14135',\n",
       "     'display_name': 'Cancer and biochemical research',\n",
       "     'score': 0.9502,\n",
       "     'subfield': {'id': 'https://openalex.org/subfields/1312',\n",
       "      'display_name': 'Molecular Biology'},\n",
       "     'field': {'id': 'https://openalex.org/fields/13',\n",
       "      'display_name': 'Biochemistry, Genetics and Molecular Biology'},\n",
       "     'domain': {'id': 'https://openalex.org/domains/1',\n",
       "      'display_name': 'Life Sciences'}}],\n",
       "   'keywords': [],\n",
       "   'concepts': [{'id': 'https://openalex.org/C40875361',\n",
       "     'wikidata': 'https://www.wikidata.org/wiki/Q2356542',\n",
       "     'display_name': 'Reagent',\n",
       "     'level': 2,\n",
       "     'score': 0.97429305},\n",
       "    {'id': 'https://openalex.org/C185592680',\n",
       "     'wikidata': 'https://www.wikidata.org/wiki/Q2329',\n",
       "     'display_name': 'Chemistry',\n",
       "     'level': 0,\n",
       "     'score': 0.8413831},\n",
       "    {'id': 'https://openalex.org/C2777702071',\n",
       "     'wikidata': 'https://www.wikidata.org/wiki/Q130336',\n",
       "     'display_name': 'Phenol',\n",
       "     'level': 2,\n",
       "     'score': 0.56796163},\n",
       "    {'id': 'https://openalex.org/C43617362',\n",
       "     'wikidata': 'https://www.wikidata.org/wiki/Q170050',\n",
       "     'display_name': 'Chromatography',\n",
       "     'level': 1,\n",
       "     'score': 0.5565455},\n",
       "    {'id': 'https://openalex.org/C178790620',\n",
       "     'wikidata': 'https://www.wikidata.org/wiki/Q11351',\n",
       "     'display_name': 'Organic chemistry',\n",
       "     'level': 1,\n",
       "     'score': 0.27057263}],\n",
       "   'mesh': [],\n",
       "   'locations_count': 2,\n",
       "   'locations': [{'is_oa': True,\n",
       "     'landing_page_url': 'https://doi.org/10.1016/s0021-9258(19)52451-6',\n",
       "     'pdf_url': None,\n",
       "     'source': {'id': 'https://openalex.org/S140251998',\n",
       "      'display_name': 'Journal of Biological Chemistry',\n",
       "      'issn_l': '0021-9258',\n",
       "      'issn': ['0021-9258', '1067-8816', '1083-351X'],\n",
       "      'is_oa': True,\n",
       "      'is_in_doaj': True,\n",
       "      'is_indexed_in_scopus': True,\n",
       "      'is_core': True,\n",
       "      'host_organization': 'https://openalex.org/P4310320990',\n",
       "      'host_organization_name': 'Elsevier BV',\n",
       "      'host_organization_lineage': ['https://openalex.org/P4310320990'],\n",
       "      'host_organization_lineage_names': ['Elsevier BV'],\n",
       "      'type': 'journal'},\n",
       "     'license': 'cc-by',\n",
       "     'license_id': 'https://openalex.org/licenses/cc-by',\n",
       "     'version': 'publishedVersion',\n",
       "     'is_accepted': True,\n",
       "     'is_published': True},\n",
       "    {'is_oa': True,\n",
       "     'landing_page_url': 'https://www.jbc.org/article/S0021-9258(19)52451-6/pdf',\n",
       "     'pdf_url': 'https://www.jbc.org/article/S0021-9258(19)52451-6/pdf',\n",
       "     'source': None,\n",
       "     'license': None,\n",
       "     'license_id': None,\n",
       "     'version': 'publishedVersion',\n",
       "     'is_accepted': True,\n",
       "     'is_published': True}],\n",
       "   'best_oa_location': {'is_oa': True,\n",
       "    'landing_page_url': 'https://doi.org/10.1016/s0021-9258(19)52451-6',\n",
       "    'pdf_url': None,\n",
       "    'source': {'id': 'https://openalex.org/S140251998',\n",
       "     'display_name': 'Journal of Biological Chemistry',\n",
       "     'issn_l': '0021-9258',\n",
       "     'issn': ['0021-9258', '1067-8816', '1083-351X'],\n",
       "     'is_oa': True,\n",
       "     'is_in_doaj': True,\n",
       "     'is_indexed_in_scopus': True,\n",
       "     'is_core': True,\n",
       "     'host_organization': 'https://openalex.org/P4310320990',\n",
       "     'host_organization_name': 'Elsevier BV',\n",
       "     'host_organization_lineage': ['https://openalex.org/P4310320990'],\n",
       "     'host_organization_lineage_names': ['Elsevier BV'],\n",
       "     'type': 'journal'},\n",
       "    'license': 'cc-by',\n",
       "    'license_id': 'https://openalex.org/licenses/cc-by',\n",
       "    'version': 'publishedVersion',\n",
       "    'is_accepted': True,\n",
       "    'is_published': True},\n",
       "   'sustainable_development_goals': [{'display_name': 'Clean water and sanitation',\n",
       "     'score': 0.65,\n",
       "     'id': 'https://metadata.un.org/sdg/6'}],\n",
       "   'grants': [],\n",
       "   'datasets': [],\n",
       "   'versions': [],\n",
       "   'referenced_works_count': 20,\n",
       "   'referenced_works': ['https://openalex.org/W1507976594',\n",
       "    'https://openalex.org/W1515052776',\n",
       "    'https://openalex.org/W1535643256',\n",
       "    'https://openalex.org/W1540384225',\n",
       "    'https://openalex.org/W1557790601',\n",
       "    'https://openalex.org/W1573055659',\n",
       "    'https://openalex.org/W1576013682',\n",
       "    'https://openalex.org/W195762992',\n",
       "    'https://openalex.org/W1979011732',\n",
       "    'https://openalex.org/W1979607356',\n",
       "    'https://openalex.org/W2051330591',\n",
       "    'https://openalex.org/W2149417143',\n",
       "    'https://openalex.org/W2298123771',\n",
       "    'https://openalex.org/W2412728352',\n",
       "    'https://openalex.org/W2415297835',\n",
       "    'https://openalex.org/W59369663',\n",
       "    'https://openalex.org/W8863503',\n",
       "    'https://openalex.org/W89669270',\n",
       "    'https://openalex.org/W951165088',\n",
       "    'https://openalex.org/W97662572'],\n",
       "   'related_works': ['https://openalex.org/W4387497383',\n",
       "    'https://openalex.org/W2948807893',\n",
       "    'https://openalex.org/W2778153218',\n",
       "    'https://openalex.org/W2748952813',\n",
       "    'https://openalex.org/W2527526854',\n",
       "    'https://openalex.org/W2078814861',\n",
       "    'https://openalex.org/W2062208111',\n",
       "    'https://openalex.org/W1976181487',\n",
       "    'https://openalex.org/W170893625',\n",
       "    'https://openalex.org/W1531601525'],\n",
       "   'abstract_inverted_index': {'Since': [0],\n",
       "    '1922': [1],\n",
       "    'when': [2],\n",
       "    'Wu': [3],\n",
       "    'proposed': [4],\n",
       "    'the': [5, 8, 13, 31, 46, 58, 76, 150, 206, 238, 244],\n",
       "    'use': [6],\n",
       "    'of': [7,\n",
       "     15,\n",
       "     20,\n",
       "     33,\n",
       "     60,\n",
       "     110,\n",
       "     115,\n",
       "     119,\n",
       "     123,\n",
       "     152,\n",
       "     158,\n",
       "     189,\n",
       "     195,\n",
       "     214,\n",
       "     240,\n",
       "     282],\n",
       "    'Folin': [9, 218, 245],\n",
       "    'phenol': [10, 221],\n",
       "    'reagent': [11, 26, 47, 222, 246],\n",
       "    'for': [12, 30, 72, 85, 98, 135, 149, 212],\n",
       "    'measurement': [14],\n",
       "    'proteins': [16, 34],\n",
       "    '(l),': [17],\n",
       "    'a': [18, 235, 279],\n",
       "    'number': [19],\n",
       "    'modified': [21],\n",
       "    'analytical': [22],\n",
       "    'procedures': [23],\n",
       "    'ut.ilizing': [24],\n",
       "    'this': [25, 79, 241],\n",
       "    'have': [27],\n",
       "    'been': [28, 104],\n",
       "    'reported': [29],\n",
       "    'determination': [32, 151],\n",
       "    'in': [35, 38, 43, 112, 127, 138, 166, 175, 254, 273],\n",
       "    'serum': [36, 262],\n",
       "    '(2-G),': [37],\n",
       "    'antigen-antibody': [39],\n",
       "    'precipitates': [40],\n",
       "    '(7-9),': [41],\n",
       "    'and': [42, 57, 92, 117, 130, 148, 225, 287],\n",
       "    'insulin': [44],\n",
       "    '(10).Although': [45],\n",
       "    'would': [48],\n",
       "    'seem': [49],\n",
       "    'to': [50, 95, 249, 268],\n",
       "    'be': [51, 96, 258, 276],\n",
       "    'recommended': [52],\n",
       "    'by': [53],\n",
       "    'its': [54, 64, 90, 99],\n",
       "    'great': [55, 70],\n",
       "    'sensitivity': [56],\n",
       "    'simplicity': [59],\n",
       "    'procedure': [61],\n",
       "    'possible': [62],\n",
       "    'with': [63, 106, 192, 232],\n",
       "    'use,': [65],\n",
       "    'it': [66, 102, 251],\n",
       "    'has': [67, 82, 103],\n",
       "    'not': [68],\n",
       "    'found': [69],\n",
       "    'favor': [71],\n",
       "    'general': [73],\n",
       "    'biochemical': [74],\n",
       "    'purposes.In': [75],\n",
       "    'belief': [77],\n",
       "    'that': [78, 89],\n",
       "    'reagent,': [80],\n",
       "    'nevertheless,': [81],\n",
       "    'considerable': [83],\n",
       "    'merit': [84],\n",
       "    'certain': [86],\n",
       "    'application,': [87],\n",
       "    'but': [88],\n",
       "    'peculiarities': [91],\n",
       "    'limitations': [93],\n",
       "    'need': [94],\n",
       "    'understood': [97],\n",
       "    'fullest': [100],\n",
       "    'exploitation,': [101],\n",
       "    'studied': [105],\n",
       "    'regard': [107],\n",
       "    't.o': [108, 234],\n",
       "    'effects': [109],\n",
       "    'variations': [111],\n",
       "    'pH,': [113],\n",
       "    'time': [114],\n",
       "    'reaction,': [116],\n",
       "    'concentration': [118],\n",
       "    'reactants,': [120],\n",
       "    'permissible': [121],\n",
       "    'levels': [122],\n",
       "    'reagents': [124],\n",
       "    'commonly': [125],\n",
       "    'used': [126],\n",
       "    'handling': [128],\n",
       "    'proteins,': [129],\n",
       "    'interfering': [131],\n",
       "    'subst.ances.Procedures': [132],\n",
       "    'are': [133],\n",
       "    'described': [134],\n",
       "    'measuring': [136],\n",
       "    'protein': [137],\n",
       "    'solution': [139, 281],\n",
       "    'or': [140, 145, 180],\n",
       "    'after': [141, 199],\n",
       "    'precipitation': [142],\n",
       "    'wit,h': [143],\n",
       "    'acids': [144],\n",
       "    'other': [146],\n",
       "    'agents,': [147],\n",
       "    'as': [153, 155, 208],\n",
       "    'little': [154],\n",
       "    '0.2': [156],\n",
       "    'y': [157, 270],\n",
       "    'protein.': [159],\n",
       "    'MethodReagents-Reagent': [160],\n",
       "    'A,': [161],\n",
       "    '2': [162],\n",
       "    'per': [163, 172, 177, 271],\n",
       "    'cent': [164, 173, 178],\n",
       "    'N&OX': [165],\n",
       "    '0.10': [167],\n",
       "    'N': [168, 253],\n",
       "    'NaOH.Reagent': [169, 215],\n",
       "    'B,': [170],\n",
       "    '0.5': [171],\n",
       "    'CuS04.5Hz0': [174],\n",
       "    '1': [176, 193, 200, 252],\n",
       "    'sodium': [179],\n",
       "    'potassium': [181],\n",
       "    'tartrabe.Reagent': [182],\n",
       "    'C,': [183],\n",
       "    'alkaline': [184],\n",
       "    'copper': [185],\n",
       "    'solution.Mix': [186],\n",
       "    '50': [187],\n",
       "    'ml.': [188, 194],\n",
       "    'Reagent': [190, 196, 209],\n",
       "    'A': [191],\n",
       "    'B.': [197],\n",
       "    'Discard': [198],\n",
       "    'day.Reagent': [201],\n",
       "    'D,': [202],\n",
       "    'carbonate-copper': [203],\n",
       "    'solution,': [204],\n",
       "    'is': [205],\n",
       "    'same': [207],\n",
       "    'C': [210],\n",
       "    'except': [211],\n",
       "    'omission': [213],\n",
       "    'E,': [216],\n",
       "    'diluted': [217, 263],\n",
       "    'reagent.Titrate': [219],\n",
       "    'Folin-Ciocalteu': [220],\n",
       "    '((II),': [223],\n",
       "    'Eimer': [224],\n",
       "    'Amend,': [226],\n",
       "    'Fisher': [227],\n",
       "    'Scientific': [228],\n",
       "    'Company,': [229],\n",
       "    'New': [230],\n",
       "    'York)': [231],\n",
       "    'NaOH': [233],\n",
       "    'phenolphthalein': [236],\n",
       "    'end-point.On': [237],\n",
       "    'basis': [239],\n",
       "    'titration': [242],\n",
       "    'dilute': [243],\n",
       "    '(about': [247],\n",
       "    '2-fold)': [248],\n",
       "    'make': [250],\n",
       "    'acid.Working': [255],\n",
       "    'standards': [256],\n",
       "    'may': [257, 275],\n",
       "    'prepared': [259],\n",
       "    'from': [260],\n",
       "    'human': [261],\n",
       "    'IOO-to': [264],\n",
       "    'lOOO-fold': [265],\n",
       "    '(approximately': [266],\n",
       "    '700': [267],\n",
       "    '70': [269],\n",
       "    'ml.).These': [272],\n",
       "    'turn': [274],\n",
       "    'checked': [277],\n",
       "    'against': [278],\n",
       "    'standard': [280],\n",
       "    'crystalline': [283],\n",
       "    'bovine': [284],\n",
       "    'albumin': [285],\n",
       "    '(Armour': [286]},\n",
       "   'abstract_inverted_index_v3': None,\n",
       "   'cited_by_api_url': 'https://api.openalex.org/works?filter=cites:W1775749144',\n",
       "   'counts_by_year': [{'year': 2025, 'cited_by_count': 1638},\n",
       "    {'year': 2024, 'cited_by_count': 2900},\n",
       "    {'year': 2023, 'cited_by_count': 3294},\n",
       "    {'year': 2022, 'cited_by_count': 3518},\n",
       "    {'year': 2021, 'cited_by_count': 3699},\n",
       "    {'year': 2020, 'cited_by_count': 3751},\n",
       "    {'year': 2019, 'cited_by_count': 3513},\n",
       "    {'year': 2018, 'cited_by_count': 3468},\n",
       "    {'year': 2017, 'cited_by_count': 3643},\n",
       "    {'year': 2016, 'cited_by_count': 3935},\n",
       "    {'year': 2015, 'cited_by_count': 4522},\n",
       "    {'year': 2014, 'cited_by_count': 5023},\n",
       "    {'year': 2013, 'cited_by_count': 4940},\n",
       "    {'year': 2012, 'cited_by_count': 4966}],\n",
       "   'updated_date': '2025-09-04T09:05:03.369307',\n",
       "   'created_date': '2016-06-24'}],\n",
       " 'group_by': []}"
      ]
     },
     "execution_count": 19,
     "metadata": {},
     "output_type": "execute_result"
    }
   ],
   "source": [
    "# Get meta information about OpenAlex\n",
    "meta_info = make_openalex_request(\"works\", params={'per-page': 1})\n",
    "meta_info"
   ]
  },
  {
   "cell_type": "markdown",
   "metadata": {},
   "source": [
    "This `meta_info` object contains information about the total amount of works OpenAlex currently hosts. Can you find it?"
   ]
  },
  {
   "cell_type": "code",
   "execution_count": null,
   "metadata": {},
   "outputs": [
    {
     "data": {
      "text/plain": [
       "270685814"
      ]
     },
     "execution_count": 20,
     "metadata": {},
     "output_type": "execute_result"
    }
   ],
   "source": [
    "# Display the total number of works\n",
    "# YOUR CODE HERE\n"
   ]
  },
  {
   "cell_type": "markdown",
   "metadata": {},
   "source": [
    "<a id='3'></a>\n",
    "\n",
    "## 3. Searching for Academic Works\n",
    "\n",
    "[Works](https://docs.openalex.org/api-entities/works) are the central entity in OpenAlex - they represent scholarly documents like journal articles, books, and dissertations. OpenAlex indexes over 240M works,\n",
    "\n",
    "### Basic Search\n",
    "\n",
    "Let's search for research on \"social media\":"
   ]
  },
  {
   "cell_type": "code",
   "execution_count": 12,
   "metadata": {},
   "outputs": [],
   "source": [
    "# Define our search parameters\n",
    "search_params = {\n",
    "    'search': 'social media',\n",
    "    'per-page': 5  # Get only 5 results to keep it simple\n",
    "}"
   ]
  },
  {
   "cell_type": "code",
   "execution_count": 13,
   "metadata": {},
   "outputs": [],
   "source": [
    "# Make the search request\n",
    "search_results = make_openalex_request('works', params=search_params)"
   ]
  },
  {
   "cell_type": "code",
   "execution_count": 14,
   "metadata": {},
   "outputs": [
    {
     "name": "stdout",
     "output_type": "stream",
     "text": [
      "Found 3,204,685 works on 'social media'\n"
     ]
    }
   ],
   "source": [
    "# Display total count\n",
    "if search_results:\n",
    "    print(f\"Found {search_results['meta']['count']:,} works on 'social media'\")"
   ]
  },
  {
   "cell_type": "markdown",
   "metadata": {},
   "source": [
    "### Display Search Results\n",
    "\n",
    "Let's look at the titles of what we found:"
   ]
  },
  {
   "cell_type": "code",
   "execution_count": 20,
   "metadata": {},
   "outputs": [
    {
     "name": "stdout",
     "output_type": "stream",
     "text": [
      "\n",
      "Top 5 results:\n",
      "\n",
      "1. Users of the world, unite! The challenges and opportunities of Social Media\n",
      "\n",
      "2. Social Media and Fake News in the 2016 Election\n",
      "\n",
      "3. Social media? Get serious! Understanding the functional building blocks of social media\n",
      "\n",
      "4. VADER: A Parsimonious Rule-Based Model for Sentiment Analysis of Social Media Text\n",
      "\n",
      "5. Social media: The new hybrid element of the promotion mix\n"
     ]
    }
   ],
   "source": [
    "# Display the titles\n",
    "print(\"\\nTop 5 results:\")\n",
    "\n",
    "for i, work in enumerate(search_results['results'], 1):\n",
    "    print(f\"\\n{i}. {work['title']}\")"
   ]
  },
  {
   "cell_type": "markdown",
   "metadata": {},
   "source": [
    "### Add More Filters\n",
    "\n",
    "Let's refine our search to get recent, highly-cited papers:"
   ]
  },
  {
   "cell_type": "code",
   "execution_count": 16,
   "metadata": {},
   "outputs": [],
   "source": [
    "# Search for recent, highly-cited papers\n",
    "refined_params = {\n",
    "    'search': 'social media polarization',\n",
    "    'filter': 'from_publication_date:2020-01-01',  # Recent works only\n",
    "    'per-page': 10,\n",
    "    'sort': 'cited_by_count:desc'  # Sort by most cited\n",
    "}"
   ]
  },
  {
   "cell_type": "code",
   "execution_count": 17,
   "metadata": {},
   "outputs": [],
   "source": [
    "# Make the refined search\n",
    "refined_results = make_openalex_request('works', params=refined_params)"
   ]
  },
  {
   "cell_type": "code",
   "execution_count": 21,
   "metadata": {},
   "outputs": [
    {
     "name": "stdout",
     "output_type": "stream",
     "text": [
      "Found 22,021 works on social media polarization since 2020\n",
      "\n",
      "Top 3 results:\n",
      "\n",
      "1. Global, regional, and national burden of stroke and its risk factors, 1990–2019: a systematic analysis for the Global Burden of Disease Study 2019\n",
      "   Year: 2021\n",
      "   Citations: 5425\n",
      "\n",
      "2. Using social and behavioural science to support COVID-19 pandemic response\n",
      "   Year: 2020\n",
      "   Citations: 4536\n",
      "\n",
      "3. Targets of T Cell Responses to SARS-CoV-2 Coronavirus in Humans with COVID-19 Disease and Unexposed Individuals\n",
      "   Year: 2020\n",
      "   Citations: 3839\n"
     ]
    }
   ],
   "source": [
    "# Display results with more details\n",
    "print(f\"Found {refined_results['meta']['count']:,} works on social media polarization since 2020\")\n",
    "print(\"\\nTop 3 results:\")\n",
    "\n",
    "for i, work in enumerate(refined_results['results'][:3], 1):\n",
    "    print(f\"\\n{i}. {work['title']}\")\n",
    "    print(f\"   Year: {work['publication_year']}\")\n",
    "    print(f\"   Citations: {work['cited_by_count']}\")"
   ]
  },
  {
   "cell_type": "markdown",
   "metadata": {},
   "source": [
    "### Examining a Single Work in Detail\n",
    "\n",
    "Let's look at more details about the most cited paper:"
   ]
  },
  {
   "cell_type": "code",
   "execution_count": 22,
   "metadata": {},
   "outputs": [],
   "source": [
    "# Get the most cited work\n",
    "if refined_results and refined_results['results']:\n",
    "    top_work = refined_results['results'][0]"
   ]
  },
  {
   "cell_type": "code",
   "execution_count": 23,
   "metadata": {},
   "outputs": [
    {
     "name": "stdout",
     "output_type": "stream",
     "text": [
      "Title: Global, regional, and national burden of stroke and its risk factors, 1990–2019: a systematic analysis for the Global Burden of Disease Study 2019\n",
      "Year: 2021\n",
      "Type: article\n"
     ]
    }
   ],
   "source": [
    "# Display the title and basic info\n",
    "print(f\"Title: {top_work['title']}\")\n",
    "print(f\"Year: {top_work['publication_year']}\")\n",
    "print(f\"Type: {top_work['type']}\")"
   ]
  },
  {
   "cell_type": "code",
   "execution_count": 24,
   "metadata": {},
   "outputs": [
    {
     "name": "stdout",
     "output_type": "stream",
     "text": [
      "\n",
      "Authors:\n",
      "  - Valery L. Feigin\n",
      "  - Benjamin Stark\n",
      "  - Catherine O. Johnson\n"
     ]
    }
   ],
   "source": [
    "# Display authors\n",
    "print(\"\\nAuthors:\")\n",
    "for authorship in top_work['authorships'][:3]:  # Show first 3 authors\n",
    "    author_name = authorship['author']['display_name']\n",
    "    print(f\"  - {author_name}\")"
   ]
  },
  {
   "cell_type": "code",
   "execution_count": 25,
   "metadata": {},
   "outputs": [
    {
     "name": "stdout",
     "output_type": "stream",
     "text": [
      "\n",
      "Impact Metrics:\n",
      "  Citations: 5425\n",
      "  Open Access: Yes\n"
     ]
    }
   ],
   "source": [
    "# Display impact metrics\n",
    "print(f\"\\nImpact Metrics:\")\n",
    "print(f\"  Citations: {top_work['cited_by_count']}\")\n",
    "print(f\"  Open Access: {'Yes' if top_work['open_access']['is_oa'] else 'No'}\")"
   ]
  },
  {
   "cell_type": "markdown",
   "metadata": {},
   "source": [
    "## 🥊 Challenge 1: Search for Your Topic\n",
    "\n",
    "Try searching for a topic that interests you. Find:\n",
    "1. Total number of papers\n",
    "2. The most cited paper's title and citation count"
   ]
  },
  {
   "cell_type": "code",
   "execution_count": null,
   "metadata": {},
   "outputs": [],
   "source": [
    "# YOUR CODE HERE\n",
    "# Hint: Use the search parameters we learned above\n",
    "\n"
   ]
  },
  {
   "cell_type": "markdown",
   "metadata": {},
   "source": [
    "<a id='4'></a>\n",
    "\n",
    "## 4. Analyzing Authors\n",
    "\n",
    "OpenAlex tracks millions of [authors](https://docs.openalex.org/api-entities/authors). Let's explore author data:"
   ]
  },
  {
   "cell_type": "code",
   "execution_count": 26,
   "metadata": {},
   "outputs": [],
   "source": [
    "# Search for authors in a field\n",
    "author_params = {\n",
    "    'search': 'machine learning',\n",
    "    'per-page': 5,\n",
    "    'sort': 'cited_by_count:desc'  # Get most cited authors\n",
    "}"
   ]
  },
  {
   "cell_type": "code",
   "execution_count": 27,
   "metadata": {},
   "outputs": [],
   "source": [
    "# Get the authors\n",
    "top_authors = make_openalex_request('authors', params=author_params)"
   ]
  },
  {
   "cell_type": "code",
   "execution_count": 28,
   "metadata": {},
   "outputs": [
    {
     "name": "stdout",
     "output_type": "stream",
     "text": [
      "Top Authors in Machine Learning\n",
      "============================================================\n",
      "\n",
      "Name: Sonika Tyagi\n",
      "  Works: 73\n",
      "  Citations: 1,577\n",
      "\n",
      "Name: Mojtaba Maghrebi\n",
      "  Works: 85\n",
      "  Citations: 1,365\n",
      "\n",
      "Name: Sangchul Oh\n",
      "  Works: 78\n",
      "  Citations: 1,157\n",
      "\n",
      "Name: Ali Fallah Tehrani\n",
      "  Works: 27\n",
      "  Citations: 756\n",
      "\n",
      "Name: Asharul Islam Khan\n",
      "  Works: 42\n",
      "  Citations: 733\n"
     ]
    }
   ],
   "source": [
    "# Display author information\n",
    "print(\"Top Authors in Machine Learning\")\n",
    "print(\"=\"*60)\n",
    "\n",
    "for author in top_authors['results']:\n",
    "    print(f\"\\nName: {author['display_name']}\")\n",
    "    print(f\"  Works: {author['works_count']:,}\")\n",
    "    print(f\"  Citations: {author['cited_by_count']:,}\")"
   ]
  },
  {
   "cell_type": "markdown",
   "metadata": {},
   "source": [
    "### Create a Simple Author Table\n",
    "\n",
    "Let's organize this data in a table:"
   ]
  },
  {
   "cell_type": "code",
   "execution_count": 29,
   "metadata": {},
   "outputs": [],
   "source": [
    "# Collect author data\n",
    "authors_data = []\n",
    "for author in top_authors['results']:\n",
    "    authors_data.append({\n",
    "        'Name': author['display_name'],\n",
    "        'Works': author['works_count'],\n",
    "        'Citations': author['cited_by_count']\n",
    "    })"
   ]
  },
  {
   "cell_type": "code",
   "execution_count": 30,
   "metadata": {},
   "outputs": [
    {
     "data": {
      "text/html": [
       "<div>\n",
       "<style scoped>\n",
       "    .dataframe tbody tr th:only-of-type {\n",
       "        vertical-align: middle;\n",
       "    }\n",
       "\n",
       "    .dataframe tbody tr th {\n",
       "        vertical-align: top;\n",
       "    }\n",
       "\n",
       "    .dataframe thead th {\n",
       "        text-align: right;\n",
       "    }\n",
       "</style>\n",
       "<table border=\"1\" class=\"dataframe\">\n",
       "  <thead>\n",
       "    <tr style=\"text-align: right;\">\n",
       "      <th></th>\n",
       "      <th>Name</th>\n",
       "      <th>Works</th>\n",
       "      <th>Citations</th>\n",
       "    </tr>\n",
       "  </thead>\n",
       "  <tbody>\n",
       "    <tr>\n",
       "      <th>0</th>\n",
       "      <td>Sonika Tyagi</td>\n",
       "      <td>73</td>\n",
       "      <td>1577</td>\n",
       "    </tr>\n",
       "    <tr>\n",
       "      <th>1</th>\n",
       "      <td>Mojtaba Maghrebi</td>\n",
       "      <td>85</td>\n",
       "      <td>1365</td>\n",
       "    </tr>\n",
       "    <tr>\n",
       "      <th>2</th>\n",
       "      <td>Sangchul Oh</td>\n",
       "      <td>78</td>\n",
       "      <td>1157</td>\n",
       "    </tr>\n",
       "    <tr>\n",
       "      <th>3</th>\n",
       "      <td>Ali Fallah Tehrani</td>\n",
       "      <td>27</td>\n",
       "      <td>756</td>\n",
       "    </tr>\n",
       "    <tr>\n",
       "      <th>4</th>\n",
       "      <td>Asharul Islam Khan</td>\n",
       "      <td>42</td>\n",
       "      <td>733</td>\n",
       "    </tr>\n",
       "  </tbody>\n",
       "</table>\n",
       "</div>"
      ],
      "text/plain": [
       "                 Name  Works  Citations\n",
       "0        Sonika Tyagi     73       1577\n",
       "1    Mojtaba Maghrebi     85       1365\n",
       "2         Sangchul Oh     78       1157\n",
       "3  Ali Fallah Tehrani     27        756\n",
       "4  Asharul Islam Khan     42        733"
      ]
     },
     "metadata": {},
     "output_type": "display_data"
    }
   ],
   "source": [
    "# Create and display DataFrame\n",
    "authors_df = pd.DataFrame(authors_data)\n",
    "display(authors_df)"
   ]
  },
  {
   "cell_type": "markdown",
   "metadata": {},
   "source": [
    "<a id='5'></a>\n",
    "\n",
    "## 5. Analyzing Institutions\n",
    "\n",
    "Let's look at [research institutions](https://docs.openalex.org/api-entities/institutions):"
   ]
  },
  {
   "cell_type": "code",
   "execution_count": 26,
   "metadata": {},
   "outputs": [],
   "source": [
    "# Get top institutions\n",
    "inst_params = {\n",
    "    'filter': 'type:education',  # Only educational institutions\n",
    "    'per-page': 10,\n",
    "    'sort': 'works_count:desc'  # Sort by number of publications\n",
    "}"
   ]
  },
  {
   "cell_type": "code",
   "execution_count": 24,
   "metadata": {},
   "outputs": [],
   "source": [
    "# Make the request\n",
    "top_institutions = make_openalex_request('institutions', params=inst_params)"
   ]
  },
  {
   "cell_type": "code",
   "execution_count": 25,
   "metadata": {},
   "outputs": [
    {
     "name": "stdout",
     "output_type": "stream",
     "text": [
      "Top Research Institutions by Output\n"
     ]
    }
   ],
   "source": [
    "# Display top 5 institutions\n",
    "print(\"Top Research Institutions by Output\")\n",
    "\n",
    "for i, inst in enumerate(top_institutions['results'][:5], 1):\n",
    "    print(f\"\\n{i}. {inst['display_name']}\")\n",
    "    print(f\"   Country: {inst.get('country_code', 'Unknown')}\")\n",
    "    print(f\"   Total Works: {inst['works_count']:,}\")"
   ]
  },
  {
   "cell_type": "markdown",
   "metadata": {},
   "source": [
    "<a id='6'></a>\n",
    "\n",
    "## Analyzing Topics\n",
    "Works in OpenAlex are tagged with [topics](https://docs.openalex.org/api-entities/topics). They are created using an automated system that takes into account the available information about the work, including title, abstract, source (journal) name, and citations. There are around [4,500 topics](https://api.openalex.org/topics). Works are assigned topics using a model that assigns scores for each topic for a work. "
   ]
  },
  {
   "cell_type": "markdown",
   "metadata": {},
   "source": [
    "For a given topic we can find out a bunch of things, like when it is first used."
   ]
  },
  {
   "cell_type": "code",
   "execution_count": null,
   "metadata": {},
   "outputs": [
    {
     "data": {
      "text/plain": [
       "1629"
      ]
     },
     "metadata": {},
     "output_type": "display_data"
    }
   ],
   "source": [
    "# Find the earliest publication year for a topic\n",
    "topic = \"artificial intelligence\"\n",
    "\n",
    "params = {\n",
    "    \"search\": topic,\n",
    "    \"sort\": \"publication_year:asc\",  # oldest first\n",
    "    \"per-page\": 5\n",
    "}\n",
    "\n",
    "result = make_openalex_request(\"works\", params=params)\n",
    "result[\"results\"][0][\"publication_year\"]"
   ]
  },
  {
   "cell_type": "code",
   "execution_count": null,
   "metadata": {},
   "outputs": [
    {
     "data": {
      "text/plain": [
       "{'id': 'https://openalex.org/W4237512264',\n",
       " 'doi': 'https://doi.org/10.5962/bhl.title.39320',\n",
       " 'title': 'The two bookes of Sr. Francis Bacon. Of the proficience and aduancement of learning, divine and hvmane',\n",
       " 'display_name': 'The two bookes of Sr. Francis Bacon. Of the proficience and aduancement of learning, divine and hvmane',\n",
       " 'publication_year': 1629,\n",
       " 'publication_date': '1629-01-01',\n",
       " 'ids': {'openalex': 'https://openalex.org/W4237512264',\n",
       "  'doi': 'https://doi.org/10.5962/bhl.title.39320'},\n",
       " 'language': 'en',\n",
       " 'primary_location': {'is_oa': False,\n",
       "  'landing_page_url': 'https://doi.org/10.5962/bhl.title.39320',\n",
       "  'pdf_url': None,\n",
       "  'source': None,\n",
       "  'license': None,\n",
       "  'license_id': None,\n",
       "  'version': None,\n",
       "  'is_accepted': False,\n",
       "  'is_published': False},\n",
       " 'type': 'book',\n",
       " 'type_crossref': 'monograph',\n",
       " 'indexed_in': ['crossref'],\n",
       " 'open_access': {'is_oa': True,\n",
       "  'oa_status': 'green',\n",
       "  'oa_url': 'https://www.biodiversitylibrary.org/itempdf/87216',\n",
       "  'any_repository_has_fulltext': True},\n",
       " 'authorships': [{'author_position': 'first',\n",
       "   'author': {'id': 'https://openalex.org/A5079914046',\n",
       "    'display_name': 'Francis Bacon',\n",
       "    'orcid': None},\n",
       "   'institutions': [],\n",
       "   'countries': [],\n",
       "   'is_corresponding': False,\n",
       "   'raw_author_name': 'Francis Bacon',\n",
       "   'raw_affiliation_strings': [],\n",
       "   'affiliations': []},\n",
       "  {'author_position': 'middle',\n",
       "   'author': {'id': 'https://openalex.org/A5079914046',\n",
       "    'display_name': 'Francis Bacon',\n",
       "    'orcid': None},\n",
       "   'institutions': [],\n",
       "   'countries': [],\n",
       "   'is_corresponding': False,\n",
       "   'raw_author_name': 'Francis Bacon',\n",
       "   'raw_affiliation_strings': [],\n",
       "   'affiliations': []},\n",
       "  {'author_position': 'middle',\n",
       "   'author': {'id': 'https://openalex.org/A5051423736',\n",
       "    'display_name': 'Edward Smith Stanley Derby',\n",
       "    'orcid': None},\n",
       "   'institutions': [],\n",
       "   'countries': [],\n",
       "   'is_corresponding': False,\n",
       "   'raw_author_name': 'Edward Smith Stanley Derby',\n",
       "   'raw_affiliation_strings': [],\n",
       "   'affiliations': []},\n",
       "  {'author_position': 'middle',\n",
       "   'author': {'id': 'https://openalex.org/A5051423736',\n",
       "    'display_name': 'Edward Smith Stanley Derby',\n",
       "    'orcid': None},\n",
       "   'institutions': [],\n",
       "   'countries': [],\n",
       "   'is_corresponding': False,\n",
       "   'raw_author_name': 'Edward Smith Stanley Derby',\n",
       "   'raw_affiliation_strings': [],\n",
       "   'affiliations': []},\n",
       "  {'author_position': 'middle',\n",
       "   'author': {'id': 'https://openalex.org/A5043923967',\n",
       "    'display_name': 'Proudfoot',\n",
       "    'orcid': None},\n",
       "   'institutions': [],\n",
       "   'countries': [],\n",
       "   'is_corresponding': False,\n",
       "   'raw_author_name': 'None Proudfoot',\n",
       "   'raw_affiliation_strings': [],\n",
       "   'affiliations': []},\n",
       "  {'author_position': 'last',\n",
       "   'author': {'id': 'https://openalex.org/A5051423736',\n",
       "    'display_name': 'Edward Smith Stanley Derby',\n",
       "    'orcid': None},\n",
       "   'institutions': [],\n",
       "   'countries': [],\n",
       "   'is_corresponding': False,\n",
       "   'raw_author_name': 'Edward Smith Stanley Derby',\n",
       "   'raw_affiliation_strings': [],\n",
       "   'affiliations': []}],\n",
       " 'institution_assertions': [],\n",
       " 'countries_distinct_count': 0,\n",
       " 'institutions_distinct_count': 0,\n",
       " 'corresponding_author_ids': [],\n",
       " 'corresponding_institution_ids': [],\n",
       " 'apc_list': None,\n",
       " 'apc_paid': None,\n",
       " 'fwci': 0.0,\n",
       " 'has_fulltext': True,\n",
       " 'fulltext_origin': 'pdf',\n",
       " 'cited_by_count': 1,\n",
       " 'citation_normalized_percentile': {'value': 0.670712,\n",
       "  'is_in_top_1_percent': False,\n",
       "  'is_in_top_10_percent': False},\n",
       " 'cited_by_percentile_year': {'min': 76, 'max': 84},\n",
       " 'biblio': {'volume': None,\n",
       "  'issue': None,\n",
       "  'first_page': None,\n",
       "  'last_page': None},\n",
       " 'is_retracted': False,\n",
       " 'is_paratext': False,\n",
       " 'primary_topic': {'id': 'https://openalex.org/T14109',\n",
       "  'display_name': 'Scottish History and National Identity',\n",
       "  'score': 0.2454,\n",
       "  'subfield': {'id': 'https://openalex.org/subfields/1202',\n",
       "   'display_name': 'History'},\n",
       "  'field': {'id': 'https://openalex.org/fields/12',\n",
       "   'display_name': 'Arts and Humanities'},\n",
       "  'domain': {'id': 'https://openalex.org/domains/2',\n",
       "   'display_name': 'Social Sciences'}},\n",
       " 'topics': [{'id': 'https://openalex.org/T14109',\n",
       "   'display_name': 'Scottish History and National Identity',\n",
       "   'score': 0.2454,\n",
       "   'subfield': {'id': 'https://openalex.org/subfields/1202',\n",
       "    'display_name': 'History'},\n",
       "   'field': {'id': 'https://openalex.org/fields/12',\n",
       "    'display_name': 'Arts and Humanities'},\n",
       "   'domain': {'id': 'https://openalex.org/domains/2',\n",
       "    'display_name': 'Social Sciences'}},\n",
       "  {'id': 'https://openalex.org/T12409',\n",
       "   'display_name': 'Reformation and Early Modern Christianity',\n",
       "   'score': 0.2405,\n",
       "   'subfield': {'id': 'https://openalex.org/subfields/1202',\n",
       "    'display_name': 'History'},\n",
       "   'field': {'id': 'https://openalex.org/fields/12',\n",
       "    'display_name': 'Arts and Humanities'},\n",
       "   'domain': {'id': 'https://openalex.org/domains/2',\n",
       "    'display_name': 'Social Sciences'}},\n",
       "  {'id': 'https://openalex.org/T13133',\n",
       "   'display_name': 'Architecture and Art History Studies',\n",
       "   'score': 0.2323,\n",
       "   'subfield': {'id': 'https://openalex.org/subfields/1213',\n",
       "    'display_name': 'Visual Arts and Performing Arts'},\n",
       "   'field': {'id': 'https://openalex.org/fields/12',\n",
       "    'display_name': 'Arts and Humanities'},\n",
       "   'domain': {'id': 'https://openalex.org/domains/2',\n",
       "    'display_name': 'Social Sciences'}}],\n",
       " 'keywords': [],\n",
       " 'concepts': [{'id': 'https://openalex.org/C27206212',\n",
       "   'wikidata': 'https://www.wikidata.org/wiki/Q34178',\n",
       "   'display_name': 'Theology',\n",
       "   'level': 1,\n",
       "   'score': 0.48802724},\n",
       "  {'id': 'https://openalex.org/C138885662',\n",
       "   'wikidata': 'https://www.wikidata.org/wiki/Q5891',\n",
       "   'display_name': 'Philosophy',\n",
       "   'level': 0,\n",
       "   'score': 0.48162216},\n",
       "  {'id': 'https://openalex.org/C15744967',\n",
       "   'wikidata': 'https://www.wikidata.org/wiki/Q9418',\n",
       "   'display_name': 'Psychology',\n",
       "   'level': 0,\n",
       "   'score': 0.32674015}],\n",
       " 'mesh': [],\n",
       " 'locations_count': 2,\n",
       " 'locations': [{'is_oa': False,\n",
       "   'landing_page_url': 'https://doi.org/10.5962/bhl.title.39320',\n",
       "   'pdf_url': None,\n",
       "   'source': None,\n",
       "   'license': None,\n",
       "   'license_id': None,\n",
       "   'version': None,\n",
       "   'is_accepted': False,\n",
       "   'is_published': False},\n",
       "  {'is_oa': True,\n",
       "   'landing_page_url': 'https://www.biodiversitylibrary.org/bibliography/39320',\n",
       "   'pdf_url': 'https://www.biodiversitylibrary.org/itempdf/87216',\n",
       "   'source': {'id': 'https://openalex.org/S4306402618',\n",
       "    'display_name': 'Biodiversity Heritage Library (Smithsonian Institution)',\n",
       "    'issn_l': None,\n",
       "    'issn': None,\n",
       "    'is_oa': True,\n",
       "    'is_in_doaj': False,\n",
       "    'is_indexed_in_scopus': False,\n",
       "    'is_core': False,\n",
       "    'host_organization': 'https://openalex.org/I103187081',\n",
       "    'host_organization_name': 'Smithsonian Institution',\n",
       "    'host_organization_lineage': ['https://openalex.org/I103187081'],\n",
       "    'host_organization_lineage_names': ['Smithsonian Institution'],\n",
       "    'type': 'repository'},\n",
       "   'license': None,\n",
       "   'license_id': None,\n",
       "   'version': 'submittedVersion',\n",
       "   'is_accepted': False,\n",
       "   'is_published': False}],\n",
       " 'best_oa_location': {'is_oa': True,\n",
       "  'landing_page_url': 'https://www.biodiversitylibrary.org/bibliography/39320',\n",
       "  'pdf_url': 'https://www.biodiversitylibrary.org/itempdf/87216',\n",
       "  'source': {'id': 'https://openalex.org/S4306402618',\n",
       "   'display_name': 'Biodiversity Heritage Library (Smithsonian Institution)',\n",
       "   'issn_l': None,\n",
       "   'issn': None,\n",
       "   'is_oa': True,\n",
       "   'is_in_doaj': False,\n",
       "   'is_indexed_in_scopus': False,\n",
       "   'is_core': False,\n",
       "   'host_organization': 'https://openalex.org/I103187081',\n",
       "   'host_organization_name': 'Smithsonian Institution',\n",
       "   'host_organization_lineage': ['https://openalex.org/I103187081'],\n",
       "   'host_organization_lineage_names': ['Smithsonian Institution'],\n",
       "   'type': 'repository'},\n",
       "  'license': None,\n",
       "  'license_id': None,\n",
       "  'version': 'submittedVersion',\n",
       "  'is_accepted': False,\n",
       "  'is_published': False},\n",
       " 'sustainable_development_goals': [{'id': 'https://metadata.un.org/sdg/4',\n",
       "   'score': 0.69,\n",
       "   'display_name': 'Quality education'}],\n",
       " 'grants': [],\n",
       " 'datasets': [],\n",
       " 'versions': [],\n",
       " 'referenced_works_count': 0,\n",
       " 'referenced_works': [],\n",
       " 'related_works': ['https://openalex.org/W2931662336',\n",
       "  'https://openalex.org/W2899084033',\n",
       "  'https://openalex.org/W2765597752',\n",
       "  'https://openalex.org/W2748952813',\n",
       "  'https://openalex.org/W2134894512',\n",
       "  'https://openalex.org/W2085372204',\n",
       "  'https://openalex.org/W2083375246',\n",
       "  'https://openalex.org/W2077865380',\n",
       "  'https://openalex.org/W2067108088',\n",
       "  'https://openalex.org/W2053487507'],\n",
       " 'abstract_inverted_index': {'Tea,': [0],\n",
       "  'ee': [1],\n",
       "  'te,': [2],\n",
       "  'Bittia': [3],\n",
       "  'by': [4],\n",
       "  'ei)': [5],\n",
       "  'Bed': [6],\n",
       "  'of': [7, 12, 16],\n",
       "  'Sir': [8],\n",
       "  'Francis': [9],\n",
       "  \"'Bacon\": [10],\n",
       "  ';': [11],\n",
       "  'the': [13],\n",
       "  'pro-Bcichtdor': [14],\n",
       "  'Aduanertnant': [15],\n",
       "  'lcar': [17],\n",
       "  'ning': [18],\n",
       "  ',': [19],\n",
       "  'Dinineand': [20],\n",
       "  'Humane': [21]},\n",
       " 'abstract_inverted_index_v3': None,\n",
       " 'cited_by_api_url': 'https://api.openalex.org/works?filter=cites:W4237512264',\n",
       " 'counts_by_year': [],\n",
       " 'updated_date': '2025-08-19T18:53:34.497634',\n",
       " 'created_date': '2022-05-12'}"
      ]
     },
     "metadata": {},
     "output_type": "display_data"
    }
   ],
   "source": [
    "# what is this entry?\n",
    "result[\"results\"][0]"
   ]
  },
  {
   "cell_type": "markdown",
   "metadata": {},
   "source": [
    "### Research Trends Over Time\n",
    "\n",
    "Let's use these topics to track how a research topic has grown over time:"
   ]
  },
  {
   "cell_type": "code",
   "execution_count": 35,
   "metadata": {},
   "outputs": [],
   "source": [
    "# Define the topic and years to analyze\n",
    "topic = \"artificial intelligence\"\n",
    "years = [2019, 2020, 2021, 2022, 2023, 2024]"
   ]
  },
  {
   "cell_type": "code",
   "execution_count": 36,
   "metadata": {},
   "outputs": [],
   "source": [
    "# Collect publication counts for each year\n",
    "counts = []\n",
    "\n",
    "for year in years:\n",
    "    params = {\n",
    "        'search': topic,\n",
    "        'filter': f'publication_year:{year}',\n",
    "        'per-page': 1\n",
    "    }\n",
    "    result = make_openalex_request('works', params=params)\n",
    "    \n",
    "    if result:\n",
    "        counts.append(result['meta']['count'])\n",
    "    else:\n",
    "        counts.append(0)\n",
    "    \n",
    "    # Be polite to the API\n",
    "    time.sleep(0.1)"
   ]
  },
  {
   "cell_type": "code",
   "execution_count": 37,
   "metadata": {},
   "outputs": [
    {
     "name": "stdout",
     "output_type": "stream",
     "text": [
      "Publications on 'artificial intelligence' by year:\n",
      "  2019: 63,721\n",
      "  2020: 69,260\n",
      "  2021: 94,159\n",
      "  2022: 110,886\n",
      "  2023: 173,505\n",
      "  2024: 156,084\n"
     ]
    }
   ],
   "source": [
    "# Display the counts\n",
    "print(f\"Publications on '{topic}' by year:\")\n",
    "for year, count in zip(years, counts):\n",
    "    print(f\"  {year}: {count:,}\")"
   ]
  },
  {
   "cell_type": "code",
   "execution_count": 38,
   "metadata": {},
   "outputs": [
    {
     "data": {
      "image/png": "[encoded data removed]",
      "text/plain": [
       "<Figure size 1000x600 with 1 Axes>"
      ]
     },
     "metadata": {},
     "output_type": "display_data"
    }
   ],
   "source": [
    "# Create a simple bar chart\n",
    "plt.figure(figsize=(10, 6))\n",
    "plt.bar(years, counts, color='steelblue', edgecolor='black')\n",
    "plt.title(f\"Research Trend: {topic.title()}\")\n",
    "plt.xlabel('Year')\n",
    "plt.ylabel('Number of Publications')\n",
    "plt.grid(axis='y', alpha=0.3)\n",
    "plt.show()"
   ]
  },
  {
   "cell_type": "markdown",
   "metadata": {},
   "source": [
    "### Comparing Multiple Topics\n",
    "\n",
    "Let's compare trends for different topics:"
   ]
  },
  {
   "cell_type": "code",
   "execution_count": 51,
   "metadata": {},
   "outputs": [],
   "source": [
    "# Define topics to compare\n",
    "topics_to_compare = [\n",
    "    \"machine learning\",\n",
    "    \"shakespeare\",\n",
    "    \"library science\"\n",
    "]"
   ]
  },
  {
   "cell_type": "code",
   "execution_count": 52,
   "metadata": {},
   "outputs": [],
   "source": [
    "# Years to analyze\n",
    "years = [2010, 2015, 2020, 2024]"
   ]
  },
  {
   "cell_type": "code",
   "execution_count": 53,
   "metadata": {},
   "outputs": [
    {
     "name": "stdout",
     "output_type": "stream",
     "text": [
      "Collected data for: machine learning\n",
      "Collected data for: shakespeare\n",
      "Collected data for: library science\n"
     ]
    }
   ],
   "source": [
    "# Collect data for all topics\n",
    "trends_data = {}\n",
    "\n",
    "for topic in topics_to_compare:\n",
    "    topic_counts = []\n",
    "    \n",
    "    for year in years:\n",
    "        params = {\n",
    "            'search': topic,\n",
    "            'filter': f'publication_year:{year}',\n",
    "            'per-page': 1\n",
    "        }\n",
    "        result = make_openalex_request('works', params=params)\n",
    "        \n",
    "        if result:\n",
    "            topic_counts.append(result['meta']['count'])\n",
    "        else:\n",
    "            topic_counts.append(0)\n",
    "        \n",
    "        time.sleep(0.1)  # Be polite\n",
    "    \n",
    "    trends_data[topic] = topic_counts\n",
    "    print(f\"Collected data for: {topic}\")"
   ]
  },
  {
   "cell_type": "code",
   "execution_count": 54,
   "metadata": {},
   "outputs": [
    {
     "data": {
      "image/png": "[encoded data removed]",
      "text/plain": [
       "<Figure size 1200x600 with 1 Axes>"
      ]
     },
     "metadata": {},
     "output_type": "display_data"
    }
   ],
   "source": [
    "# Plot the comparison\n",
    "plt.figure(figsize=(12, 6))\n",
    "\n",
    "for topic, counts in trends_data.items():\n",
    "    plt.plot(years, counts, marker='o', linewidth=2, label=topic.title())\n",
    "\n",
    "plt.xlabel('Year')\n",
    "plt.ylabel('Number of Publications')\n",
    "plt.title('Research Trends Comparison')\n",
    "plt.legend()\n",
    "plt.grid(True, alpha=0.3)\n",
    "plt.show()"
   ]
  },
  {
   "cell_type": "markdown",
   "metadata": {},
   "source": [
    "## 🥊 Challenge 2: Complete Analysis\n",
    "\n",
    "Pick a research topic and create a complete analysis:\n",
    "1. Find the total number of papers\n",
    "2. Find the top author in this field\n",
    "3. Plot the trend over the last 3 years"
   ]
  },
  {
   "cell_type": "code",
   "execution_count": null,
   "metadata": {},
   "outputs": [],
   "source": [
    "# YOUR CODE HERE\n",
    "# Start by defining your topic\n",
    "my_topic = \"your topic here\"\n",
    "\n"
   ]
  },
  {
   "cell_type": "markdown",
   "metadata": {},
   "source": [
    "### Creating a Research Summary Function\n",
    "\n",
    "Let's create a function that summarizes any research topic:"
   ]
  },
  {
   "cell_type": "code",
   "execution_count": null,
   "metadata": {},
   "outputs": [],
   "source": [
    "def research_summary(topic):\n",
    "    \"\"\"Create a summary of research on a topic.\"\"\"\n",
    "    \n",
    "    print(f\"\\n📊 RESEARCH SUMMARY: {topic.upper()}\")\n",
    "    \n",
    "    # Get total publications\n",
    "    params = {\n",
    "        'search': topic,\n",
    "        'per-page': 1\n",
    "    }\n",
    "    result = make_openalex_request('works', params=params)\n",
    "    \n",
    "    if result:\n",
    "        total = result['meta']['count']\n",
    "        print(f\"Total publications: {total:,}\")\n",
    "    \n",
    "    # Get recent publications\n",
    "    params['filter'] = 'from_publication_date:2023-01-01'\n",
    "    recent = make_openalex_request('works', params=params)\n",
    "    \n",
    "    if recent:\n",
    "        recent_count = recent['meta']['count']\n",
    "        print(f\"Publications since 2023: {recent_count:,}\")\n",
    "    \n",
    "    # Get top cited paper\n",
    "    params = {\n",
    "        'search': topic,\n",
    "        'sort': 'cited_by_count:desc',\n",
    "        'per-page': 1\n",
    "    }\n",
    "    top_paper = make_openalex_request('works', params=params)\n",
    "    \n",
    "    if top_paper and top_paper['results']:\n",
    "        paper = top_paper['results'][0]\n",
    "        print(f\"\\nMost cited paper:\")\n",
    "        print(f\"  Title: {paper['title'][:60]}...\")\n",
    "        print(f\"  Citations: {paper['cited_by_count']:,}\")"
   ]
  },
  {
   "cell_type": "code",
   "execution_count": null,
   "metadata": {},
   "outputs": [
    {
     "name": "stdout",
     "output_type": "stream",
     "text": [
      "\n",
      "📊 RESEARCH SUMMARY: QUANTUM COMPUTING\n",
      "Total publications: 766,977\n",
      "Publications since 2023: 72,134\n",
      "\n",
      "Most cited paper:\n",
      "  Title: Maximum Likelihood from Incomplete Data Via the <i>EM</i> Al...\n",
      "  Citations: 47,574\n"
     ]
    }
   ],
   "source": [
    "# Test the function\n",
    "research_summary(\"quantum computing\")"
   ]
  },
  {
   "cell_type": "code",
   "execution_count": null,
   "metadata": {},
   "outputs": [
    {
     "name": "stdout",
     "output_type": "stream",
     "text": [
      "\n",
      "📊 RESEARCH SUMMARY: DEEP LEARNING\n",
      "Total publications: 2,550,300\n",
      "Publications since 2023: 643,020\n",
      "\n",
      "Most cited paper:\n",
      "  Title: Deep Residual Learning for Image Recognition...\n",
      "  Citations: 193,757\n"
     ]
    }
   ],
   "source": [
    "# Try another topic\n",
    "research_summary(\"deep learning\")"
   ]
  },
  {
   "cell_type": "markdown",
   "metadata": {},
   "source": [
    "<a id='7'></a>\n",
    "\n",
    "## 7. Open Access Analysis\n",
    "\n",
    "So far we’ve looked at how OpenAlex gives us **metadata** (titles, authors, DOIs, etc.).  \n",
    "But OpenAlex also tells us where to find the **full text** of open-access papers.  \n",
    "\n",
    "The goal is to show how you can move from *metadata* → *full text* → *analysis* with only a few lines of code.\n",
    "\n",
    "Let's first analyze what percentage of papers are open access:"
   ]
  },
  {
   "cell_type": "code",
   "execution_count": 72,
   "metadata": {},
   "outputs": [
    {
     "name": "stdout",
     "output_type": "stream",
     "text": [
      "Analysis for 'data science' (2023–present):\n",
      "  Total papers: 964,370\n",
      "  Open Access papers: 877,511\n",
      "  Open Access percentage: 91.0%\n"
     ]
    }
   ],
   "source": [
    "topic = \"data science\"\n",
    "\n",
    "def count(filter_extra=\"\"):\n",
    "    params = {\n",
    "        \"search\": topic,\n",
    "        \"filter\": f\"from_publication_date:2023-01-01{filter_extra}\",\n",
    "        \"per-page\": 1\n",
    "    }\n",
    "    return requests.get(f\"{BASE}/works\", params=params).json()[\"meta\"][\"count\"]\n",
    "\n",
    "total = count()\n",
    "oa = count(\",is_oa:true\")\n",
    "pct = (oa / total) * 100 if total else 0\n",
    "\n",
    "print(f\"Analysis for '{topic}' (2023–present):\")\n",
    "print(f\"  Total papers: {total:,}\")\n",
    "print(f\"  Open Access papers: {oa:,}\")\n",
    "print(f\"  Open Access percentage: {pct:.1f}%\")"
   ]
  },
  {
   "cell_type": "markdown",
   "metadata": {},
   "source": [
    "Now, let's build a tiny pipeline to:\n",
    "\n",
    "1. **Search** OpenAlex for recent open-access works on a topic (e.g., *machine learning*)\n",
    "2. **Pick** a PDF link from the metadata\n",
    "3. **Download** the PDF and **extract plain text** from it\n",
    "4. **Repeat** this process for a few papers, to show how you could scale up\n",
    "\n",
    "Note that we're simplifying things here. The code only looks for PDFs (not HTML), stops after a few papers, and our text extraction is lightweight (no formatting, just collapsed whitespace)."
   ]
  },
  {
   "cell_type": "code",
   "execution_count": 68,
   "metadata": {},
   "outputs": [],
   "source": [
    "def search_oa_works(topic, from_date=\"2023-01-01\", per_page=50):\n",
    "    \"\"\"\n",
    "    Query OpenAlex for works on a given topic.\n",
    "    - topic: search string (e.g. \"machine learning\")\n",
    "    - from_date: only get works published after this date\n",
    "    - per_page: number of results to fetch (max 200)\n",
    "    \"\"\"\n",
    "    url = f\"{BASE}/works\"\n",
    "    params = {\n",
    "        \"search\": topic,\n",
    "        \"filter\": f\"from_publication_date:{from_date},is_oa:true\",  # only open access\n",
    "        \"per_page\": per_page,\n",
    "    }\n",
    "    r = requests.get(url, params=params, timeout=30)\n",
    "    r.raise_for_status()\n",
    "    return r.json()[\"results\"]\n",
    "\n",
    "def pick_pdf_url(work):\n",
    "    \"\"\"\n",
    "    Try to find a direct PDF link in the work metadata.\n",
    "    Checks best_oa_location first, then the generic open_access field.\n",
    "    Returns None if no PDF-looking URL is found.\n",
    "    \"\"\"\n",
    "    bol = work.get(\"best_oa_location\") or {}\n",
    "    candidates = [bol.get(\"url_for_pdf\"), bol.get(\"url\")]\n",
    "    oa = (work.get(\"open_access\") or {}).get(\"oa_url\")\n",
    "    if oa: \n",
    "        candidates.append(oa)\n",
    "    for u in candidates:\n",
    "        if u and u.lower().split(\"?\", 1)[0].endswith(\".pdf\"):\n",
    "            return u\n",
    "    return None\n",
    "\n",
    "def pdf_to_text(url):\n",
    "    \"\"\"\n",
    "    Download a PDF from the given URL and extract its text.\n",
    "    Uses PyMuPDF (fitz) for reliable PDF parsing.\n",
    "    Then collapses extra whitespace into single spaces.\n",
    "    \"\"\"\n",
    "    r = requests.get(url, headers={\"User-Agent\": \"OpenAlex-demo\"}, timeout=60)\n",
    "    r.raise_for_status()\n",
    "    with io.BytesIO(r.content) as buf, fitz.open(stream=buf, filetype=\"pdf\") as doc:\n",
    "        raw = \"\\n\".join(p.get_text() for p in doc)\n",
    "    return \" \".join(raw.split())\n",
    "\n",
    "def harvest_texts(topic, k=5, from_date=\"2023-01-01\", per_page=100):\n",
    "    \"\"\"\n",
    "    Collect up to k open-access PDFs for a given topic and return their text.\n",
    "    - topic: what to search for in OpenAlex\n",
    "    - k: how many papers you want\n",
    "    - from_date: publication cutoff\n",
    "    - per_page: how many results to request per API call\n",
    "    \"\"\"\n",
    "    out = []\n",
    "    for w in search_oa_works(topic, from_date=from_date, per_page=per_page):\n",
    "        if len(out) >= k:  # stop once we have enough\n",
    "            break\n",
    "        pdf = pick_pdf_url(w)\n",
    "        if not pdf:\n",
    "            continue\n",
    "        try:\n",
    "            text = pdf_to_text(pdf)\n",
    "            if not text:\n",
    "                continue\n",
    "            out.append({\n",
    "                \"title\": w.get(\"title\"),\n",
    "                \"pdf_url\": pdf,\n",
    "                \"text\": text,\n",
    "            })\n",
    "        except Exception:\n",
    "            # keep it simple: skip any failures and move on\n",
    "            continue\n",
    "    return out"
   ]
  },
  {
   "cell_type": "code",
   "execution_count": 69,
   "metadata": {},
   "outputs": [
    {
     "name": "stdout",
     "output_type": "stream",
     "text": [
      "1. Small data machine learning in materials science\n",
      "https://www.nature.com/articles/s41524-023-01000-z.pdf\n",
      "REVIEW ARTICLE OPEN Small data machine learning in materials science Pengcheng Xu1, Xiaobo Ji2, Minjie Li 2✉and Wencong Lu 1,2,3✉ This review discussed the dilemma of small data faced by materials machine learning. First, we analyzed the limitations brought by small data. Then, the workﬂow of materials machine learning has been introduced. Next, the methods of dealing with small data were introduced, including data extraction from publications, materials database construction, high-throughput co \n",
      "\n",
      "2. Evaluation metrics and statistical tests for machine learning\n",
      "https://www.nature.com/articles/s41598-024-56706-x.pdf\n",
      "1 Vol.:(0123456789) Scientific Reports | (2024) 14:6086 | https://doi.org/10.1038/s41598-024-56706-x www.nature.com/scientificreports Evaluation metrics and statistical tests for machine learning Oona Rainio *, Jarmo Teuho & Riku Klén Research on different machine learning (ML) has become incredibly popular during the past few decades. However, for some researchers not familiar with statistics, it might be difficult to understand how to evaluate the performance of ML models and compare them with \n",
      "\n",
      "3. TRIPOD+AI statement: updated guidance for reporting clinical prediction models that use regression or machine learning methods\n",
      "https://www.bmj.com/content/bmj/385/bmj-2023-078378.full.pdf\n",
      "RESEARCH METHODS AND REPORTING RESEARCH METHODS AND REPORTING For numbered affiliations see end of the article Correspondence to: G S Collins gary.collins@csm.ox.ac.uk (or @GSCollins on Twitter; ORCID 0000-0002-2772-2316) Additional material is published online only. To view please visit the journal online. Cite this as: BMJ 2024;385:e078378 http://dx.doi.org/10.1136/ bmj‑2023‑078378 Accepted: 17 January 2024 TRIPOD+AI statement: updated guidance for reporting clinical prediction models that use \n",
      "\n"
     ]
    }
   ],
   "source": [
    "# Grab 3 recent machine learning papers and preview their text\n",
    "results = harvest_texts(topic=\"machine learning\", k=3, from_date=\"2023-01-01\")\n",
    "for i, r in enumerate(results, 1):\n",
    "    print(f\"{i}. {r['title']}\")\n",
    "    print(r[\"pdf_url\"])\n",
    "    print(r[\"text\"][:500], \"\\n\")  # preview first 500 characters"
   ]
  },
  {
   "cell_type": "markdown",
   "metadata": {},
   "source": [
    "## Key Takeaways\n",
    "\n",
    "### What we learned:\n",
    "\n",
    "1. **OpenAlex basics**\n",
    "   - Free API with no key required\n",
    "   - Access to 240+ million scholarly works\n",
    "\n",
    "2. **Core entities**\n",
    "   - Works (publications)\n",
    "   - Authors\n",
    "   - Institutions\n",
    "   - Topics\n",
    "\n",
    "3. **Key API parameters**\n",
    "   - `search`: Find content by keywords\n",
    "   - `filter`: Apply specific criteria\n",
    "   - `sort`: Order results\n",
    "   - `per-page`: Control result size\n",
    "\n",
    "4. **Analysis possibilities**\n",
    "   - Track research trends\n",
    "   - Analyze citation impact\n",
    "   - Study collaboration networks\n",
    "   - Monitor open access adoption\n",
    "   - Download and read open access papers\n",
    "\n",
    "### Next steps:\n",
    "- Explore other API entities ([keywords](https://docs.openalex.org/api-entities/keywords), [publishers](https://docs.openalex.org/api-entities/publishers), [funders](https://docs.openalex.org/api-entities/funders), [concepts](https://docs.openalex.org/api-entities/concepts))\n",
    "- Build collaboration networks\n",
    "- Create citation analysis tools\n",
    "- Track emerging research areas"
   ]
  },
  {
   "cell_type": "markdown",
   "metadata": {},
   "source": [
    "## 💡 Tips for Using OpenAlex\n",
    "\n",
    "1. **Be polite**: Include your email and add delays between requests\n",
    "2. **Use filters**: They make your searches much more efficient\n",
    "3. **Start small**: Test with small result sets before scaling up\n",
    "4. **Check the docs**: https://docs.openalex.org for all available options\n",
    "5. **Rate limits**: 100,000 requests/day, max 10/second"
   ]
  }
 ],
 "metadata": {
  "kernelspec": {
   "display_name": "dlab2",
   "language": "python",
   "name": "python3"
  },
  "language_info": {
   "codemirror_mode": {
    "name": "ipython",
    "version": 3
   },
   "file_extension": ".py",
   "mimetype": "text/x-python",
   "name": "python",
   "nbconvert_exporter": "python",
   "pygments_lexer": "ipython3",
   "version": "3.10.18"
  }
 },
 "nbformat": 4,
 "nbformat_minor": 4
}
