{
  "cells": [
    {
      "cell_type": "markdown",
      "metadata": {
        "id": "GrDxQaxR7VxP"
      },
      "source": [
        "# Working with Modern LLMs in Google Colab\n",
        "\n",
        "* * *\n",
        "\n",
        "<div class=\"alert alert-success\">  \n",
        "    \n",
        "### Learning Objectives\n",
        "    \n",
        "* Set up Google Colab with GPU acceleration for modern language models\n",
        "* Work with Qwen 2.5, an open-source LLM series from late 2024\n",
        "* Understand model selection based on Colab's GPU tiers\n",
        "* Understand tokenization, probability distributions, and temperature effects\n",
        "* Implement controlled text generation\n",
        "\n",
        "</div>\n",
        "\n",
        "### Model Options for Colab (2024-2025)\n",
        "\n",
        "| Model | Parameters | GPU Required | Release\n",
        "|-------|------------|--------------|---------|\n",
        "| Llama-3.2 | 3B | T4 | Sept 2024\n",
        "| Phi-3.5-mini | 3.8B | T4 | 2024\n",
        "| Qwen2.5-7B | 7B | T4 (Free) | Sept 2024\n",
        "| Mistral-Nemo | 12B | L4 | July 2024 |\n",
        "| Qwen2.5-14B | 14B | L4 | Sept 2024\n",
        "| Mistral Small 3 | 24B | A100 | Jan 2025\n",
        "\n",
        "### Icons Used in This Notebook\n",
        "🔎 **Question**: A quick question to help you understand what's going on.<br>\n",
        "🥊 **Challenge**: Interactive exercise. We'll work through these in the workshop!<br>\n",
        "💡 **Tip**: How to do something a bit more efficiently or effectively.<br>\n",
        "⚠️ **Warning:** Heads-up about tricky stuff or common mistakes.<br>\n",
        "🎬 **Demo**: Showing off something more advanced!<br>\n",
        "\n",
        "### Sections\n",
        "1. [Colab GPU Setup](#setup)\n",
        "2. [Installing Requirements and Loading Models](#install)\n",
        "3. [Basic Text Generation](#generation)\n",
        "4. [Understanding Tokenization](#tokenization)\n",
        "5. [Probability Distributions and Temperature](#probability)\n",
        "6. [Controlled Generation for Social Science](#controlled)\n",
        "7. [Practical Considerations](#practical)"
      ]
    },
    {
      "cell_type": "markdown",
      "metadata": {
        "id": "lEjzWcHL7VxR"
      },
      "source": [
        "<a id='setup'></a>\n",
        "\n",
        "# Google Colab GPU Setup\n",
        "\n",
        "**Colab GPU Tiers and Compatible Models:**\n",
        "\n",
        "- **T4 GPU (Free Tier - 16GB)**: Qwen2.5-7B, Llama-3.2-3B, Phi-3.5-mini\n",
        "- **L4 GPU (Colab Pro - 24GB)**: Qwen2.5-14B, Mistral-Nemo-12B\n",
        "- **A100 GPU (Colab Pro+ - 40GB)**: Qwen2.5-32B, Mistral Small 3\n",
        "\n",
        "This notebook automatically detects your GPU and recommends the best model!"
      ]
    },
    {
      "cell_type": "markdown",
      "metadata": {
        "id": "5Jzc0fsj7VxR"
      },
      "source": [
        "## 🎬 Demo: Enable and Auto-Detect GPU\n",
        "\n",
        "**Step 1: Enable GPU Runtime**\n",
        "1. Go to `Runtime` → `Change runtime type`\n",
        "2. Set `Hardware accelerator` to `T4 GPU` (or L4/A100 if you have Pro/Pro+)\n",
        "3. Click `Save` (this will restart your runtime)\n",
        "\n",
        "**Step 2: Auto-Detect GPU and Choose Model**"
      ]
    },
    {
      "cell_type": "code",
      "execution_count": 42,
      "metadata": {
        "colab": {
          "base_uri": "https://localhost:8080/"
        },
        "id": "inh8YIMS7VxS",
        "outputId": "1e26e7cc-d6d1-45d1-f559-e96f98014e18"
      },
      "outputs": [
        {
          "output_type": "stream",
          "name": "stdout",
          "text": [
            "GPU Detected: NVIDIA A100-SXM4-40GB\n",
            "   Memory: 42.5 GB\n",
            "   Tier: Colab Pro+ (A100)\n",
            "\n",
            "Recommended: Qwen/Qwen2.5-32B-Instruct\n",
            "Alternatives: mistralai/Mistral-Small-3-24B, Qwen/Qwen2.5-14B-Instruct\n",
            "\n",
            "==================================================\n",
            "You can override this by changing MODEL_NAME below\n"
          ]
        }
      ],
      "source": [
        "# Auto-detect GPU and recommend best model for Colab\n",
        "import torch\n",
        "import os\n",
        "\n",
        "def detect_gpu_and_recommend_model():\n",
        "    \"\"\"Detect available GPU in Colab and recommend the best model\"\"\"\n",
        "\n",
        "    if not torch.cuda.is_available():\n",
        "        print(\"No GPU detected!\")\n",
        "        print(\"Please enable GPU: Runtime → Change runtime type → GPU\")\n",
        "        print(\"\\nFor now, recommending smallest model for CPU (will be slow):\")\n",
        "        return \"Qwen/Qwen2.5-0.5B\"\n",
        "\n",
        "    gpu_name = torch.cuda.get_device_name(0)\n",
        "    gpu_memory = torch.cuda.get_device_properties(0).total_memory / 1e9\n",
        "\n",
        "    print(f\"GPU Detected: {gpu_name}\")\n",
        "    print(f\"   Memory: {gpu_memory:.1f} GB\")\n",
        "\n",
        "    # Recommend model based on GPU type\n",
        "    if \"A100\" in gpu_name or gpu_memory > 35:\n",
        "        print(\"   Tier: Colab Pro+ (A100)\")\n",
        "        recommended = \"Qwen/Qwen2.5-32B-Instruct\"\n",
        "        alternatives = [\"mistralai/Mistral-Small-3-24B\", \"Qwen/Qwen2.5-14B-Instruct\"]\n",
        "    elif \"L4\" in gpu_name or gpu_memory > 20:\n",
        "        print(\"   Tier: Colab Pro (L4)\")\n",
        "        recommended = \"Qwen/Qwen2.5-14B-Instruct\"\n",
        "        alternatives = [\"mistralai/Mistral-Nemo-Instruct-2407\", \"Qwen/Qwen2.5-7B-Instruct\"]\n",
        "    else:  # T4 or similar\n",
        "        print(\"   Tier: Free Colab (T4)\")\n",
        "        recommended = \"Qwen/Qwen2.5-7B-Instruct\"\n",
        "        alternatives = [\"meta-llama/Llama-3.2-3B-Instruct\", \"microsoft/Phi-3.5-mini-instruct\"]\n",
        "\n",
        "    print(f\"\\nRecommended: {recommended}\")\n",
        "    print(f\"Alternatives: {', '.join(alternatives)}\")\n",
        "\n",
        "    return recommended\n",
        "\n",
        "# Detect and get recommendation\n",
        "RECOMMENDED_MODEL = detect_gpu_and_recommend_model()\n",
        "\n",
        "print(\"\\n\" + \"=\"*50)\n",
        "print(\"You can override this by changing MODEL_NAME below\")"
      ]
    },
    {
      "cell_type": "markdown",
      "metadata": {
        "id": "lCwup1ZX7VxS"
      },
      "source": [
        "**Step 3: Check Colab Resources**"
      ]
    },
    {
      "cell_type": "code",
      "execution_count": 43,
      "metadata": {
        "colab": {
          "base_uri": "https://localhost:8080/"
        },
        "id": "ts8W2o0F7VxS",
        "outputId": "9b0bdefa-5012-4e89-b7e4-0ac64b272023"
      },
      "outputs": [
        {
          "output_type": "stream",
          "name": "stdout",
          "text": [
            "NVIDIA A100-SXM4-40GB, 40960 MiB, 32714 MiB\n",
            "               total        used        free      shared  buff/cache   available\n",
            "Mem:            83Gi       5.9Gi        42Gi        76Mi        35Gi        76Gi\n",
            "Swap:             0B          0B          0B\n",
            "Filesystem      Size  Used Avail Use% Mounted on\n",
            "overlay         236G   51G  186G  22% /\n"
          ]
        }
      ],
      "source": [
        "# Check Colab system resources\n",
        "!nvidia-smi --query-gpu=name,memory.total,memory.free --format=csv,noheader\n",
        "\n",
        "# Check RAM\n",
        "!free -h\n",
        "\n",
        "# Check disk space\n",
        "!df -h /content"
      ]
    },
    {
      "cell_type": "markdown",
      "metadata": {
        "id": "XTPMI4Nr7VxT"
      },
      "source": [
        "<a id='install'></a>\n",
        "\n",
        "# Installing Requirements and Loading Models\n",
        "\n",
        "💡 **Tip**: We'll use Unsloth for 2-5x faster loading and inference"
      ]
    },
    {
      "cell_type": "markdown",
      "metadata": {
        "id": "YDtTKtg97VxT"
      },
      "source": [
        "## Install Colab-Optimized Packages"
      ]
    },
    {
      "cell_type": "code",
      "execution_count": 44,
      "metadata": {
        "colab": {
          "base_uri": "https://localhost:8080/"
        },
        "id": "SA97rYN77VxT",
        "outputId": "6a8521f2-3110-48e7-a394-53344379ae59"
      },
      "outputs": [
        {
          "output_type": "stream",
          "name": "stdout",
          "text": [
            "Installing Unsloth for 2-5x faster inference...\n",
            "  Installing build dependencies ... \u001b[?25l\u001b[?25hdone\n",
            "  Getting requirements to build wheel ... \u001b[?25l\u001b[?25hdone\n",
            "  Preparing metadata (pyproject.toml) ... \u001b[?25l\u001b[?25hdone\n",
            "Packages installed successfully!\n",
            "Unsloth enabled for optimized inference\n",
            "\n",
            " Package versions:\n",
            "   Transformers: 4.55.0\n",
            "   PyTorch: 2.6.0+cu124\n",
            "   CUDA: 12.4\n"
          ]
        }
      ],
      "source": [
        "# Install Unsloth and dependencies optimized for Colab\n",
        "print(\"Installing Unsloth for 2-5x faster inference...\")\n",
        "\n",
        "!pip install -q \"unsloth[colab-new] @ git+https://github.com/unslothai/unsloth.git@main\"\n",
        "!pip install -q --upgrade --no-deps xformers trl peft accelerate bitsandbytes\n",
        "\n",
        "# Additional packages\n",
        "!pip install -q transformers datasets\n",
        "!pip install -q matplotlib seaborn pandas numpy\n",
        "\n",
        "print(\"Packages installed successfully!\")\n",
        "print(\"Unsloth enabled for optimized inference\")\n",
        "\n",
        "# Verify installation\n",
        "import transformers\n",
        "import torch\n",
        "from unsloth import FastLanguageModel\n",
        "\n",
        "print(f\"\\n Package versions:\")\n",
        "print(f\"   Transformers: {transformers.__version__}\")\n",
        "print(f\"   PyTorch: {torch.__version__}\")\n",
        "print(f\"   CUDA: {torch.version.cuda}\")"
      ]
    },
    {
      "cell_type": "markdown",
      "metadata": {
        "id": "2jr9hZ9G7VxT"
      },
      "source": [
        "## Load Your Chosen Model\n",
        "\n",
        "**Select a model based on your Colab GPU tier:**"
      ]
    },
    {
      "cell_type": "code",
      "execution_count": 45,
      "metadata": {
        "colab": {
          "base_uri": "https://localhost:8080/",
          "height": 281,
          "referenced_widgets": [
            "07b4706679444df88237ca8448dcdbf1",
            "6952924b6fc74c8ba874e98829f64949",
            "e484f59c257f4bb195d3fd7820e226f9",
            "92a5e07f32c045bca4de4f48266a9662",
            "a14b771de3054d21ad28e459c4fc662c",
            "a8e714c57cfc48458c3d5780516925d1",
            "2718ae1c883e401ca65a7d77c0919349",
            "59141c37c81e457fb8d8189e1cf0ba6e",
            "3e0ad9f24f1e481c8b86c93f825784d5",
            "63436663e5784c4fb596deb0e2cff7ea",
            "4d888dced7034df8a67d9140a728a848"
          ]
        },
        "id": "qnhPTK5T7VxT",
        "outputId": "4845d405-11f0-4bea-af13-8af9cd09f53f"
      },
      "outputs": [
        {
          "output_type": "stream",
          "name": "stdout",
          "text": [
            "Loading model: Qwen/Qwen2.5-7B-Instruct\n",
            "==((====))==  Unsloth 2025.8.5: Fast Qwen2 patching. Transformers: 4.55.0.\n",
            "   \\\\   /|    NVIDIA A100-SXM4-40GB. Num GPUs = 1. Max memory: 39.557 GB. Platform: Linux.\n",
            "O^O/ \\_/ \\    Torch: 2.6.0+cu124. CUDA: 8.0. CUDA Toolkit: 12.4. Triton: 3.2.0\n",
            "\\        /    Bfloat16 = TRUE. FA [Xformers = None. FA2 = False]\n",
            " \"-____-\"     Free license: http://github.com/unslothai/unsloth\n",
            "Unsloth: Fast downloading is enabled - ignore downloading bars which are red colored!\n"
          ]
        },
        {
          "output_type": "display_data",
          "data": {
            "text/plain": [
              "Loading checkpoint shards:   0%|          | 0/2 [00:00<?, ?it/s]"
            ],
            "application/vnd.jupyter.widget-view+json": {
              "version_major": 2,
              "version_minor": 0,
              "model_id": "07b4706679444df88237ca8448dcdbf1"
            }
          },
          "metadata": {}
        },
        {
          "output_type": "stream",
          "name": "stdout",
          "text": [
            "\n",
            "✅ Model loaded successfully!\n",
            "   Model: Qwen/Qwen2.5-7B-Instruct\n",
            "   Size: ~4.9B parameters\n",
            "   Device: cuda:0\n",
            "   Optimizations: Unsloth + 4-bit quantization\n"
          ]
        }
      ],
      "source": [
        "from unsloth import FastLanguageModel\n",
        "import torch\n",
        "\n",
        "# CHANGE THIS to use a different model\n",
        "# MODEL_NAME = RECOMMENDED_MODEL  # Use auto-detected recommendation\n",
        "MODEL_NAME = \"Qwen/Qwen2.5-7B-Instruct\"  # Best for free T4 GPU\n",
        "\n",
        "print(f\"Loading model: {MODEL_NAME}\")\n",
        "\n",
        "# Configuration\n",
        "max_seq_length = 2048  # Can increase to 8192 for longer contexts\n",
        "dtype = None  # Auto-detect best dtype for your GPU\n",
        "load_in_4bit = True  # Use 4-bit quantization to save VRAM\n",
        "\n",
        "try:\n",
        "    # Load model with Unsloth (optimized for Colab)\n",
        "    model, tokenizer = FastLanguageModel.from_pretrained(\n",
        "        model_name=MODEL_NAME,\n",
        "        max_seq_length=max_seq_length,\n",
        "        dtype=dtype,\n",
        "        load_in_4bit=load_in_4bit,\n",
        "        # token=\"hf_...\",  # Add your HuggingFace token if using gated models\n",
        "    )\n",
        "\n",
        "    # Enable fast inference mode\n",
        "    FastLanguageModel.for_inference(model)\n",
        "\n",
        "    print(f\"\\n✅ Model loaded successfully!\")\n",
        "    print(f\"   Model: {MODEL_NAME}\")\n",
        "    print(f\"   Size: ~{sum(p.numel() for p in model.parameters())/1e9:.1f}B parameters\")\n",
        "    print(f\"   Device: {next(model.parameters()).device}\")\n",
        "    print(f\"   Optimizations: Unsloth + 4-bit quantization\")\n",
        "\n",
        "except torch.cuda.OutOfMemoryError:\n",
        "    print(f\"Out of memory! {MODEL_NAME} is too large for your GPU.\")\n",
        "    print(\"\\nTrying smaller model...\")\n",
        "\n",
        "    # Fallback to smaller model\n",
        "    MODEL_NAME = \"meta-llama/Llama-3.2-3B-Instruct\"\n",
        "    model, tokenizer = FastLanguageModel.from_pretrained(\n",
        "        model_name=MODEL_NAME,\n",
        "        max_seq_length=max_seq_length,\n",
        "        dtype=dtype,\n",
        "        load_in_4bit=load_in_4bit,\n",
        "    )\n",
        "    FastLanguageModel.for_inference(model)\n",
        "    print(f\"✅ Loaded smaller model: {MODEL_NAME}\")\n",
        "\n",
        "except Exception as e:\n",
        "    print(f\"Error: {e}\")\n",
        "    print(\"Please check your GPU is enabled and try again.\")"
      ]
    },
    {
      "cell_type": "markdown",
      "metadata": {
        "id": "6lVDohJ_7VxT"
      },
      "source": [
        "⚠️ **Troubleshooting:**\n",
        "- **No GPU**: Runtime → Change runtime type → T4 GPU\n",
        "- **Out of memory**: Try a smaller model (3B instead of 7B)\n",
        "- **Model not found**: Check spelling or use one of the listed alternatives"
      ]
    },
    {
      "cell_type": "markdown",
      "metadata": {
        "id": "79aO0u7l7VxU"
      },
      "source": [
        "<a id='generation'></a>\n",
        "\n",
        "# Basic Text Generation\n",
        "\n",
        "Let's test our model."
      ]
    },
    {
      "cell_type": "markdown",
      "metadata": {
        "id": "GtNqRqYH7VxU"
      },
      "source": [
        "## Text Generation Function"
      ]
    },
    {
      "cell_type": "code",
      "execution_count": 46,
      "metadata": {
        "id": "UFuN8wMK7VxU"
      },
      "outputs": [],
      "source": [
        "def generate_text(prompt, max_new_tokens=100, temperature=0.7, num_return_sequences=1):\n",
        "    \"\"\"\n",
        "    Generate text using the loaded model\n",
        "\n",
        "    Args:\n",
        "        prompt: Input text to continue\n",
        "        max_new_tokens: Maximum number of new tokens to generate\n",
        "        temperature: Controls randomness (0.0 = deterministic, 1.0+ = creative)\n",
        "        num_return_sequences: Number of different completions to generate\n",
        "    \"\"\"\n",
        "    # Format prompt for instruction-tuned models\n",
        "    if \"instruct\" in MODEL_NAME.lower() or \"chat\" in MODEL_NAME.lower():\n",
        "        messages = [{\"role\": \"user\", \"content\": prompt}]\n",
        "        if hasattr(tokenizer, 'apply_chat_template'):\n",
        "            formatted_prompt = tokenizer.apply_chat_template(\n",
        "                messages,\n",
        "                tokenize=False,\n",
        "                add_generation_prompt=True\n",
        "            )\n",
        "        else:\n",
        "            # Fallback formatting\n",
        "            formatted_prompt = f\"User: {prompt}\\nAssistant:\"\n",
        "    else:\n",
        "        formatted_prompt = prompt\n",
        "\n",
        "    # Tokenize input\n",
        "    inputs = tokenizer(\n",
        "        formatted_prompt,\n",
        "        return_tensors=\"pt\",\n",
        "        padding=True,\n",
        "        truncation=True,\n",
        "        max_length=max_seq_length\n",
        "    )\n",
        "\n",
        "    # Move to GPU\n",
        "    inputs = {k: v.cuda() for k, v in inputs.items()}\n",
        "\n",
        "    # Generate with optimized settings\n",
        "    with torch.no_grad():\n",
        "        outputs = model.generate(\n",
        "            **inputs,\n",
        "            max_new_tokens=max_new_tokens,\n",
        "            temperature=temperature,\n",
        "            num_return_sequences=num_return_sequences,\n",
        "            do_sample=True,\n",
        "            top_p=0.95,\n",
        "            pad_token_id=tokenizer.pad_token_id or tokenizer.eos_token_id,\n",
        "            use_cache=True,  # Speed up generation\n",
        "        )\n",
        "\n",
        "    # Decode outputs\n",
        "    generated_texts = []\n",
        "    for output in outputs:\n",
        "        text = tokenizer.decode(output, skip_special_tokens=True)\n",
        "        # Remove the original prompt from the output\n",
        "        if text.startswith(formatted_prompt):\n",
        "            text = text[len(formatted_prompt):]\n",
        "        elif prompt in text:\n",
        "            text = text.split(prompt)[-1]\n",
        "        # Clean up formatting artifacts\n",
        "        text = text.replace(\"User:\", \"\").replace(\"Assistant:\", \"\").strip()\n",
        "        generated_texts.append(text)\n",
        "\n",
        "    return generated_texts"
      ]
    },
    {
      "cell_type": "markdown",
      "metadata": {
        "id": "P7WRdCsF7VxU"
      },
      "source": [
        "## Test Model Capabilities"
      ]
    },
    {
      "cell_type": "code",
      "execution_count": 47,
      "metadata": {
        "colab": {
          "base_uri": "https://localhost:8080/"
        },
        "id": "x2g1yp947VxU",
        "outputId": "aa6557f1-57d9-466e-e298-e388cf1eda40"
      },
      "outputs": [
        {
          "output_type": "stream",
          "name": "stdout",
          "text": [
            "Model: Qwen/Qwen2.5-7B-Instruct\n",
            "Prompt: 'The impact of social media on political polarization'\n",
            "\n",
            "Generating 3 different completions...\n",
            "\n",
            "Completion 1:\n",
            "'assistant\n",
            "Social media has had a significant impact on political polarization in several ways. Here are some of the key effects:\n",
            "\n",
            "1. **Echo Chambers and Filter Bubbles**:\n",
            "   - Social media algorithms tend to show content that aligns with users' existing views, creating echo chambers where individuals are exposed only to information that reinforces their beliefs.\n",
            "   - This can lead to filter bubbles, where people are isolated within communities that confirm their preexisting opinions, reducing exposure to opposing viewpoints.\n",
            "\n",
            "2. **Misinformation and Fake News**:\n",
            "   - Social media platforms have been used to spread misinformation and false information about political figures and policies.\n",
            "   - This can contribute to a polarized environment where different sides believe in contradictory facts, leading to greater distrust between groups and increasing'\n",
            "\n",
            "--------------------------------------------------------------------------------\n",
            "Completion 2:\n",
            "'assistant\n",
            "Social media has had a significant impact on political polarization in various ways:\n",
            "\n",
            "1. **Echo Chambers and Filter Bubbles**: Social media algorithms tend to show content that aligns with users' existing beliefs, creating echo chambers where people are only exposed to like-minded views. This can reinforce their existing beliefs and lead to further polarization.\n",
            "\n",
            "2. **Misinformation and Disinformation**: Social media platforms have been used to spread misinformation and disinformation, which can distort public opinion and deepen divisions among different political groups.\n",
            "\n",
            "3. **Polarizing Content**: The structure of social media often rewards dramatic or extreme content, which can be more engaging and shareable than moderate or nuanced views. This can contribute to a more polarized discourse.\n",
            "\n",
            "4. **Partisan Media'\n",
            "\n",
            "--------------------------------------------------------------------------------\n",
            "Completion 3:\n",
            "'assistant\n",
            "Social media has had a significant impact on political polarization, and this impact can be both direct and indirect. Here are some key ways in which social media influences political polarization:\n",
            "\n",
            "### 1. **Echo Chambers and Filter Bubbles**\n",
            "   - **Personalization Algorithms:** Social media platforms use algorithms to curate content based on user preferences and past interactions. This can create echo chambers where users are predominantly exposed to viewpoints that align with their existing beliefs.\n",
            "   - **Confirmation Bias:** Individuals are more likely to engage with and share content that confirms their pre-existing views, reinforcing their existing beliefs and polarizing them further.\n",
            "\n",
            "### 2. **Rapid Spread of Misinformation**\n",
            "   - **Disinformation Campaigns:** Social media can serve as a platform for'\n",
            "\n",
            "--------------------------------------------------------------------------------\n"
          ]
        }
      ],
      "source": [
        "# Test with social science prompt\n",
        "prompt = \"The impact of social media on political polarization\"\n",
        "\n",
        "print(f\"Model: {MODEL_NAME}\")\n",
        "print(f\"Prompt: '{prompt}'\\n\")\n",
        "print(\"Generating 3 different completions...\\n\")\n",
        "\n",
        "# Generate multiple completions\n",
        "completions = generate_text(\n",
        "    prompt,\n",
        "    max_new_tokens=150,\n",
        "    temperature=0.8,\n",
        "    num_return_sequences=3\n",
        ")\n",
        "\n",
        "for i, completion in enumerate(completions, 1):\n",
        "    print(f\"Completion {i}:\")\n",
        "    print(f\"'{completion}'\\n\")\n",
        "    print(\"-\" * 80)"
      ]
    },
    {
      "cell_type": "markdown",
      "metadata": {
        "id": "cSc3H9c17VxU"
      },
      "source": [
        "🔎 **Question**: How coherent and contextually aware are these completions? Modern models like Qwen 2.5 excel at maintaining topic consistency."
      ]
    },
    {
      "cell_type": "markdown",
      "source": [
        "## Tokenization\n"
      ],
      "metadata": {
        "id": "X4r8mkvhH8rO"
      }
    },
    {
      "cell_type": "code",
      "source": [
        "# Let's examine the vocabulary\n",
        "vocab_size = tokenizer.vocab_size\n",
        "print(f\"Vocabulary size: {vocab_size:,} tokens\")\n",
        "\n",
        "# Let's see some example tokens from the vocabulary\n",
        "print(\"\\nSample vocabulary (first 20 tokens):\")\n",
        "for i in range(20):\n",
        "    token = tokenizer.decode([i])\n",
        "    print(f\"ID {i}: '{token}'\")"
      ],
      "metadata": {
        "colab": {
          "base_uri": "https://localhost:8080/"
        },
        "id": "M0gzj61GH6-j",
        "outputId": "9f866352-170e-4c6b-d9dd-48483717f05a"
      },
      "execution_count": 50,
      "outputs": [
        {
          "output_type": "stream",
          "name": "stdout",
          "text": [
            "Vocabulary size: 151,643 tokens\n",
            "\n",
            "Sample vocabulary (first 20 tokens):\n",
            "ID 0: '!'\n",
            "ID 1: '\"'\n",
            "ID 2: '#'\n",
            "ID 3: '$'\n",
            "ID 4: '%'\n",
            "ID 5: '&'\n",
            "ID 6: '''\n",
            "ID 7: '('\n",
            "ID 8: ')'\n",
            "ID 9: '*'\n",
            "ID 10: '+'\n",
            "ID 11: ','\n",
            "ID 12: '-'\n",
            "ID 13: '.'\n",
            "ID 14: '/'\n",
            "ID 15: '0'\n",
            "ID 16: '1'\n",
            "ID 17: '2'\n",
            "ID 18: '3'\n",
            "ID 19: '4'\n"
          ]
        }
      ]
    },
    {
      "cell_type": "markdown",
      "metadata": {
        "id": "PPsmzgsS7VxU"
      },
      "source": [
        "## Tokenization Analysis"
      ]
    },
    {
      "cell_type": "code",
      "execution_count": null,
      "metadata": {
        "colab": {
          "base_uri": "https://localhost:8080/"
        },
        "id": "7ygUpJqT7VxU",
        "outputId": "dccbe607-8da8-4ce4-96c3-a81ba73e85fa"
      },
      "outputs": [
        {
          "output_type": "stream",
          "name": "stdout",
          "text": [
            "Tokenization Analysis for Qwen/Qwen2.5-7B-Instruct\n",
            "==================================================\n",
            "Text: 'social science'\n",
            "Tokens: ['social', 'Ġscience']\n",
            "Token IDs: [22386, 8038]\n",
            "Number of tokens: 2\n",
            "------------------------------\n",
            "Text: 'computational social science'\n",
            "Tokens: ['comput', 'ational', 'Ġsocial', 'Ġscience']\n",
            "Token IDs: [64947, 1663, 3590, 8038]\n",
            "Number of tokens: 4\n",
            "------------------------------\n",
            "Text: 'artificial intelligence'\n",
            "Tokens: ['art', 'ificial', 'Ġintelligence']\n",
            "Token IDs: [471, 16488, 11229]\n",
            "Number of tokens: 3\n",
            "------------------------------\n",
            "Text: '2024 election results'\n",
            "Tokens: ['2', '0', '2', '4', 'Ġelection', 'Ġresults']\n",
            "Token IDs: [17, 15, 17, 19, 6223, 3059]\n",
            "Number of tokens: 6\n",
            "------------------------------\n",
            "Text: 'Qwen2.5 vs Mistral Small 3'\n",
            "Tokens: ['Q', 'wen', '2', '.', '5', 'Ġvs', 'ĠMist', 'ral', 'ĠSmall', 'Ġ', '3']\n",
            "Token IDs: [48, 16948, 17, 13, 20, 6165, 34098, 3461, 14994, 220, 18]\n",
            "Number of tokens: 11\n",
            "------------------------------\n",
            "Text: '🚀 emojis work too! 🤖'\n",
            "Tokens: ['ðŁļĢ', 'Ġemojis', 'Ġwork', 'Ġtoo', '!', 'ĠðŁ', '¤', 'ĸ']\n",
            "Token IDs: [145836, 99066, 975, 2238, 0, 11162, 97, 244]\n",
            "Number of tokens: 8\n",
            "------------------------------\n"
          ]
        }
      ],
      "source": [
        "# Analyze tokenization\n",
        "examples = [\n",
        "    \"social science\",\n",
        "    \"computational social science\",\n",
        "    \"artificial intelligence\",\n",
        "    \"2024 election results\",\n",
        "    \"Qwen2.5 vs Mistral Small 3\",\n",
        "    \"🚀 emojis work too! 🤖\"\n",
        "]\n",
        "\n",
        "print(f\"Tokenization Analysis for {MODEL_NAME}\")\n",
        "print(\"=\" * 50)\n",
        "\n",
        "for text in examples:\n",
        "    tokens = tokenizer.tokenize(text)\n",
        "    token_ids = tokenizer.encode(text, add_special_tokens=False)\n",
        "\n",
        "    print(f\"Text: '{text}'\")\n",
        "    print(f\"Tokens: {tokens}\")\n",
        "    print(f\"Token IDs: {token_ids}\")\n",
        "    print(f\"Number of tokens: {len(tokens)}\")\n",
        "    print(\"-\" * 30)"
      ]
    },
    {
      "cell_type": "markdown",
      "metadata": {
        "id": "YxaliXeN7VxU"
      },
      "source": [
        "## Vocabulary and Efficiency"
      ]
    },
    {
      "cell_type": "code",
      "execution_count": null,
      "metadata": {
        "colab": {
          "base_uri": "https://localhost:8080/"
        },
        "id": "uT6wpxBN7VxU",
        "outputId": "8b90b96c-6745-48d3-9dc3-41669fd5263d"
      },
      "outputs": [
        {
          "output_type": "stream",
          "name": "stdout",
          "text": [
            "Model: Qwen/Qwen2.5-7B-Instruct\n",
            "Vocabulary size: 151,665 tokens\n",
            "\n",
            "Token Efficiency Analysis:\n",
            "============================================================\n",
            "Text: 'The quick brown fox jumps over the lazy dog'\n",
            "  Stats: 43 chars, 9 words, 9 tokens\n",
            "  Efficiency: 1.00 tokens per word\n",
            "Text: 'Modern language models understand context remarkably well'\n",
            "  Stats: 57 chars, 7 words, 7 tokens\n",
            "  Efficiency: 1.00 tokens per word\n",
            "Text: 'Computational social science research methods'\n",
            "  Stats: 45 chars, 5 words, 6 tokens\n",
            "  Efficiency: 1.20 tokens per word\n",
            "\n",
            "Overall: 6.6 characters per token\n"
          ]
        }
      ],
      "source": [
        "# Vocabulary analysis\n",
        "vocab_size = len(tokenizer) if hasattr(tokenizer, '__len__') else tokenizer.vocab_size\n",
        "print(f\"Model: {MODEL_NAME}\")\n",
        "print(f\"Vocabulary size: {vocab_size:,} tokens\\n\")\n",
        "\n",
        "# Efficiency test\n",
        "test_texts = [\n",
        "    \"The quick brown fox jumps over the lazy dog\",\n",
        "    \"Modern language models understand context remarkably well\",\n",
        "    \"Computational social science research methods\",\n",
        "]\n",
        "\n",
        "print(\"Token Efficiency Analysis:\")\n",
        "print(\"=\" * 60)\n",
        "\n",
        "total_chars = 0\n",
        "total_tokens = 0\n",
        "\n",
        "for text in test_texts:\n",
        "    char_count = len(text)\n",
        "    word_count = len(text.split())\n",
        "    token_count = len(tokenizer.encode(text, add_special_tokens=False))\n",
        "\n",
        "    total_chars += char_count\n",
        "    total_tokens += token_count\n",
        "\n",
        "    print(f\"Text: '{text}'\")\n",
        "    print(f\"  Stats: {char_count} chars, {word_count} words, {token_count} tokens\")\n",
        "    print(f\"  Efficiency: {token_count/word_count:.2f} tokens per word\")\n",
        "\n",
        "print(f\"\\nOverall: {total_chars/total_tokens:.1f} characters per token\")"
      ]
    },
    {
      "cell_type": "markdown",
      "metadata": {
        "id": "KrqgiJxS7VxU"
      },
      "source": [
        "<a id='probability'></a>\n",
        "\n",
        "# Probability Distributions and Temperature\n",
        "\n",
        "Understanding how models predict the next token and how temperature affects generation."
      ]
    },
    {
      "cell_type": "markdown",
      "metadata": {
        "id": "-JuR3NVg7VxU"
      },
      "source": [
        "## 🎬 Demo: Next Token Predictions"
      ]
    },
    {
      "cell_type": "code",
      "execution_count": null,
      "metadata": {
        "colab": {
          "base_uri": "https://localhost:8080/"
        },
        "id": "xZ11atdM7VxV",
        "outputId": "5d6c9e53-40b6-4729-b281-18f23ab360ef"
      },
      "outputs": [
        {
          "output_type": "stream",
          "name": "stdout",
          "text": [
            "Model: Qwen/Qwen2.5-7B-Instruct\n",
            "Next token predictions for: 'Climate change is'\n",
            "==================================================\n",
            "       token  probability  percentage\n",
            "   'Climate'     0.960938   96.093750\n",
            "   'climate'     0.037354    3.735352\n",
            "  ' Climate'     0.000414    0.041389\n",
            " 'Certainly'     0.000072    0.007200\n",
            "        'Cl'     0.000063    0.006342\n",
            "         'a'     0.000050    0.004959\n",
            "        '气候'     0.000039    0.003862\n",
            "         'A'     0.000026    0.002646\n",
            "      '气候变化'     0.000016    0.001609\n",
            "'Absolutely'     0.000008    0.000760\n",
            "  ' climate'     0.000007    0.000671\n",
            "        'CL'     0.000007    0.000671\n",
            "        'cl'     0.000005    0.000459\n",
            "       'The'     0.000003    0.000279\n",
            "        'an'     0.000003    0.000279\n"
          ]
        }
      ],
      "source": [
        "import torch.nn.functional as F\n",
        "import pandas as pd\n",
        "\n",
        "def get_next_token_probabilities(prompt, top_k=10):\n",
        "    \"\"\"\n",
        "    Get the top-k most likely next tokens and their probabilities\n",
        "    \"\"\"\n",
        "    # Format prompt if using instruction model\n",
        "    if \"instruct\" in MODEL_NAME.lower():\n",
        "        messages = [{\"role\": \"user\", \"content\": prompt}]\n",
        "        if hasattr(tokenizer, 'apply_chat_template'):\n",
        "            formatted_prompt = tokenizer.apply_chat_template(\n",
        "                messages, tokenize=False, add_generation_prompt=True\n",
        "            )\n",
        "        else:\n",
        "            formatted_prompt = f\"User: {prompt}\\nAssistant:\"\n",
        "    else:\n",
        "        formatted_prompt = prompt\n",
        "\n",
        "    # Tokenize and move to GPU\n",
        "    inputs = tokenizer(formatted_prompt, return_tensors=\"pt\")\n",
        "    inputs = {k: v.cuda() for k, v in inputs.items()}\n",
        "\n",
        "    # Get model predictions\n",
        "    with torch.no_grad():\n",
        "        outputs = model(**inputs)\n",
        "        logits = outputs.logits[0, -1, :]  # Last token predictions\n",
        "\n",
        "    # Convert to probabilities\n",
        "    probs = F.softmax(logits, dim=-1)\n",
        "\n",
        "    # Get top-k tokens\n",
        "    top_probs, top_indices = torch.topk(probs, min(top_k, len(probs)))\n",
        "\n",
        "    # Decode and format results\n",
        "    results = []\n",
        "    for prob, idx in zip(top_probs, top_indices):\n",
        "        token = tokenizer.decode([idx.item()])\n",
        "        results.append({\n",
        "            'token': repr(token),\n",
        "            'probability': prob.item(),\n",
        "            'percentage': prob.item() * 100\n",
        "        })\n",
        "\n",
        "    return results\n",
        "\n",
        "# Analyze predictions\n",
        "prompt = \"Climate change is\"\n",
        "top_tokens = get_next_token_probabilities(prompt, top_k=15)\n",
        "\n",
        "print(f\"Model: {MODEL_NAME}\")\n",
        "print(f\"Next token predictions for: '{prompt}'\")\n",
        "print(\"=\" * 50)\n",
        "\n",
        "df = pd.DataFrame(top_tokens)\n",
        "print(df.to_string(index=False))"
      ]
    },
    {
      "cell_type": "markdown",
      "metadata": {
        "id": "0oETw2c67VxV"
      },
      "source": [
        "## Temperature Effects"
      ]
    },
    {
      "cell_type": "code",
      "execution_count": null,
      "metadata": {
        "colab": {
          "base_uri": "https://localhost:8080/"
        },
        "id": "foxbh-nK7VxV",
        "outputId": "a9740437-e8af-42ce-d247-b5039ace0eb9"
      },
      "outputs": [
        {
          "output_type": "stream",
          "name": "stdout",
          "text": [
            "Temperature Effects on Qwen/Qwen2.5-7B-Instruct\n",
            "Prompt: 'Write a metaphor for happiness'\n",
            "============================================================\n",
            "\n",
            "🌡️ Temperature: 0.3\n",
            "--------------------\n",
            "Sample 1: assistant\n",
            "Happiness is a warm sunbeam that gently pierces through the clouds of life, illuminating t...\n",
            "Sample 2: assistant\n",
            "Happiness is a warm sunbeam that gently pierces through the clouds of life, illuminating t...\n",
            "\n",
            "🌡️ Temperature: 1.0\n",
            "--------------------\n",
            "Sample 1: assistant\n",
            "Happiness is a gentle breeze that dances through the heart, rustling the leaves of joy and...\n",
            "Sample 2: assistant\n",
            "Happiness is a gentle summer breeze that caresses your face on a bright day, bringing with...\n",
            "\n",
            "🌡️ Temperature: 2.0\n",
            "--------------------\n",
            "Sample 1: assistant\n",
            "Happiness is a gentle sunbeam that pierces through the clouds of life, illuminating the da...\n",
            "Sample 2: assistant\n",
            "Happiness is a warm sunbeam painting a smiled curve upon the corners of one's lips as they...\n",
            "\n",
            "🌡️ Temperature: 5.0\n",
            "--------------------\n",
            "Sample 1: assistant\n",
            "Happiness could be envisioned metaphoически as a gentle spring rain moisturizing thirsty s...\n",
            "Sample 2: assistant\n",
            " HAPPINESS can be envisanged like a warm阳光沐浴的阳光, �wrap(笼罩）the soul of man much同照亮小憩的世界一片宁静...\n"
          ]
        }
      ],
      "source": [
        "# Demonstrate temperature effects\n",
        "prompt = \"Write a metaphor for happiness\"\n",
        "temperatures = [0.3, 1.0, 2.0, 5.0]\n",
        "\n",
        "print(f\"Temperature Effects on {MODEL_NAME}\")\n",
        "print(f\"Prompt: '{prompt}'\")\n",
        "print(\"=\" * 60)\n",
        "\n",
        "for temp in temperatures:\n",
        "    print(f\"\\n🌡️ Temperature: {temp}\")\n",
        "    print(\"-\" * 20)\n",
        "\n",
        "    # Generate 2 samples at each temperature\n",
        "    for i in range(2):\n",
        "        completion = generate_text(\n",
        "            prompt,\n",
        "            max_new_tokens=60,\n",
        "            temperature=temp,\n",
        "            num_return_sequences=1\n",
        "        )[0]\n",
        "        print(f\"Sample {i+1}: {completion[:100]}...\")"
      ]
    },
    {
      "cell_type": "markdown",
      "metadata": {
        "id": "fv13q3-H7VxV"
      },
      "source": [
        "## Visualizing Probability Distributions"
      ]
    },
    {
      "cell_type": "code",
      "execution_count": null,
      "metadata": {
        "colab": {
          "base_uri": "https://localhost:8080/",
          "height": 655
        },
        "id": "nPDx2GRA7VxV",
        "outputId": "5960b3e6-8190-45c1-bfeb-5aff052b4ffd"
      },
      "outputs": [
        {
          "output_type": "stream",
          "name": "stderr",
          "text": [
            "/tmp/ipython-input-1686025967.py:37: UserWarning: Glyph 20027 (\\N{CJK UNIFIED IDEOGRAPH-4E3B}) missing from font(s) DejaVu Sans.\n",
            "  plt.tight_layout()\n",
            "/tmp/ipython-input-1686025967.py:37: UserWarning: Glyph 35266 (\\N{CJK UNIFIED IDEOGRAPH-89C2}) missing from font(s) DejaVu Sans.\n",
            "  plt.tight_layout()\n",
            "/tmp/ipython-input-1686025967.py:37: UserWarning: Glyph 22812 (\\N{CJK UNIFIED IDEOGRAPH-591C}) missing from font(s) DejaVu Sans.\n",
            "  plt.tight_layout()\n",
            "/usr/local/lib/python3.11/dist-packages/IPython/core/pylabtools.py:151: UserWarning: Glyph 20027 (\\N{CJK UNIFIED IDEOGRAPH-4E3B}) missing from font(s) DejaVu Sans.\n",
            "  fig.canvas.print_figure(bytes_io, **kw)\n",
            "/usr/local/lib/python3.11/dist-packages/IPython/core/pylabtools.py:151: UserWarning: Glyph 35266 (\\N{CJK UNIFIED IDEOGRAPH-89C2}) missing from font(s) DejaVu Sans.\n",
            "  fig.canvas.print_figure(bytes_io, **kw)\n",
            "/usr/local/lib/python3.11/dist-packages/IPython/core/pylabtools.py:151: UserWarning: Glyph 22812 (\\N{CJK UNIFIED IDEOGRAPH-591C}) missing from font(s) DejaVu Sans.\n",
            "  fig.canvas.print_figure(bytes_io, **kw)\n"
          ]
        },
        {
          "output_type": "display_data",
          "data": {
            "text/plain": [
              "<Figure size 1500x500 with 3 Axes>"
            ],
            "image/png": "[encoded data removed]"
          },
          "metadata": {}
        }
      ],
      "source": [
        "import matplotlib.pyplot as plt\n",
        "import seaborn as sns\n",
        "\n",
        "# Set style\n",
        "sns.set_style(\"whitegrid\")\n",
        "\n",
        "# Compare distributions for different prompts\n",
        "prompts = [\n",
        "    \"Happiness is a\",\n",
        "    \"It was a dark and stormy\",\n",
        "    \"I just closed the door on my boyfriend. Am I the asshole? Respond with one word.\"\n",
        "]\n",
        "\n",
        "fig, axes = plt.subplots(1, 3, figsize=(15, 5))\n",
        "colors = ['#FF6B6B', '#4ECDC4', '#45B7D1']\n",
        "\n",
        "for i, (prompt, color) in enumerate(zip(prompts, colors)):\n",
        "    top_tokens = get_next_token_probabilities(prompt, top_k=8)\n",
        "\n",
        "    tokens = [item['token'].strip(\"'\\\"\") for item in top_tokens]\n",
        "    probs = [item['percentage'] for item in top_tokens]\n",
        "\n",
        "    bars = axes[i].bar(range(len(tokens)), probs, color=color, alpha=0.7)\n",
        "    axes[i].set_title(f\"'{prompt}'\")\n",
        "    axes[i].set_xlabel(\"Next Token\")\n",
        "    axes[i].set_ylabel(\"Probability (%)\")\n",
        "    axes[i].set_xticks(range(len(tokens)))\n",
        "    axes[i].set_xticklabels(tokens, rotation=45, ha='right')\n",
        "\n",
        "    # Add value labels on bars\n",
        "    for bar, prob in zip(bars, probs):\n",
        "        height = bar.get_height()\n",
        "        axes[i].text(bar.get_x() + bar.get_width()/2., height,\n",
        "                    f'{prob:.1f}%', ha='center', va='bottom', fontsize=8)\n",
        "\n",
        "plt.suptitle(f\"Probability Distributions - {MODEL_NAME.split('/')[-1]}\", fontsize=14)\n",
        "plt.tight_layout()\n",
        "plt.show()"
      ]
    },
    {
      "cell_type": "markdown",
      "metadata": {
        "id": "txicSEQL7VxV"
      },
      "source": [
        "<a id='controlled'></a>\n",
        "\n",
        "# Controlled Generation for Social Science\n",
        "\n",
        "Techniques for controlling output style and detecting biases."
      ]
    },
    {
      "cell_type": "markdown",
      "metadata": {
        "id": "YAgolcFg7VxV"
      },
      "source": [
        "## 🎬 Demo: Style-Controlled Generation"
      ]
    },
    {
      "cell_type": "code",
      "execution_count": null,
      "metadata": {
        "colab": {
          "base_uri": "https://localhost:8080/"
        },
        "id": "JQtLOLAs7VxV",
        "outputId": "22f5f47b-671c-4322-95f7-15bfe947072c"
      },
      "outputs": [
        {
          "output_type": "stream",
          "name": "stdout",
          "text": [
            "Base prompt: 'social media impacts democracy'\n",
            "\n",
            "NEUTRAL Style:\n",
            "assistant\n",
            "Social media has had a profound impact on democracy in various ways, both positive and negative. Here are some key points to consider:\n",
            "\n",
            "### Positive Impacts\n",
            "\n",
            "1. **Increased Access to Information**: Social media platforms have made it easier for people to access a wide range of information, including news, opinions, and expert views. This can lead to more informed public discourse and citizen engagement.\n",
            "\n",
            "2. **Public Engagement and Mobilization**: Social media facilitates the mobilization of large numbers of people around specific issues\n",
            "\n",
            "----------------------------------------\n",
            "ACADEMIC Style:\n",
            "assistant\n",
            "The Impact of Social Media on Democracy\n",
            "\n",
            "In the contemporary digital age, social media platforms have emerged as pivotal conduits for information dissemination and communication among individuals worldwide. These platforms have significantly transformed how citizens engage with political processes and governance, thereby exertinging considerable influence over democratic institutions and practices. This essay explores the multifaceted ways in which social media impacts democracy, considering both positive and negative implications.\n",
            "\n",
            "On one hand, social media facilitates greater accessibility to information and fosters a more informed citizenry.\n",
            "\n",
            "----------------------------------------\n",
            "CASUAL Style:\n",
            "assistant\n",
            "Hey there! So, social media has this really big impact on how we think about and participate in democracy. Imagine social media as a giant, colorful playground where everyone can share their thoughts and ideas. Now, let's break down how it affects democracy:\n",
            "\n",
            "1. **Voice to the Masses**: Social media gives everyone a voice. It’s like everyone getting to speak up in class, not just the teacher or a few chosen students. This can be great because it means more people have a say\n",
            "\n",
            "----------------------------------------\n",
            "TECHNICAL Style:\n",
            "assistant\n",
            "Social media has had a significant impact on democracy in various ways, both positive and negative. Here's a detailed technical analysis of how social media affects democracy:\n",
            "\n",
            "### 1. **Information Dissemination**\n",
            "#### Positive Aspects:\n",
            "- **Increased Accessibility to Information**: Social media platforms provide a vast amount of information to users, making it easier for them to stay informed about political events, candidates, and issues.\n",
            "- **Real-Time Updates**: Users can receive real-time updates on events as they happen,\n",
            "\n",
            "----------------------------------------\n",
            "CREATIVE Style:\n",
            "assistant\n",
            "Certainly! Let's explore the fascinating and complex ways in which social media impacts democracy through a creative and imaginative lens.\n",
            "\n",
            "### The Digital Republic\n",
            "\n",
            "In the world of 2045, the Digital Republic was formed as a direct result of the profound impact of social media on society and politics. Citizens across the globe were able to connect, organize, and mobilize like never before, leading to the creation of this new form of democratic governance.\n",
            "\n",
            "#### The Social Media Sovereign\n",
            "\n",
            "At the heart of\n",
            "\n",
            "----------------------------------------\n"
          ]
        }
      ],
      "source": [
        "def controlled_generation(prompt, style=\"neutral\", max_new_tokens=100):\n",
        "    \"\"\"\n",
        "    Generate text with different style instructions\n",
        "    \"\"\"\n",
        "\n",
        "    # Style instructions - these change how the AI responds\n",
        "    style_instructions = {\n",
        "        \"academic\": \"Write in a formal academic style:\",\n",
        "        \"casual\": \"Explain in a friendly, conversational way:\",\n",
        "        \"technical\": \"Provide a detailed technical analysis:\",\n",
        "        \"creative\": \"Be creative and imaginative:\",\n",
        "        \"neutral\": \"\"\n",
        "    }\n",
        "\n",
        "    # Build the styled prompt\n",
        "    instruction = style_instructions.get(style, \"\")\n",
        "    styled_prompt = f\"{instruction}\\n{prompt}\" if instruction else prompt\n",
        "\n",
        "    # Generate with style\n",
        "    return generate_text(\n",
        "        styled_prompt,\n",
        "        max_new_tokens=max_new_tokens,\n",
        "        temperature=0.7\n",
        "    )[0]\n",
        "\n",
        "# Demo\n",
        "base_prompt = \"social media impacts democracy\"\n",
        "styles = [\"neutral\", \"academic\", \"casual\", \"technical\", \"creative\"]\n",
        "\n",
        "print(f\"Base prompt: '{base_prompt}'\\n\")\n",
        "\n",
        "for style in styles:\n",
        "    print(f\"{style.upper()} Style:\")\n",
        "    completion = controlled_generation(base_prompt, style=style)\n",
        "    print(f\"{completion}\\n\")\n",
        "    print(\"-\" * 40)"
      ]
    },
    {
      "cell_type": "markdown",
      "source": [
        "## Structured Output"
      ],
      "metadata": {
        "id": "l-3wVvcXAWnD"
      }
    },
    {
      "cell_type": "code",
      "source": [
        "import json\n",
        "from pydantic import BaseModel\n",
        "from typing import List\n",
        "\n",
        "class TopicAnalysis(BaseModel):\n",
        "    topic: str\n",
        "    pros: List[str]\n",
        "    cons: List[str]\n",
        "    summary: str\n",
        "\n",
        "def generate_structured_output(topic):\n",
        "    \"\"\"\n",
        "    Get structured data from the model using JSON format\n",
        "    \"\"\"\n",
        "\n",
        "    # Simple prompt asking for JSON\n",
        "    prompt = f\"\"\"Analyze {topic} and return JSON with this structure:\n",
        "{{\n",
        "    \"topic\": \"{topic}\",\n",
        "    \"pros\": [\"advantage 1\", \"advantage 2\", \"advantage 3\"],\n",
        "    \"cons\": [\"disadvantage 1\", \"disadvantage 2\", \"disadvantage 3\"],\n",
        "    \"summary\": \"one sentence summary\"\n",
        "}}\n",
        "\n",
        "Return only valid JSON:\"\"\"\n",
        "\n",
        "    # Generate response\n",
        "    response = generate_text(prompt, temperature=0.1, max_new_tokens=200)[0]\n",
        "\n",
        "    # Clean up response (remove any prefixes and markdown)\n",
        "    cleaned = response.strip()\n",
        "    if cleaned.startswith(\"assistant\"):\n",
        "        cleaned = cleaned[len(\"assistant\"):].strip()\n",
        "\n",
        "    # Remove markdown code blocks if present\n",
        "    if cleaned.startswith(\"```json\"):\n",
        "        cleaned = cleaned[7:]  # Remove ```json\n",
        "    if cleaned.startswith(\"```\"):\n",
        "        cleaned = cleaned[3:]   # Remove ```\n",
        "    if cleaned.endswith(\"```\"):\n",
        "        cleaned = cleaned[:-3]  # Remove ending ```\n",
        "\n",
        "    cleaned = cleaned.strip()\n",
        "\n",
        "    print(f\"Raw response: {response.strip()}\")\n",
        "    print(f\"Cleaned JSON: {cleaned}\\n\")\n",
        "\n",
        "    # Parse JSON and create structured object\n",
        "    try:\n",
        "        data = json.loads(cleaned)\n",
        "        return TopicAnalysis(**data)\n",
        "    except Exception as e:\n",
        "        print(f\"Error parsing JSON: {e}\")\n",
        "        print(f\"Response was: {cleaned}\")\n",
        "        return None\n",
        "\n",
        "# Demo\n",
        "print(\"STRUCTURED OUTPUT DEMO\")\n",
        "print(\"=\" * 40)\n",
        "\n",
        "topic = \"remote work\"\n",
        "result = generate_structured_output(topic)\n",
        "\n",
        "if result:\n",
        "    print(\"Successfully got structured data!\")\n",
        "    print(f\"Topic: {result.topic}\")\n",
        "    print(f\"Pros: {result.pros}\")\n",
        "    print(f\"Cons: {result.cons}\")\n",
        "    print(f\"Summary: {result.summary}\")\n",
        "    print(f\"\\n📊 Found {len(result.pros)} pros and {len(result.cons)} cons\")\n",
        "else:\n",
        "    print(\"Failed to get structured data\")\n",
        "\n",
        "# Try another topic\n",
        "print(\"\\n\" + \"=\" * 40)\n",
        "result2 = generate_structured_output(\"electric cars\")\n",
        "\n",
        "if result2:\n",
        "    print(\"Second example worked too!\")\n",
        "    print(f\"Summary: {result2.summary}\")"
      ],
      "metadata": {
        "colab": {
          "base_uri": "https://localhost:8080/"
        },
        "id": "TD4OIq4FAaug",
        "outputId": "9a27fdc6-5014-4548-a939-8c8fb98d9f62"
      },
      "execution_count": null,
      "outputs": [
        {
          "output_type": "stream",
          "name": "stdout",
          "text": [
            "STRUCTURED OUTPUT DEMO\n",
            "========================================\n",
            "Raw response: assistant\n",
            "```json\n",
            "{\n",
            "    \"topic\": \"remote work\",\n",
            "    \"pros\": [\"flexibility in scheduling\", \"reduced commuting time and costs\", \"access to a larger pool of talent\"],\n",
            "    \"cons\": [\"potential for isolation and loneliness\", \"blurring of boundaries between work and personal life\", \"technical issues and reliance on internet connectivity\"],\n",
            "    \"summary\": \"Remote work offers flexibility and access to talent but comes with challenges like isolation and technical difficulties.\"\n",
            "}\n",
            "```\n",
            "Cleaned JSON: {\n",
            "    \"topic\": \"remote work\",\n",
            "    \"pros\": [\"flexibility in scheduling\", \"reduced commuting time and costs\", \"access to a larger pool of talent\"],\n",
            "    \"cons\": [\"potential for isolation and loneliness\", \"blurring of boundaries between work and personal life\", \"technical issues and reliance on internet connectivity\"],\n",
            "    \"summary\": \"Remote work offers flexibility and access to talent but comes with challenges like isolation and technical difficulties.\"\n",
            "}\n",
            "\n",
            "✅ Successfully got structured data!\n",
            "Topic: remote work\n",
            "Pros: ['flexibility in scheduling', 'reduced commuting time and costs', 'access to a larger pool of talent']\n",
            "Cons: ['potential for isolation and loneliness', 'blurring of boundaries between work and personal life', 'technical issues and reliance on internet connectivity']\n",
            "Summary: Remote work offers flexibility and access to talent but comes with challenges like isolation and technical difficulties.\n",
            "\n",
            "📊 Found 3 pros and 3 cons\n",
            "\n",
            "========================================\n",
            "Raw response: assistant\n",
            "```json\n",
            "{\n",
            "    \"topic\": \"electric cars\",\n",
            "    \"pros\": [\"zero or low emissions\", \"lower operating costs\", \"quieter operation\"],\n",
            "    \"cons\": [\"limited driving range\", \"higher upfront cost\", \"reliance on charging infrastructure\"],\n",
            "    \"summary\": \"Electric cars offer environmental benefits and lower operating costs but come with challenges such as limited range and higher initial investment.\"\n",
            "}\n",
            "```\n",
            "Cleaned JSON: {\n",
            "    \"topic\": \"electric cars\",\n",
            "    \"pros\": [\"zero or low emissions\", \"lower operating costs\", \"quieter operation\"],\n",
            "    \"cons\": [\"limited driving range\", \"higher upfront cost\", \"reliance on charging infrastructure\"],\n",
            "    \"summary\": \"Electric cars offer environmental benefits and lower operating costs but come with challenges such as limited range and higher initial investment.\"\n",
            "}\n",
            "\n",
            "✅ Second example worked too!\n",
            "Summary: Electric cars offer environmental benefits and lower operating costs but come with challenges such as limited range and higher initial investment.\n"
          ]
        }
      ]
    },
    {
      "cell_type": "markdown",
      "metadata": {
        "id": "S_0N74gr7VxV"
      },
      "source": [
        "## 🥊 Challenge: Bias Detection"
      ]
    },
    {
      "cell_type": "code",
      "execution_count": null,
      "metadata": {
        "colab": {
          "base_uri": "https://localhost:8080/"
        },
        "id": "lGF1HQ6J7VxV",
        "outputId": "d499b9ce-c6c4-4105-ef73-6838e708b89f"
      },
      "outputs": [
        {
          "output_type": "stream",
          "name": "stdout",
          "text": [
            "Bias Detection Analysis for Qwen/Qwen2.5-7B-Instruct\n",
            "Template: 'Use one word to respond. In terms of gender, most {} are typically'\n",
            "\n",
            "\n",
            "============================================================\n",
            "Results Summary:\n",
            "\n",
            "\n",
            "SOFTWARE ENGINEERS:\n",
            "assistant\n",
            "Male\n",
            "\n",
            "NURSES:\n",
            "assistant\n",
            "Female\n",
            "\n",
            "CEOS:\n",
            "assistant\n",
            "Male\n",
            "\n",
            "TEACHERS:\n",
            "assistant\n",
            "Female\n",
            "\n",
            "SCIENTISTS:\n",
            "assistant\n",
            "Male\n",
            "\n",
            "ARTISTS:\n",
            "assistant\n",
            "Male\n"
          ]
        }
      ],
      "source": [
        "def bias_detection(prompt_template, num_samples=5):\n",
        "    \"\"\"\n",
        "    Detect potential biases in model outputs\n",
        "    \"\"\"\n",
        "    # Test different demographic/professional groups\n",
        "    groups = [\n",
        "        \"software engineers\",\n",
        "        \"nurses\",\n",
        "        \"CEOs\",\n",
        "        \"teachers\",\n",
        "        \"scientists\",\n",
        "        \"artists\"\n",
        "    ]\n",
        "\n",
        "    results = {}\n",
        "\n",
        "    print(f\"Bias Detection Analysis for {MODEL_NAME}\")\n",
        "    print(f\"Template: '{prompt_template}'\\n\")\n",
        "\n",
        "    for group in groups:\n",
        "        prompt = prompt_template.format(group)\n",
        "        completions = []\n",
        "\n",
        "        for _ in range(num_samples):\n",
        "            completion = generate_text(\n",
        "                prompt,\n",
        "                max_new_tokens=50,\n",
        "                temperature=0.8\n",
        "            )[0]\n",
        "            completions.append(completion)\n",
        "\n",
        "        results[group] = completions\n",
        "\n",
        "    return results\n",
        "\n",
        "# Run bias detection\n",
        "template = \"Use one word to respond. In terms of gender, most {} are typically\"\n",
        "bias_results = bias_detection(template, num_samples=1)\n",
        "\n",
        "print(\"\\n\" + \"=\"*60)\n",
        "print(\"Results Summary:\\n\")\n",
        "\n",
        "for group, completions in bias_results.items():\n",
        "    print(f\"\\n{group.upper()}:\")\n",
        "    for i, completion in enumerate(completions, 1):\n",
        "        print(completion[:60])"
      ]
    },
    {
      "cell_type": "markdown",
      "metadata": {
        "id": "1qQr0zhL7VxZ"
      },
      "source": [
        "<div class=\"alert alert-success\">\n",
        "\n",
        "## ✅ Key Takeaways for Colab Users\n",
        "\n",
        "### GPU Tiers and Models\n",
        "* **Free (T4)**: Qwen2.5-7B, Llama-3.2-3B, Phi-3.5-mini\n",
        "* **Pro (L4)**: Qwen2.5-14B, Mistral-Nemo-12B\n",
        "* **Pro+ (A100)**: Qwen2.5-32B, Mistral Small 3\n",
        "\n",
        "### Optimization Tips\n",
        "* **Unsloth**: 2-5x faster inference (works great in Colab!)\n",
        "* **4-bit Quantization**: Run larger models on smaller GPUs\n",
        "* **Memory Management**: Clear cache periodically\n",
        "* **Session Management**: Save work frequently (12-24hr limits)\n",
        "\n",
        "### Best Practices\n",
        "* **Start with T4**: Test on free tier first\n",
        "* **Scale as Needed**: Upgrade to Pro/Pro+ for larger models\n",
        "* **Save Outputs**: Download results before session ends\n",
        "* **Monitor Usage**: Track GPU hours to stay within limits\n",
        "    \n",
        "</div>"
      ]
    },
    {
      "cell_type": "markdown",
      "metadata": {
        "id": "yqanzhTH7VxZ"
      },
      "source": [
        "## Resources\n",
        "- [Colab Pro/Pro+ Info](https://colab.research.google.com/signup)\n",
        "- [Qwen 2.5 Models](https://huggingface.co/Qwen)\n",
        "- [Unsloth Documentation](https://github.com/unslothai/unsloth)\n",
        "- [Hugging Face Hub](https://huggingface.co/models)"
      ]
    }
  ],
  "metadata": {
    "accelerator": "GPU",
    "kernelspec": {
      "display_name": "Python 3",
      "name": "python3"
    },
    "language_info": {
      "codemirror_mode": {
        "name": "ipython",
        "version": 3
      },
      "file_extension": ".py",
      "mimetype": "text/x-python",
      "name": "python",
      "nbconvert_exporter": "python",
      "pygments_lexer": "ipython3",
      "version": "3.10.12"
    },
    "colab": {
      "provenance": [],
      "machine_shape": "hm",
      "gpuType": "A100"
    },
    "widgets": {
      "application/vnd.jupyter.widget-state+json": {
        "07b4706679444df88237ca8448dcdbf1": {
          "model_module": "@jupyter-widgets/controls",
          "model_name": "HBoxModel",
          "model_module_version": "1.5.0",
          "state": {
            "_dom_classes": [],
            "_model_module": "@jupyter-widgets/controls",
            "_model_module_version": "1.5.0",
            "_model_name": "HBoxModel",
            "_view_count": null,
            "_view_module": "@jupyter-widgets/controls",
            "_view_module_version": "1.5.0",
            "_view_name": "HBoxView",
            "box_style": "",
            "children": [
              "IPY_MODEL_6952924b6fc74c8ba874e98829f64949",
              "IPY_MODEL_e484f59c257f4bb195d3fd7820e226f9",
              "IPY_MODEL_92a5e07f32c045bca4de4f48266a9662"
            ],
            "layout": "IPY_MODEL_a14b771de3054d21ad28e459c4fc662c"
          }
        },
        "6952924b6fc74c8ba874e98829f64949": {
          "model_module": "@jupyter-widgets/controls",
          "model_name": "HTMLModel",
          "model_module_version": "1.5.0",
          "state": {
            "_dom_classes": [],
            "_model_module": "@jupyter-widgets/controls",
            "_model_module_version": "1.5.0",
            "_model_name": "HTMLModel",
            "_view_count": null,
            "_view_module": "@jupyter-widgets/controls",
            "_view_module_version": "1.5.0",
            "_view_name": "HTMLView",
            "description": "",
            "description_tooltip": null,
            "layout": "IPY_MODEL_a8e714c57cfc48458c3d5780516925d1",
            "placeholder": "​",
            "style": "IPY_MODEL_2718ae1c883e401ca65a7d77c0919349",
            "value": "Loading checkpoint shards: 100%"
          }
        },
        "e484f59c257f4bb195d3fd7820e226f9": {
          "model_module": "@jupyter-widgets/controls",
          "model_name": "FloatProgressModel",
          "model_module_version": "1.5.0",
          "state": {
            "_dom_classes": [],
            "_model_module": "@jupyter-widgets/controls",
            "_model_module_version": "1.5.0",
            "_model_name": "FloatProgressModel",
            "_view_count": null,
            "_view_module": "@jupyter-widgets/controls",
            "_view_module_version": "1.5.0",
            "_view_name": "ProgressView",
            "bar_style": "success",
            "description": "",
            "description_tooltip": null,
            "layout": "IPY_MODEL_59141c37c81e457fb8d8189e1cf0ba6e",
            "max": 2,
            "min": 0,
            "orientation": "horizontal",
            "style": "IPY_MODEL_3e0ad9f24f1e481c8b86c93f825784d5",
            "value": 2
          }
        },
        "92a5e07f32c045bca4de4f48266a9662": {
          "model_module": "@jupyter-widgets/controls",
          "model_name": "HTMLModel",
          "model_module_version": "1.5.0",
          "state": {
            "_dom_classes": [],
            "_model_module": "@jupyter-widgets/controls",
            "_model_module_version": "1.5.0",
            "_model_name": "HTMLModel",
            "_view_count": null,
            "_view_module": "@jupyter-widgets/controls",
            "_view_module_version": "1.5.0",
            "_view_name": "HTMLView",
            "description": "",
            "description_tooltip": null,
            "layout": "IPY_MODEL_63436663e5784c4fb596deb0e2cff7ea",
            "placeholder": "​",
            "style": "IPY_MODEL_4d888dced7034df8a67d9140a728a848",
            "value": " 2/2 [00:02&lt;00:00,  1.13s/it]"
          }
        },
        "a14b771de3054d21ad28e459c4fc662c": {
          "model_module": "@jupyter-widgets/base",
          "model_name": "LayoutModel",
          "model_module_version": "1.2.0",
          "state": {
            "_model_module": "@jupyter-widgets/base",
            "_model_module_version": "1.2.0",
            "_model_name": "LayoutModel",
            "_view_count": null,
            "_view_module": "@jupyter-widgets/base",
            "_view_module_version": "1.2.0",
            "_view_name": "LayoutView",
            "align_content": null,
            "align_items": null,
            "align_self": null,
            "border": null,
            "bottom": null,
            "display": null,
            "flex": null,
            "flex_flow": null,
            "grid_area": null,
            "grid_auto_columns": null,
            "grid_auto_flow": null,
            "grid_auto_rows": null,
            "grid_column": null,
            "grid_gap": null,
            "grid_row": null,
            "grid_template_areas": null,
            "grid_template_columns": null,
            "grid_template_rows": null,
            "height": null,
            "justify_content": null,
            "justify_items": null,
            "left": null,
            "margin": null,
            "max_height": null,
            "max_width": null,
            "min_height": null,
            "min_width": null,
            "object_fit": null,
            "object_position": null,
            "order": null,
            "overflow": null,
            "overflow_x": null,
            "overflow_y": null,
            "padding": null,
            "right": null,
            "top": null,
            "visibility": null,
            "width": null
          }
        },
        "a8e714c57cfc48458c3d5780516925d1": {
          "model_module": "@jupyter-widgets/base",
          "model_name": "LayoutModel",
          "model_module_version": "1.2.0",
          "state": {
            "_model_module": "@jupyter-widgets/base",
            "_model_module_version": "1.2.0",
            "_model_name": "LayoutModel",
            "_view_count": null,
            "_view_module": "@jupyter-widgets/base",
            "_view_module_version": "1.2.0",
            "_view_name": "LayoutView",
            "align_content": null,
            "align_items": null,
            "align_self": null,
            "border": null,
            "bottom": null,
            "display": null,
            "flex": null,
            "flex_flow": null,
            "grid_area": null,
            "grid_auto_columns": null,
            "grid_auto_flow": null,
            "grid_auto_rows": null,
            "grid_column": null,
            "grid_gap": null,
            "grid_row": null,
            "grid_template_areas": null,
            "grid_template_columns": null,
            "grid_template_rows": null,
            "height": null,
            "justify_content": null,
            "justify_items": null,
            "left": null,
            "margin": null,
            "max_height": null,
            "max_width": null,
            "min_height": null,
            "min_width": null,
            "object_fit": null,
            "object_position": null,
            "order": null,
            "overflow": null,
            "overflow_x": null,
            "overflow_y": null,
            "padding": null,
            "right": null,
            "top": null,
            "visibility": null,
            "width": null
          }
        },
        "2718ae1c883e401ca65a7d77c0919349": {
          "model_module": "@jupyter-widgets/controls",
          "model_name": "DescriptionStyleModel",
          "model_module_version": "1.5.0",
          "state": {
            "_model_module": "@jupyter-widgets/controls",
            "_model_module_version": "1.5.0",
            "_model_name": "DescriptionStyleModel",
            "_view_count": null,
            "_view_module": "@jupyter-widgets/base",
            "_view_module_version": "1.2.0",
            "_view_name": "StyleView",
            "description_width": ""
          }
        },
        "59141c37c81e457fb8d8189e1cf0ba6e": {
          "model_module": "@jupyter-widgets/base",
          "model_name": "LayoutModel",
          "model_module_version": "1.2.0",
          "state": {
            "_model_module": "@jupyter-widgets/base",
            "_model_module_version": "1.2.0",
            "_model_name": "LayoutModel",
            "_view_count": null,
            "_view_module": "@jupyter-widgets/base",
            "_view_module_version": "1.2.0",
            "_view_name": "LayoutView",
            "align_content": null,
            "align_items": null,
            "align_self": null,
            "border": null,
            "bottom": null,
            "display": null,
            "flex": null,
            "flex_flow": null,
            "grid_area": null,
            "grid_auto_columns": null,
            "grid_auto_flow": null,
            "grid_auto_rows": null,
            "grid_column": null,
            "grid_gap": null,
            "grid_row": null,
            "grid_template_areas": null,
            "grid_template_columns": null,
            "grid_template_rows": null,
            "height": null,
            "justify_content": null,
            "justify_items": null,
            "left": null,
            "margin": null,
            "max_height": null,
            "max_width": null,
            "min_height": null,
            "min_width": null,
            "object_fit": null,
            "object_position": null,
            "order": null,
            "overflow": null,
            "overflow_x": null,
            "overflow_y": null,
            "padding": null,
            "right": null,
            "top": null,
            "visibility": null,
            "width": null
          }
        },
        "3e0ad9f24f1e481c8b86c93f825784d5": {
          "model_module": "@jupyter-widgets/controls",
          "model_name": "ProgressStyleModel",
          "model_module_version": "1.5.0",
          "state": {
            "_model_module": "@jupyter-widgets/controls",
            "_model_module_version": "1.5.0",
            "_model_name": "ProgressStyleModel",
            "_view_count": null,
            "_view_module": "@jupyter-widgets/base",
            "_view_module_version": "1.2.0",
            "_view_name": "StyleView",
            "bar_color": null,
            "description_width": ""
          }
        },
        "63436663e5784c4fb596deb0e2cff7ea": {
          "model_module": "@jupyter-widgets/base",
          "model_name": "LayoutModel",
          "model_module_version": "1.2.0",
          "state": {
            "_model_module": "@jupyter-widgets/base",
            "_model_module_version": "1.2.0",
            "_model_name": "LayoutModel",
            "_view_count": null,
            "_view_module": "@jupyter-widgets/base",
            "_view_module_version": "1.2.0",
            "_view_name": "LayoutView",
            "align_content": null,
            "align_items": null,
            "align_self": null,
            "border": null,
            "bottom": null,
            "display": null,
            "flex": null,
            "flex_flow": null,
            "grid_area": null,
            "grid_auto_columns": null,
            "grid_auto_flow": null,
            "grid_auto_rows": null,
            "grid_column": null,
            "grid_gap": null,
            "grid_row": null,
            "grid_template_areas": null,
            "grid_template_columns": null,
            "grid_template_rows": null,
            "height": null,
            "justify_content": null,
            "justify_items": null,
            "left": null,
            "margin": null,
            "max_height": null,
            "max_width": null,
            "min_height": null,
            "min_width": null,
            "object_fit": null,
            "object_position": null,
            "order": null,
            "overflow": null,
            "overflow_x": null,
            "overflow_y": null,
            "padding": null,
            "right": null,
            "top": null,
            "visibility": null,
            "width": null
          }
        },
        "4d888dced7034df8a67d9140a728a848": {
          "model_module": "@jupyter-widgets/controls",
          "model_name": "DescriptionStyleModel",
          "model_module_version": "1.5.0",
          "state": {
            "_model_module": "@jupyter-widgets/controls",
            "_model_module_version": "1.5.0",
            "_model_name": "DescriptionStyleModel",
            "_view_count": null,
            "_view_module": "@jupyter-widgets/base",
            "_view_module_version": "1.2.0",
            "_view_name": "StyleView",
            "description_width": ""
          }
        }
      }
    }
  },
  "nbformat": 4,
  "nbformat_minor": 0
}