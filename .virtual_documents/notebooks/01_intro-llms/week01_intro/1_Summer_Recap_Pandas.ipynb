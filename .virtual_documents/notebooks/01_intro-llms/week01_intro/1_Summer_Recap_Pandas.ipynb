


# Import necessary libraries
import pandas as pd
import numpy as np
import matplotlib.pyplot as plt
import seaborn as sns





# Load the dataset
df = pd.read_csv('../../data/aita_top_submissions.csv')

# Display basic information about the dataset
print(f"Dataset shape: {df.shape}")
print(f"\nColumn names:")
print(df.columns.tolist())


# Display the first few rows
df.head()





# YOUR CODE HERE










# Check for duplicate posts
print(f"Number of duplicate rows: {df.duplicated().sum()}")

# Look at the distribution of some key variables
print(f"\nScore statistics:")
print(df['score'].describe())





# YOUR CODE HERE










# Convert Unix timestamp to datetime
df['created_date'] = pd.to_datetime(df['created'], unit='s')

# Extract useful date components
df['year'] = df['created_date'].dt.year
df['month'] = df['created_date'].dt.month
df['day_of_week'] = df['created_date'].dt.day_name()

print("Date range in dataset:")
print(f"From: {df['created_date'].min()}")
print(f"To: {df['created_date'].max()}")








# YOUR CODE HERE







# Explore the relationship between text length and engagement
correlation = df[['text_length', 'score', 'num_comments']].corr()
print("Correlation matrix:")
print(correlation)








# YOUR CODE HERE










# YOUR CODE HERE










# Analyze posting patterns by author
author_stats = df['author'].value_counts().head(10)
print("Top 10 most active authors:")
print(author_stats)





# YOUR CODE HERE








